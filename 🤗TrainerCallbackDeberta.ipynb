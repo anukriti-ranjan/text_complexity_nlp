{
  "nbformat": 4,
  "nbformat_minor": 0,
  "metadata": {
    "colab": {
      "provenance": []
    },
    "kernelspec": {
      "name": "python3",
      "display_name": "Python 3"
    },
    "language_info": {
      "name": "python"
    },
    "gpuClass": "standard"
  },
  "cells": [
    {
      "cell_type": "code",
      "execution_count": null,
      "metadata": {
        "id": "ekILHL7w5QFY"
      },
      "outputs": [],
      "source": [
        "!pip install sentence-transformers transformers datasets"
      ]
    },
    {
      "cell_type": "code",
      "source": [
        "import numpy as np\n",
        "import pandas as pd\n",
        "import math\n",
        "import itertools\n",
        "import random\n",
        "import torch\n",
        "import os\n",
        "import gzip\n",
        "import json\n",
        "from tqdm import tqdm\n",
        "from torch import nn\n",
        "from torch.utils.data import DataLoader, Dataset\n",
        "from sklearn.model_selection import train_test_split\n",
        "from sklearn.linear_model import Ridge, LinearRegression\n",
        "from sklearn.metrics import mean_squared_error\n",
        "from sentence_transformers import SentenceTransformer, util, losses, models\n",
        "from transformers import AutoConfig, AutoTokenizer, AutoModelForSequenceClassification, Trainer, TrainingArguments\n",
        "from transformers import AutoModelForMaskedLM, DataCollatorForWholeWordMask, DataCollatorForLanguageModeling, pipeline\n",
        "from transformers import AdamW, get_linear_schedule_with_warmup, TrainerCallback\n",
        "from sklearn.model_selection import StratifiedKFold\n",
        "import shutil\n",
        "from datasets import load_metric\n",
        "import gc\n",
        "gc.enable()\n",
        "from sklearn.svm import SVR, LinearSVR\n",
        "from sklearn.kernel_ridge import KernelRidge\n",
        "from sklearn.ensemble import GradientBoostingRegressor\n",
        "from sklearn.linear_model import Lasso, BayesianRidge, Perceptron, SGDRegressor"
      ],
      "metadata": {
        "id": "D-rnqe515UKn"
      },
      "execution_count": null,
      "outputs": []
    },
    {
      "cell_type": "code",
      "source": [
        "df=pd.read_csv(\"/content/common_lit_data.csv\",encoding=\"cp1252\")"
      ],
      "metadata": {
        "id": "FRpp25RB5UNY"
      },
      "execution_count": null,
      "outputs": []
    },
    {
      "cell_type": "code",
      "source": [
        "df.head()"
      ],
      "metadata": {
        "colab": {
          "base_uri": "https://localhost:8080/",
          "height": 354
        },
        "id": "bVRgrNsD5URI",
        "outputId": "2cadb81b-9459-41e8-b1f1-378b3a25738f"
      },
      "execution_count": null,
      "outputs": [
        {
          "output_type": "execute_result",
          "data": {
            "text/plain": [
              "                                               Title  \\\n",
              "0                                    Patty's Suitors   \n",
              "1                      Two Little Women on a Holiday   \n",
              "2                                      Patty Blossom   \n",
              "3     THE WATER-BABIES\\nA Fairy Tale for a Land-Baby   \n",
              "4  HOW THE ARGONAUTS WERE DRIVEN INTO THE UNKNOWN...   \n",
              "\n",
              "                                             Excerpt  BT Easiness Kaggle split  \n",
              "0  When the young people returned to the ballroom...    -0.340259        Train  \n",
              "1  All through dinner time, Mrs. Fayre was somewh...    -0.315372        Train  \n",
              "2  As Roger had predicted, the snow departed as q...    -0.580118        Train  \n",
              "3  Mr. Grimes was to come up next morning to Sir ...    -1.785965         Test  \n",
              "4  And outside before the palace a great garden w...    -1.054013        Train  "
            ],
            "text/html": [
              "\n",
              "  <div id=\"df-6c5e2d6e-3eb6-4aac-8732-c37f6e17bb11\">\n",
              "    <div class=\"colab-df-container\">\n",
              "      <div>\n",
              "<style scoped>\n",
              "    .dataframe tbody tr th:only-of-type {\n",
              "        vertical-align: middle;\n",
              "    }\n",
              "\n",
              "    .dataframe tbody tr th {\n",
              "        vertical-align: top;\n",
              "    }\n",
              "\n",
              "    .dataframe thead th {\n",
              "        text-align: right;\n",
              "    }\n",
              "</style>\n",
              "<table border=\"1\" class=\"dataframe\">\n",
              "  <thead>\n",
              "    <tr style=\"text-align: right;\">\n",
              "      <th></th>\n",
              "      <th>Title</th>\n",
              "      <th>Excerpt</th>\n",
              "      <th>BT Easiness</th>\n",
              "      <th>Kaggle split</th>\n",
              "    </tr>\n",
              "  </thead>\n",
              "  <tbody>\n",
              "    <tr>\n",
              "      <th>0</th>\n",
              "      <td>Patty's Suitors</td>\n",
              "      <td>When the young people returned to the ballroom...</td>\n",
              "      <td>-0.340259</td>\n",
              "      <td>Train</td>\n",
              "    </tr>\n",
              "    <tr>\n",
              "      <th>1</th>\n",
              "      <td>Two Little Women on a Holiday</td>\n",
              "      <td>All through dinner time, Mrs. Fayre was somewh...</td>\n",
              "      <td>-0.315372</td>\n",
              "      <td>Train</td>\n",
              "    </tr>\n",
              "    <tr>\n",
              "      <th>2</th>\n",
              "      <td>Patty Blossom</td>\n",
              "      <td>As Roger had predicted, the snow departed as q...</td>\n",
              "      <td>-0.580118</td>\n",
              "      <td>Train</td>\n",
              "    </tr>\n",
              "    <tr>\n",
              "      <th>3</th>\n",
              "      <td>THE WATER-BABIES\\nA Fairy Tale for a Land-Baby</td>\n",
              "      <td>Mr. Grimes was to come up next morning to Sir ...</td>\n",
              "      <td>-1.785965</td>\n",
              "      <td>Test</td>\n",
              "    </tr>\n",
              "    <tr>\n",
              "      <th>4</th>\n",
              "      <td>HOW THE ARGONAUTS WERE DRIVEN INTO THE UNKNOWN...</td>\n",
              "      <td>And outside before the palace a great garden w...</td>\n",
              "      <td>-1.054013</td>\n",
              "      <td>Train</td>\n",
              "    </tr>\n",
              "  </tbody>\n",
              "</table>\n",
              "</div>\n",
              "      <button class=\"colab-df-convert\" onclick=\"convertToInteractive('df-6c5e2d6e-3eb6-4aac-8732-c37f6e17bb11')\"\n",
              "              title=\"Convert this dataframe to an interactive table.\"\n",
              "              style=\"display:none;\">\n",
              "        \n",
              "  <svg xmlns=\"http://www.w3.org/2000/svg\" height=\"24px\"viewBox=\"0 0 24 24\"\n",
              "       width=\"24px\">\n",
              "    <path d=\"M0 0h24v24H0V0z\" fill=\"none\"/>\n",
              "    <path d=\"M18.56 5.44l.94 2.06.94-2.06 2.06-.94-2.06-.94-.94-2.06-.94 2.06-2.06.94zm-11 1L8.5 8.5l.94-2.06 2.06-.94-2.06-.94L8.5 2.5l-.94 2.06-2.06.94zm10 10l.94 2.06.94-2.06 2.06-.94-2.06-.94-.94-2.06-.94 2.06-2.06.94z\"/><path d=\"M17.41 7.96l-1.37-1.37c-.4-.4-.92-.59-1.43-.59-.52 0-1.04.2-1.43.59L10.3 9.45l-7.72 7.72c-.78.78-.78 2.05 0 2.83L4 21.41c.39.39.9.59 1.41.59.51 0 1.02-.2 1.41-.59l7.78-7.78 2.81-2.81c.8-.78.8-2.07 0-2.86zM5.41 20L4 18.59l7.72-7.72 1.47 1.35L5.41 20z\"/>\n",
              "  </svg>\n",
              "      </button>\n",
              "      \n",
              "  <style>\n",
              "    .colab-df-container {\n",
              "      display:flex;\n",
              "      flex-wrap:wrap;\n",
              "      gap: 12px;\n",
              "    }\n",
              "\n",
              "    .colab-df-convert {\n",
              "      background-color: #E8F0FE;\n",
              "      border: none;\n",
              "      border-radius: 50%;\n",
              "      cursor: pointer;\n",
              "      display: none;\n",
              "      fill: #1967D2;\n",
              "      height: 32px;\n",
              "      padding: 0 0 0 0;\n",
              "      width: 32px;\n",
              "    }\n",
              "\n",
              "    .colab-df-convert:hover {\n",
              "      background-color: #E2EBFA;\n",
              "      box-shadow: 0px 1px 2px rgba(60, 64, 67, 0.3), 0px 1px 3px 1px rgba(60, 64, 67, 0.15);\n",
              "      fill: #174EA6;\n",
              "    }\n",
              "\n",
              "    [theme=dark] .colab-df-convert {\n",
              "      background-color: #3B4455;\n",
              "      fill: #D2E3FC;\n",
              "    }\n",
              "\n",
              "    [theme=dark] .colab-df-convert:hover {\n",
              "      background-color: #434B5C;\n",
              "      box-shadow: 0px 1px 3px 1px rgba(0, 0, 0, 0.15);\n",
              "      filter: drop-shadow(0px 1px 2px rgba(0, 0, 0, 0.3));\n",
              "      fill: #FFFFFF;\n",
              "    }\n",
              "  </style>\n",
              "\n",
              "      <script>\n",
              "        const buttonEl =\n",
              "          document.querySelector('#df-6c5e2d6e-3eb6-4aac-8732-c37f6e17bb11 button.colab-df-convert');\n",
              "        buttonEl.style.display =\n",
              "          google.colab.kernel.accessAllowed ? 'block' : 'none';\n",
              "\n",
              "        async function convertToInteractive(key) {\n",
              "          const element = document.querySelector('#df-6c5e2d6e-3eb6-4aac-8732-c37f6e17bb11');\n",
              "          const dataTable =\n",
              "            await google.colab.kernel.invokeFunction('convertToInteractive',\n",
              "                                                     [key], {});\n",
              "          if (!dataTable) return;\n",
              "\n",
              "          const docLinkHtml = 'Like what you see? Visit the ' +\n",
              "            '<a target=\"_blank\" href=https://colab.research.google.com/notebooks/data_table.ipynb>data table notebook</a>'\n",
              "            + ' to learn more about interactive tables.';\n",
              "          element.innerHTML = '';\n",
              "          dataTable['output_type'] = 'display_data';\n",
              "          await google.colab.output.renderOutput(dataTable, element);\n",
              "          const docLink = document.createElement('div');\n",
              "          docLink.innerHTML = docLinkHtml;\n",
              "          element.appendChild(docLink);\n",
              "        }\n",
              "      </script>\n",
              "    </div>\n",
              "  </div>\n",
              "  "
            ]
          },
          "metadata": {},
          "execution_count": 4
        }
      ]
    },
    {
      "cell_type": "code",
      "source": [
        "df.columns"
      ],
      "metadata": {
        "colab": {
          "base_uri": "https://localhost:8080/"
        },
        "id": "2g8OLl4L5UU4",
        "outputId": "308f05f6-a540-4e8f-9927-055ab2be09e6"
      },
      "execution_count": null,
      "outputs": [
        {
          "output_type": "execute_result",
          "data": {
            "text/plain": [
              "Index(['Title', 'Excerpt', 'BT Easiness', 'Kaggle split'], dtype='object')"
            ]
          },
          "metadata": {},
          "execution_count": 5
        }
      ]
    },
    {
      "cell_type": "code",
      "source": [
        "def prepare_dataset(df_org,n_quantiles,SEED=10):\n",
        "    df=df_org.copy()\n",
        "    _, bins = pd.qcut(df[\"BT Easiness\"],n_quantiles,retbins=True)\n",
        "    bins[len(bins)-1]=np.Inf\n",
        "    df['target_bins'] = pd.cut(df[\"BT Easiness\"], bins, labels=np.arange(0,len(bins)-1),right=False)\n",
        "    df=df[['Excerpt','BT Easiness','target_bins']].sort_values(['target_bins','BT Easiness'])\n",
        "    df['target_bins']=df['target_bins'].map({0:\"Advanced\",1:\"Intermediate\",2:\"Elementary\"})\n",
        "    df['target_bins']=df['target_bins'].map({\"Advanced\":2,\"Intermediate\":1,\"Elementary\":0})\n",
        "    df=df.rename(columns={'Excerpt':'text','target_bins':'label',\"BT Easiness\":\"target_score\"})\n",
        "    df.reset_index(drop=True,inplace=True)\n",
        "    #df_1=df.iloc[0:1000]\n",
        "    #df_2=df.iloc[1800:2800]\n",
        "    #df_3=df.iloc[3500:4500]\n",
        "\n",
        "    #df_4=df.iloc[1000:1200]\n",
        "    #df_5=df.iloc[1600:1850]\n",
        "    #df_6=df.iloc[3300:2550]\n",
        "\n",
        "    #df_train=pd.concat([df_1,df_2,df_3],ignore_index=True)\n",
        "    #df_val=pd.concat([df_4,df_5,df_6],ignore_index=True)\n",
        "\n",
        "    #df_train=df_train.sample(frac=1,random_state=SEED)\n",
        "    #df_val=df_val.sample(frac=1,random_state=SEED)\n",
        "\n",
        "    cols_to_select=[\"text\",\"target_score\",\"label\"]\n",
        "    \n",
        "    return df[cols_to_select]"
      ],
      "metadata": {
        "id": "aXt3lWUM5UYZ"
      },
      "execution_count": null,
      "outputs": []
    },
    {
      "cell_type": "code",
      "source": [
        "X=prepare_dataset(df,3)"
      ],
      "metadata": {
        "id": "pUtSsgHv5Uar"
      },
      "execution_count": null,
      "outputs": []
    },
    {
      "cell_type": "code",
      "source": [
        "X.head()"
      ],
      "metadata": {
        "colab": {
          "base_uri": "https://localhost:8080/",
          "height": 206
        },
        "id": "J6P3Z7C95UdC",
        "outputId": "4eebfa11-9dfa-4d8b-c045-755a0da4b2f4"
      },
      "execution_count": null,
      "outputs": [
        {
          "output_type": "execute_result",
          "data": {
            "text/plain": [
              "                                                text  target_score label\n",
              "0  The commutator is peculiar, consisting of only...     -3.676268     2\n",
              "1  The Dunwich horror itself came between Lammas ...     -3.668360     2\n",
              "2  The iron cylinder weighs 23 kilogrammes; but, ...     -3.642892     2\n",
              "3  As to surface-slope its measurement—from nearl...     -3.639936     2\n",
              "4  The tree is dioecious, bearing male catkins on...     -3.636834     2"
            ],
            "text/html": [
              "\n",
              "  <div id=\"df-34d51bf4-c989-4d97-8f93-25f5e7ea55af\">\n",
              "    <div class=\"colab-df-container\">\n",
              "      <div>\n",
              "<style scoped>\n",
              "    .dataframe tbody tr th:only-of-type {\n",
              "        vertical-align: middle;\n",
              "    }\n",
              "\n",
              "    .dataframe tbody tr th {\n",
              "        vertical-align: top;\n",
              "    }\n",
              "\n",
              "    .dataframe thead th {\n",
              "        text-align: right;\n",
              "    }\n",
              "</style>\n",
              "<table border=\"1\" class=\"dataframe\">\n",
              "  <thead>\n",
              "    <tr style=\"text-align: right;\">\n",
              "      <th></th>\n",
              "      <th>text</th>\n",
              "      <th>target_score</th>\n",
              "      <th>label</th>\n",
              "    </tr>\n",
              "  </thead>\n",
              "  <tbody>\n",
              "    <tr>\n",
              "      <th>0</th>\n",
              "      <td>The commutator is peculiar, consisting of only...</td>\n",
              "      <td>-3.676268</td>\n",
              "      <td>2</td>\n",
              "    </tr>\n",
              "    <tr>\n",
              "      <th>1</th>\n",
              "      <td>The Dunwich horror itself came between Lammas ...</td>\n",
              "      <td>-3.668360</td>\n",
              "      <td>2</td>\n",
              "    </tr>\n",
              "    <tr>\n",
              "      <th>2</th>\n",
              "      <td>The iron cylinder weighs 23 kilogrammes; but, ...</td>\n",
              "      <td>-3.642892</td>\n",
              "      <td>2</td>\n",
              "    </tr>\n",
              "    <tr>\n",
              "      <th>3</th>\n",
              "      <td>As to surface-slope its measurement—from nearl...</td>\n",
              "      <td>-3.639936</td>\n",
              "      <td>2</td>\n",
              "    </tr>\n",
              "    <tr>\n",
              "      <th>4</th>\n",
              "      <td>The tree is dioecious, bearing male catkins on...</td>\n",
              "      <td>-3.636834</td>\n",
              "      <td>2</td>\n",
              "    </tr>\n",
              "  </tbody>\n",
              "</table>\n",
              "</div>\n",
              "      <button class=\"colab-df-convert\" onclick=\"convertToInteractive('df-34d51bf4-c989-4d97-8f93-25f5e7ea55af')\"\n",
              "              title=\"Convert this dataframe to an interactive table.\"\n",
              "              style=\"display:none;\">\n",
              "        \n",
              "  <svg xmlns=\"http://www.w3.org/2000/svg\" height=\"24px\"viewBox=\"0 0 24 24\"\n",
              "       width=\"24px\">\n",
              "    <path d=\"M0 0h24v24H0V0z\" fill=\"none\"/>\n",
              "    <path d=\"M18.56 5.44l.94 2.06.94-2.06 2.06-.94-2.06-.94-.94-2.06-.94 2.06-2.06.94zm-11 1L8.5 8.5l.94-2.06 2.06-.94-2.06-.94L8.5 2.5l-.94 2.06-2.06.94zm10 10l.94 2.06.94-2.06 2.06-.94-2.06-.94-.94-2.06-.94 2.06-2.06.94z\"/><path d=\"M17.41 7.96l-1.37-1.37c-.4-.4-.92-.59-1.43-.59-.52 0-1.04.2-1.43.59L10.3 9.45l-7.72 7.72c-.78.78-.78 2.05 0 2.83L4 21.41c.39.39.9.59 1.41.59.51 0 1.02-.2 1.41-.59l7.78-7.78 2.81-2.81c.8-.78.8-2.07 0-2.86zM5.41 20L4 18.59l7.72-7.72 1.47 1.35L5.41 20z\"/>\n",
              "  </svg>\n",
              "      </button>\n",
              "      \n",
              "  <style>\n",
              "    .colab-df-container {\n",
              "      display:flex;\n",
              "      flex-wrap:wrap;\n",
              "      gap: 12px;\n",
              "    }\n",
              "\n",
              "    .colab-df-convert {\n",
              "      background-color: #E8F0FE;\n",
              "      border: none;\n",
              "      border-radius: 50%;\n",
              "      cursor: pointer;\n",
              "      display: none;\n",
              "      fill: #1967D2;\n",
              "      height: 32px;\n",
              "      padding: 0 0 0 0;\n",
              "      width: 32px;\n",
              "    }\n",
              "\n",
              "    .colab-df-convert:hover {\n",
              "      background-color: #E2EBFA;\n",
              "      box-shadow: 0px 1px 2px rgba(60, 64, 67, 0.3), 0px 1px 3px 1px rgba(60, 64, 67, 0.15);\n",
              "      fill: #174EA6;\n",
              "    }\n",
              "\n",
              "    [theme=dark] .colab-df-convert {\n",
              "      background-color: #3B4455;\n",
              "      fill: #D2E3FC;\n",
              "    }\n",
              "\n",
              "    [theme=dark] .colab-df-convert:hover {\n",
              "      background-color: #434B5C;\n",
              "      box-shadow: 0px 1px 3px 1px rgba(0, 0, 0, 0.15);\n",
              "      filter: drop-shadow(0px 1px 2px rgba(0, 0, 0, 0.3));\n",
              "      fill: #FFFFFF;\n",
              "    }\n",
              "  </style>\n",
              "\n",
              "      <script>\n",
              "        const buttonEl =\n",
              "          document.querySelector('#df-34d51bf4-c989-4d97-8f93-25f5e7ea55af button.colab-df-convert');\n",
              "        buttonEl.style.display =\n",
              "          google.colab.kernel.accessAllowed ? 'block' : 'none';\n",
              "\n",
              "        async function convertToInteractive(key) {\n",
              "          const element = document.querySelector('#df-34d51bf4-c989-4d97-8f93-25f5e7ea55af');\n",
              "          const dataTable =\n",
              "            await google.colab.kernel.invokeFunction('convertToInteractive',\n",
              "                                                     [key], {});\n",
              "          if (!dataTable) return;\n",
              "\n",
              "          const docLinkHtml = 'Like what you see? Visit the ' +\n",
              "            '<a target=\"_blank\" href=https://colab.research.google.com/notebooks/data_table.ipynb>data table notebook</a>'\n",
              "            + ' to learn more about interactive tables.';\n",
              "          element.innerHTML = '';\n",
              "          dataTable['output_type'] = 'display_data';\n",
              "          await google.colab.output.renderOutput(dataTable, element);\n",
              "          const docLink = document.createElement('div');\n",
              "          docLink.innerHTML = docLinkHtml;\n",
              "          element.appendChild(docLink);\n",
              "        }\n",
              "      </script>\n",
              "    </div>\n",
              "  </div>\n",
              "  "
            ]
          },
          "metadata": {},
          "execution_count": 8
        }
      ]
    },
    {
      "cell_type": "code",
      "source": [
        "X.shape"
      ],
      "metadata": {
        "colab": {
          "base_uri": "https://localhost:8080/"
        },
        "id": "9LjHByqu5Ufp",
        "outputId": "dbad596d-a1cd-49ea-d98b-814687adca13"
      },
      "execution_count": null,
      "outputs": [
        {
          "output_type": "execute_result",
          "data": {
            "text/plain": [
              "(4724, 3)"
            ]
          },
          "metadata": {},
          "execution_count": 9
        }
      ]
    },
    {
      "cell_type": "code",
      "source": [
        "X['label'].value_counts()"
      ],
      "metadata": {
        "colab": {
          "base_uri": "https://localhost:8080/"
        },
        "id": "84H7y9u05Uii",
        "outputId": "5588aae8-af57-4f89-d784-d01f5c1440b4"
      },
      "execution_count": null,
      "outputs": [
        {
          "output_type": "execute_result",
          "data": {
            "text/plain": [
              "2    1575\n",
              "0    1575\n",
              "1    1574\n",
              "Name: label, dtype: int64"
            ]
          },
          "metadata": {},
          "execution_count": 10
        }
      ]
    },
    {
      "cell_type": "code",
      "source": [
        "    \n",
        "def get_folds(X,n_splits,SEED):\n",
        "    \n",
        "    X['fold'] = -1\n",
        "\n",
        "    skf = StratifiedKFold(n_splits=n_splits, random_state=SEED, shuffle=True)\n",
        "    gen_skf = skf.split(X.text, y=X.label)\n",
        "\n",
        "    for fold, (idx_train, idx_val) in enumerate(gen_skf):\n",
        "        X.loc[idx_val, 'fold'] = fold\n",
        "    \n",
        "    X['fold'] = X['fold'].astype('int8')\n",
        "    return X"
      ],
      "metadata": {
        "id": "T3gCkSeQ5Uk9"
      },
      "execution_count": null,
      "outputs": []
    },
    {
      "cell_type": "code",
      "source": [
        "X=get_folds(X,5,12)"
      ],
      "metadata": {
        "id": "FnQb4Gt65UpB"
      },
      "execution_count": null,
      "outputs": []
    },
    {
      "cell_type": "code",
      "source": [
        "X.head()"
      ],
      "metadata": {
        "colab": {
          "base_uri": "https://localhost:8080/",
          "height": 206
        },
        "id": "yiZP3l4e5UsN",
        "outputId": "1a118b5b-d1f2-44e4-abd1-c38a504722d8"
      },
      "execution_count": null,
      "outputs": [
        {
          "output_type": "execute_result",
          "data": {
            "text/plain": [
              "                                                text  target_score label  fold\n",
              "0  The commutator is peculiar, consisting of only...     -3.676268     2     1\n",
              "1  The Dunwich horror itself came between Lammas ...     -3.668360     2     3\n",
              "2  The iron cylinder weighs 23 kilogrammes; but, ...     -3.642892     2     1\n",
              "3  As to surface-slope its measurement—from nearl...     -3.639936     2     4\n",
              "4  The tree is dioecious, bearing male catkins on...     -3.636834     2     1"
            ],
            "text/html": [
              "\n",
              "  <div id=\"df-d409919f-37b8-4ad2-be74-c7b646508a16\">\n",
              "    <div class=\"colab-df-container\">\n",
              "      <div>\n",
              "<style scoped>\n",
              "    .dataframe tbody tr th:only-of-type {\n",
              "        vertical-align: middle;\n",
              "    }\n",
              "\n",
              "    .dataframe tbody tr th {\n",
              "        vertical-align: top;\n",
              "    }\n",
              "\n",
              "    .dataframe thead th {\n",
              "        text-align: right;\n",
              "    }\n",
              "</style>\n",
              "<table border=\"1\" class=\"dataframe\">\n",
              "  <thead>\n",
              "    <tr style=\"text-align: right;\">\n",
              "      <th></th>\n",
              "      <th>text</th>\n",
              "      <th>target_score</th>\n",
              "      <th>label</th>\n",
              "      <th>fold</th>\n",
              "    </tr>\n",
              "  </thead>\n",
              "  <tbody>\n",
              "    <tr>\n",
              "      <th>0</th>\n",
              "      <td>The commutator is peculiar, consisting of only...</td>\n",
              "      <td>-3.676268</td>\n",
              "      <td>2</td>\n",
              "      <td>1</td>\n",
              "    </tr>\n",
              "    <tr>\n",
              "      <th>1</th>\n",
              "      <td>The Dunwich horror itself came between Lammas ...</td>\n",
              "      <td>-3.668360</td>\n",
              "      <td>2</td>\n",
              "      <td>3</td>\n",
              "    </tr>\n",
              "    <tr>\n",
              "      <th>2</th>\n",
              "      <td>The iron cylinder weighs 23 kilogrammes; but, ...</td>\n",
              "      <td>-3.642892</td>\n",
              "      <td>2</td>\n",
              "      <td>1</td>\n",
              "    </tr>\n",
              "    <tr>\n",
              "      <th>3</th>\n",
              "      <td>As to surface-slope its measurement—from nearl...</td>\n",
              "      <td>-3.639936</td>\n",
              "      <td>2</td>\n",
              "      <td>4</td>\n",
              "    </tr>\n",
              "    <tr>\n",
              "      <th>4</th>\n",
              "      <td>The tree is dioecious, bearing male catkins on...</td>\n",
              "      <td>-3.636834</td>\n",
              "      <td>2</td>\n",
              "      <td>1</td>\n",
              "    </tr>\n",
              "  </tbody>\n",
              "</table>\n",
              "</div>\n",
              "      <button class=\"colab-df-convert\" onclick=\"convertToInteractive('df-d409919f-37b8-4ad2-be74-c7b646508a16')\"\n",
              "              title=\"Convert this dataframe to an interactive table.\"\n",
              "              style=\"display:none;\">\n",
              "        \n",
              "  <svg xmlns=\"http://www.w3.org/2000/svg\" height=\"24px\"viewBox=\"0 0 24 24\"\n",
              "       width=\"24px\">\n",
              "    <path d=\"M0 0h24v24H0V0z\" fill=\"none\"/>\n",
              "    <path d=\"M18.56 5.44l.94 2.06.94-2.06 2.06-.94-2.06-.94-.94-2.06-.94 2.06-2.06.94zm-11 1L8.5 8.5l.94-2.06 2.06-.94-2.06-.94L8.5 2.5l-.94 2.06-2.06.94zm10 10l.94 2.06.94-2.06 2.06-.94-2.06-.94-.94-2.06-.94 2.06-2.06.94z\"/><path d=\"M17.41 7.96l-1.37-1.37c-.4-.4-.92-.59-1.43-.59-.52 0-1.04.2-1.43.59L10.3 9.45l-7.72 7.72c-.78.78-.78 2.05 0 2.83L4 21.41c.39.39.9.59 1.41.59.51 0 1.02-.2 1.41-.59l7.78-7.78 2.81-2.81c.8-.78.8-2.07 0-2.86zM5.41 20L4 18.59l7.72-7.72 1.47 1.35L5.41 20z\"/>\n",
              "  </svg>\n",
              "      </button>\n",
              "      \n",
              "  <style>\n",
              "    .colab-df-container {\n",
              "      display:flex;\n",
              "      flex-wrap:wrap;\n",
              "      gap: 12px;\n",
              "    }\n",
              "\n",
              "    .colab-df-convert {\n",
              "      background-color: #E8F0FE;\n",
              "      border: none;\n",
              "      border-radius: 50%;\n",
              "      cursor: pointer;\n",
              "      display: none;\n",
              "      fill: #1967D2;\n",
              "      height: 32px;\n",
              "      padding: 0 0 0 0;\n",
              "      width: 32px;\n",
              "    }\n",
              "\n",
              "    .colab-df-convert:hover {\n",
              "      background-color: #E2EBFA;\n",
              "      box-shadow: 0px 1px 2px rgba(60, 64, 67, 0.3), 0px 1px 3px 1px rgba(60, 64, 67, 0.15);\n",
              "      fill: #174EA6;\n",
              "    }\n",
              "\n",
              "    [theme=dark] .colab-df-convert {\n",
              "      background-color: #3B4455;\n",
              "      fill: #D2E3FC;\n",
              "    }\n",
              "\n",
              "    [theme=dark] .colab-df-convert:hover {\n",
              "      background-color: #434B5C;\n",
              "      box-shadow: 0px 1px 3px 1px rgba(0, 0, 0, 0.15);\n",
              "      filter: drop-shadow(0px 1px 2px rgba(0, 0, 0, 0.3));\n",
              "      fill: #FFFFFF;\n",
              "    }\n",
              "  </style>\n",
              "\n",
              "      <script>\n",
              "        const buttonEl =\n",
              "          document.querySelector('#df-d409919f-37b8-4ad2-be74-c7b646508a16 button.colab-df-convert');\n",
              "        buttonEl.style.display =\n",
              "          google.colab.kernel.accessAllowed ? 'block' : 'none';\n",
              "\n",
              "        async function convertToInteractive(key) {\n",
              "          const element = document.querySelector('#df-d409919f-37b8-4ad2-be74-c7b646508a16');\n",
              "          const dataTable =\n",
              "            await google.colab.kernel.invokeFunction('convertToInteractive',\n",
              "                                                     [key], {});\n",
              "          if (!dataTable) return;\n",
              "\n",
              "          const docLinkHtml = 'Like what you see? Visit the ' +\n",
              "            '<a target=\"_blank\" href=https://colab.research.google.com/notebooks/data_table.ipynb>data table notebook</a>'\n",
              "            + ' to learn more about interactive tables.';\n",
              "          element.innerHTML = '';\n",
              "          dataTable['output_type'] = 'display_data';\n",
              "          await google.colab.output.renderOutput(dataTable, element);\n",
              "          const docLink = document.createElement('div');\n",
              "          docLink.innerHTML = docLinkHtml;\n",
              "          element.appendChild(docLink);\n",
              "        }\n",
              "      </script>\n",
              "    </div>\n",
              "  </div>\n",
              "  "
            ]
          },
          "metadata": {},
          "execution_count": 13
        }
      ]
    },
    {
      "cell_type": "code",
      "source": [
        "def seed_everything(seed=1234):\n",
        "    random.seed(seed)\n",
        "    os.environ['PYTHONHASHSEED'] = str(seed)\n",
        "    np.random.seed(seed)\n",
        "    torch.manual_seed(seed)\n",
        "    torch.cuda.manual_seed(seed)\n",
        "    torch.backends.cudnn.deterministic = True\n",
        "\n",
        "SEED = 28\n",
        "seed_everything(seed=SEED)\n",
        "MAX_LENGTH = 350"
      ],
      "metadata": {
        "id": "1J0yGf_U5Uu4"
      },
      "execution_count": null,
      "outputs": []
    },
    {
      "cell_type": "code",
      "source": [
        "def chunks(lst, n):\n",
        "    \"\"\"Yield successive n-sized chunks from lst.\"\"\"\n",
        "    for i in range(0, len(lst), n):\n",
        "        yield lst[i:i + n]"
      ],
      "metadata": {
        "id": "hZcFGr385U0V"
      },
      "execution_count": null,
      "outputs": []
    },
    {
      "cell_type": "code",
      "source": [
        "def predict_fast(model_name=None, data=None, init_model=None, tokenizer=None, num_labels=3, \n",
        "                 is_multilabel=False, output_logits=False, use_softmax=False):\n",
        "  device = torch.device('cuda' if torch.cuda.is_available() else 'cpu')\n",
        "  tokenizer = AutoTokenizer.from_pretrained(model_name) if model_name else tokenizer\n",
        "  config = AutoConfig.from_pretrained(model_name, num_labels=num_labels) if model_name else None\n",
        "  model = AutoModelForSequenceClassification.from_pretrained(model_name, config=config) if model_name else init_model\n",
        "  model.to(device)\n",
        "  model.eval()\n",
        "  y_pred = []\n",
        "  batches = chunks(data, 32)\n",
        "  for batch in tqdm(batches):\n",
        "    inputs = tokenizer(batch, return_tensors=\"pt\", padding=True, truncation=True, max_length=MAX_LENGTH)\n",
        "    input_ids = inputs['input_ids'].to(device)\n",
        "    attention = inputs['attention_mask'].to(device)\n",
        "    inputs = {\n",
        "        'input_ids': input_ids,\n",
        "        'attention_mask': attention\n",
        "    }\n",
        "    with torch.no_grad():        \n",
        "          outputs = model(**inputs)\n",
        "    if not use_softmax:\n",
        "      logits = outputs[0].detach().cpu().argmax(-1).squeeze().numpy().tolist() ##multi class\n",
        "    else:\n",
        "      logits = nn.functional.softmax(outputs.logits, dim=-1).detach().cpu().numpy().squeeze().tolist()\n",
        "    if is_multilabel and not output_logits:\n",
        "    \n",
        "      logits = np.argmax(logits, axis=-1)\n",
        "    y_pred.extend(logits)\n",
        "  del model\n",
        "  gc.collect()\n",
        "  return y_pred"
      ],
      "metadata": {
        "id": "qqXHQS0R5VlO"
      },
      "execution_count": null,
      "outputs": []
    },
    {
      "cell_type": "code",
      "source": [
        "def train_model(\n",
        "        model_dir,\n",
        "        out_dir,\n",
        "        data,\n",
        "        data_labels,\n",
        "        test_data=None,\n",
        "        test_labels=None,\n",
        "        do_eval=False,\n",
        "        do_epoch_eval=False,\n",
        "        do_save_best=False,\n",
        "        hyperparams={'bs': 16, 'lr': 1e-4, 'ep': 5, 'bias': False, 'init': None},\n",
        "        cfg={'num_labels': 1, 'logging_steps': 500, 'is_multilabel': False, 'keep_layers': None}\n",
        "        ):\n",
        "    tokenizer = AutoTokenizer.from_pretrained(model_dir)\n",
        "    \n",
        "    train_encodings = tokenizer(data, truncation=True, padding=True, max_length=MAX_LENGTH)\n",
        "    if test_data:\n",
        "        test_encodings = tokenizer(test_data, truncation=True, padding=True, max_length=MAX_LENGTH)\n",
        "    \n",
        "\n",
        "    class LitDataset(torch.utils.data.Dataset):\n",
        "        def __init__(self, encodings, labels):\n",
        "            self.encodings = encodings\n",
        "            self.labels = labels\n",
        "\n",
        "        def __getitem__(self, idx):\n",
        "            item = {key: torch.tensor(val[idx]) for key, val in self.encodings.items()}\n",
        "            item['labels'] = torch.tensor(self.labels[idx])\n",
        "            return item\n",
        "\n",
        "        def __len__(self):\n",
        "            return len(self.labels)\n",
        "\n",
        "    train_dataset = LitDataset(train_encodings, data_labels)\n",
        "    if test_data:\n",
        "        test_dataset = LitDataset(test_encodings, test_labels)\n",
        "    \n",
        "    train_dataloader = DataLoader(train_dataset, shuffle=True, batch_size=hyperparams['bs'])\n",
        "    training_steps = len(train_dataloader) * hyperparams['ep'] \n",
        "    warmup_steps = math.ceil(training_steps  * 0.06)\n",
        "\n",
        "    training_args = TrainingArguments(\n",
        "        output_dir=out_dir,          # output directory\n",
        "        num_train_epochs=hyperparams['ep'],              # total number of training epochs\n",
        "        per_device_train_batch_size=hyperparams['bs'],  # batch size per device during training\n",
        "        per_device_eval_batch_size=1,   # batch size for evaluationing rate scheduler\n",
        "        logging_dir='/tmp/logs',            # directory for storing logs\n",
        "        logging_steps=cfg['logging_steps'],\n",
        "        seed=SEED,\n",
        "        weight_decay=hyperparams['weight_decay'],\n",
        "        learning_rate=hyperparams['lr'],\n",
        "        save_strategy='no'\n",
        "    )\n",
        "    config = AutoConfig.from_pretrained(\n",
        "        model_dir,\n",
        "        num_labels=cfg['num_labels'],\n",
        "        hidden_dropout_prob=hyperparams['hidden_dropout'],\n",
        "        attention_probs_dropout_prob=hyperparams['attention_probs_dropout'])\n",
        "    model = AutoModelForSequenceClassification.from_pretrained(model_dir, num_labels=cfg['num_labels'])\n",
        " #   if hyperparams['init']:\n",
        " #       model = reinitialize_layers(model, hyperparams['init'])\n",
        "    model.config = AutoConfig.from_pretrained(model_dir, num_labels=cfg['num_labels'])\n",
        "    model.num_labels = cfg['num_labels']\n",
        "    if cfg['keep_layers']:\n",
        "        new_layers = torch.nn.ModuleList([layer_module for i, layer_module in enumerate(model.base_model.encoder.layer) \n",
        "                                                                                            if i in cfg['keep_layers']])\n",
        "        model.base_model.encoder.layer = new_layers\n",
        "        model.config.num_hidden_layers = len(cfg['keep_layers'])\n",
        "\n",
        "    optimizer = AdamW(model.parameters(), correct_bias=hyperparams['bias'], lr=hyperparams['lr'])\n",
        "    scheduler = get_linear_schedule_with_warmup(optimizer=optimizer, num_training_steps=training_steps, \n",
        "                                                num_warmup_steps=warmup_steps)\n",
        "    device = torch.device('cuda' if torch.cuda.is_available() else 'cpu')\n",
        "    scores = []\n",
        "    best_score =1.0\n",
        "    metric = load_metric(\"accuracy\")\n",
        "\n",
        "    class EvalCallback(TrainerCallback):\n",
        "        def on_log(self, args, state, control, **kwargs):\n",
        "            if do_save_best:\n",
        "                model = kwargs['model']\n",
        "                y_pred = predict_fast(init_model=model, tokenizer=tokenizer, data=test_data, \n",
        "                                    num_labels=cfg['num_labels'], is_multilabel=cfg['is_multilabel'])\n",
        "                model.train()\n",
        "                #curr_score = rms(test_labels, y_pred) if not cfg['is_multilabel'] \n",
        "                                        #else metric.compute(predictions=y_pred, references=test_labels)['accuracy']\n",
        "                curr_score = metric.compute(predictions=y_pred, references=test_labels)['accuracy']\n",
        "                print('Accuracy: ', curr_score)\n",
        "\n",
        "                if len(scores) == 0 or curr_score > max(scores):\n",
        "                    print(f'max accuaracy is {curr_score} ')\n",
        "                    best_score = curr_score\n",
        "                    save_dir = os.path.join(out_dir, 'best')\n",
        "                    model.save_pretrained(save_dir)\n",
        "                    tokenizer.save_pretrained(save_dir)\n",
        "                    with open(os.path.join(save_dir, 'hyperparams.txt'), 'w') as f:\n",
        "                        hyperparams['score'] = curr_score\n",
        "                        hyperparams['step'] = state.global_step\n",
        "                        hyperparams['trainset_size'] = len(data_labels)\n",
        "                        f.write(json.dumps(hyperparams))\n",
        "                scores.append(curr_score)\n",
        "\n",
        "    trainer = Trainer(\n",
        "        model=model,                         # the instantiated 🤗 Transformers model to be trained\n",
        "        args=training_args,                  # training arguments, defined above\n",
        "        train_dataset=train_dataset,         # training dataset\n",
        "        optimizers=(optimizer, scheduler),\n",
        "        callbacks=[EvalCallback]             # evaluation dataset\n",
        "    )\n",
        "\n",
        "    trainer.train()\n",
        "\n",
        "    if not do_save_best:\n",
        "        model.save_pretrained(out_dir)\n",
        "        tokenizer.save_pretrained(out_dir)\n",
        "    print('Training done')\n",
        "\n",
        "    if do_save_best:\n",
        "        del model\n",
        "        gc.collect()\n",
        "        #return min(scores)\n",
        "        return max(scores)"
      ],
      "metadata": {
        "id": "EFa1Wl-T5VoV"
      },
      "execution_count": null,
      "outputs": []
    },
    {
      "cell_type": "code",
      "source": [
        "train_tx=X.loc[X[\"fold\"]!=1][\"text\"].values.tolist()\n",
        "val_tx=X.loc[X[\"fold\"]==1][\"text\"].values.tolist()"
      ],
      "metadata": {
        "id": "FD3yx8NY5Vqd"
      },
      "execution_count": null,
      "outputs": []
    },
    {
      "cell_type": "code",
      "source": [
        "train_tx[1]"
      ],
      "metadata": {
        "colab": {
          "base_uri": "https://localhost:8080/",
          "height": 174
        },
        "id": "-1OJe-T4738q",
        "outputId": "f088582d-333f-494c-d31d-639ba58ba22e"
      },
      "execution_count": null,
      "outputs": [
        {
          "output_type": "execute_result",
          "data": {
            "text/plain": [
              "'As to surface-slope its measurement—from nearly 600 trials—was found to be such a delicate operation that the result would be of doubtful utility. This would affect the application of all formulas into which it entered. The water surface was ascertained, on the average of its oscillations, to be sensibly level across, not convex, as supposed by some writers. There were 565 sets of vertical velocity measurements combined into forty-six series. The forty-six average curves were all very flat and convex downstream—except near an irregular bank—and were approximately parabolas with horizontal axes; the data determined the parameters only very roughly; the maximum velocity line was usually below the service, and sank in a rectangular channel, from the center outward down to about mid-depth near the banks. Its depression seemed not to depend on the depth, slope, velocity, or wind; probably the air itself, being a continuous source of surface retardation, would permanently depress the maximum velocity, while wind failed to effect this, owing to its short duration. On any vertical the mid-depth velocity was greater than the mean, and the bed velocity was the least.'"
            ],
            "application/vnd.google.colaboratory.intrinsic+json": {
              "type": "string"
            }
          },
          "metadata": {},
          "execution_count": 23
        }
      ]
    },
    {
      "cell_type": "code",
      "source": [
        "train_sc=X.loc[X[\"fold\"]!=1][\"label\"].values\n",
        "val_sc=X.loc[X[\"fold\"]==1][\"label\"].values"
      ],
      "metadata": {
        "id": "628qORsQ5Vsl"
      },
      "execution_count": null,
      "outputs": []
    },
    {
      "cell_type": "code",
      "source": [
        "train_sc[1]"
      ],
      "metadata": {
        "colab": {
          "base_uri": "https://localhost:8080/"
        },
        "id": "IfN2CE5J5VwH",
        "outputId": "2d90e229-0d2e-4926-9dba-e07c8637e803"
      },
      "execution_count": null,
      "outputs": [
        {
          "output_type": "execute_result",
          "data": {
            "text/plain": [
              "2"
            ]
          },
          "metadata": {},
          "execution_count": 21
        }
      ]
    },
    {
      "cell_type": "code",
      "source": [
        "# Train an deberta model\n",
        "BASE_PATH = '/content'\n",
        "out_dir = os.path.join(BASE_PATH, 'output_model/')\n",
        "\n",
        "model_name = 'microsoft/deberta-v3-base'\n",
        "# Train a DEBERTA model\n",
        "#model_name = 'microsoft/deberta-large'\n",
        "hyperparams = {\n",
        "  'bs': 3,\n",
        "  'lr': 9e-6,\n",
        "  'weight_decay': 0.1,\n",
        "  'ep': 4,\n",
        "  'bias': True,\n",
        "  'init': None,\n",
        "  'hidden_dropout': 0.1,\n",
        "  'attention_probs_dropout': 0.1\n",
        "}\n",
        "cfg = {\n",
        "  'num_labels': 3,\n",
        "  'is_multilabel': False,\n",
        "  'logging_steps': 20,\n",
        "  'keep_layers': None,\n",
        "  'soft_labels': None\n",
        "}\n",
        "\n",
        "DEBERTA_PRETRAINED = os.path.join(BASE_PATH, 'models/deberta-v3-base')\n",
        "\n",
        "#train_tx=X.loc[X[\"fold\"]!=1][\"text\"].values.tolist()\n",
        "#val_tx=X.loc[X[\"fold\"]==1][\"text\"].values.tolist()\n",
        "\n",
        "train_model(\n",
        "    model_dir=model_name,\n",
        "    out_dir=out_dir,\n",
        "    data=train_tx,\n",
        "    data_labels=train_sc,\n",
        "    test_data=val_tx,\n",
        "    test_labels=val_sc,\n",
        "    do_save_best=True,\n",
        "    hyperparams=hyperparams,\n",
        "    cfg=cfg\n",
        ")"
      ],
      "metadata": {
        "colab": {
          "base_uri": "https://localhost:8080/",
          "height": 1000
        },
        "id": "8DAMejf16bvt",
        "outputId": "aa1f263c-b2fb-46ab-cd29-79d1c0f2ae96"
      },
      "execution_count": null,
      "outputs": [
        {
          "output_type": "stream",
          "name": "stderr",
          "text": [
            "loading configuration file https://huggingface.co/microsoft/deberta-v3-base/resolve/main/config.json from cache at /root/.cache/huggingface/transformers/e6f9db57345f0f60c9f837fa97bcb27b1ed31e99feb33d732d7d8c80cb8f8459.de97182a9f32a68819030ba8f3f6ff2ba47276be3864425925523202f54cc79c\n",
            "Model config DebertaV2Config {\n",
            "  \"_name_or_path\": \"microsoft/deberta-v3-base\",\n",
            "  \"attention_probs_dropout_prob\": 0.1,\n",
            "  \"hidden_act\": \"gelu\",\n",
            "  \"hidden_dropout_prob\": 0.1,\n",
            "  \"hidden_size\": 768,\n",
            "  \"initializer_range\": 0.02,\n",
            "  \"intermediate_size\": 3072,\n",
            "  \"layer_norm_eps\": 1e-07,\n",
            "  \"max_position_embeddings\": 512,\n",
            "  \"max_relative_positions\": -1,\n",
            "  \"model_type\": \"deberta-v2\",\n",
            "  \"norm_rel_ebd\": \"layer_norm\",\n",
            "  \"num_attention_heads\": 12,\n",
            "  \"num_hidden_layers\": 12,\n",
            "  \"pad_token_id\": 0,\n",
            "  \"pooler_dropout\": 0,\n",
            "  \"pooler_hidden_act\": \"gelu\",\n",
            "  \"pooler_hidden_size\": 768,\n",
            "  \"pos_att_type\": [\n",
            "    \"p2c\",\n",
            "    \"c2p\"\n",
            "  ],\n",
            "  \"position_biased_input\": false,\n",
            "  \"position_buckets\": 256,\n",
            "  \"relative_attention\": true,\n",
            "  \"share_att_key\": true,\n",
            "  \"transformers_version\": \"4.21.2\",\n",
            "  \"type_vocab_size\": 0,\n",
            "  \"vocab_size\": 128100\n",
            "}\n",
            "\n",
            "loading file https://huggingface.co/microsoft/deberta-v3-base/resolve/main/spm.model from cache at /root/.cache/huggingface/transformers/ec748fd4f03d0e5a2d5d56dff01e6dd733f23c67105cd54a9910f9d711870253.0abaeacf7287ee8ba758fec15ddfb4bb6c697bb1a8db272725f8aa633501787a\n",
            "loading file https://huggingface.co/microsoft/deberta-v3-base/resolve/main/tokenizer.json from cache at None\n",
            "loading file https://huggingface.co/microsoft/deberta-v3-base/resolve/main/added_tokens.json from cache at None\n",
            "loading file https://huggingface.co/microsoft/deberta-v3-base/resolve/main/special_tokens_map.json from cache at None\n",
            "loading file https://huggingface.co/microsoft/deberta-v3-base/resolve/main/tokenizer_config.json from cache at /root/.cache/huggingface/transformers/967a4d63eb35950cfd24a9e335906419009f32940fa2ba1b73e7ba032628c38d.df5a7f41459442f66bec27ac9352bba694cde109855024b3ae61be2f5734ee9a\n",
            "loading configuration file https://huggingface.co/microsoft/deberta-v3-base/resolve/main/config.json from cache at /root/.cache/huggingface/transformers/e6f9db57345f0f60c9f837fa97bcb27b1ed31e99feb33d732d7d8c80cb8f8459.de97182a9f32a68819030ba8f3f6ff2ba47276be3864425925523202f54cc79c\n",
            "Model config DebertaV2Config {\n",
            "  \"_name_or_path\": \"microsoft/deberta-v3-base\",\n",
            "  \"attention_probs_dropout_prob\": 0.1,\n",
            "  \"hidden_act\": \"gelu\",\n",
            "  \"hidden_dropout_prob\": 0.1,\n",
            "  \"hidden_size\": 768,\n",
            "  \"initializer_range\": 0.02,\n",
            "  \"intermediate_size\": 3072,\n",
            "  \"layer_norm_eps\": 1e-07,\n",
            "  \"max_position_embeddings\": 512,\n",
            "  \"max_relative_positions\": -1,\n",
            "  \"model_type\": \"deberta-v2\",\n",
            "  \"norm_rel_ebd\": \"layer_norm\",\n",
            "  \"num_attention_heads\": 12,\n",
            "  \"num_hidden_layers\": 12,\n",
            "  \"pad_token_id\": 0,\n",
            "  \"pooler_dropout\": 0,\n",
            "  \"pooler_hidden_act\": \"gelu\",\n",
            "  \"pooler_hidden_size\": 768,\n",
            "  \"pos_att_type\": [\n",
            "    \"p2c\",\n",
            "    \"c2p\"\n",
            "  ],\n",
            "  \"position_biased_input\": false,\n",
            "  \"position_buckets\": 256,\n",
            "  \"relative_attention\": true,\n",
            "  \"share_att_key\": true,\n",
            "  \"transformers_version\": \"4.21.2\",\n",
            "  \"type_vocab_size\": 0,\n",
            "  \"vocab_size\": 128100\n",
            "}\n",
            "\n",
            "Adding [MASK] to the vocabulary\n",
            "Special tokens have been added in the vocabulary, make sure the associated word embeddings are fine-tuned or trained.\n",
            "loading configuration file https://huggingface.co/microsoft/deberta-v3-base/resolve/main/config.json from cache at /root/.cache/huggingface/transformers/e6f9db57345f0f60c9f837fa97bcb27b1ed31e99feb33d732d7d8c80cb8f8459.de97182a9f32a68819030ba8f3f6ff2ba47276be3864425925523202f54cc79c\n",
            "Model config DebertaV2Config {\n",
            "  \"_name_or_path\": \"microsoft/deberta-v3-base\",\n",
            "  \"attention_probs_dropout_prob\": 0.1,\n",
            "  \"hidden_act\": \"gelu\",\n",
            "  \"hidden_dropout_prob\": 0.1,\n",
            "  \"hidden_size\": 768,\n",
            "  \"initializer_range\": 0.02,\n",
            "  \"intermediate_size\": 3072,\n",
            "  \"layer_norm_eps\": 1e-07,\n",
            "  \"max_position_embeddings\": 512,\n",
            "  \"max_relative_positions\": -1,\n",
            "  \"model_type\": \"deberta-v2\",\n",
            "  \"norm_rel_ebd\": \"layer_norm\",\n",
            "  \"num_attention_heads\": 12,\n",
            "  \"num_hidden_layers\": 12,\n",
            "  \"pad_token_id\": 0,\n",
            "  \"pooler_dropout\": 0,\n",
            "  \"pooler_hidden_act\": \"gelu\",\n",
            "  \"pooler_hidden_size\": 768,\n",
            "  \"pos_att_type\": [\n",
            "    \"p2c\",\n",
            "    \"c2p\"\n",
            "  ],\n",
            "  \"position_biased_input\": false,\n",
            "  \"position_buckets\": 256,\n",
            "  \"relative_attention\": true,\n",
            "  \"share_att_key\": true,\n",
            "  \"transformers_version\": \"4.21.2\",\n",
            "  \"type_vocab_size\": 0,\n",
            "  \"vocab_size\": 128100\n",
            "}\n",
            "\n",
            "/usr/local/lib/python3.7/dist-packages/transformers/convert_slow_tokenizer.py:435: UserWarning: The sentencepiece tokenizer that you are converting to a fast tokenizer uses the byte fallback option which is not implemented in the fast tokenizers. In practice this means that the fast version of the tokenizer can produce unknown tokens whereas the sentencepiece version would have converted these unknown tokens into a sequence of byte tokens matching the original piece of text.\n",
            "  \"The sentencepiece tokenizer that you are converting to a fast tokenizer uses the byte fallback option\"\n",
            "Special tokens have been added in the vocabulary, make sure the associated word embeddings are fine-tuned or trained.\n",
            "PyTorch: setting up devices\n",
            "The default value for the training argument `--report_to` will change in v5 (from all installed integrations to none). In v5, you will need to use `--report_to all` to get the same behavior as now. You should start updating your code and make this info disappear :-).\n",
            "loading configuration file https://huggingface.co/microsoft/deberta-v3-base/resolve/main/config.json from cache at /root/.cache/huggingface/transformers/e6f9db57345f0f60c9f837fa97bcb27b1ed31e99feb33d732d7d8c80cb8f8459.de97182a9f32a68819030ba8f3f6ff2ba47276be3864425925523202f54cc79c\n",
            "Model config DebertaV2Config {\n",
            "  \"_name_or_path\": \"microsoft/deberta-v3-base\",\n",
            "  \"attention_probs_dropout_prob\": 0.1,\n",
            "  \"hidden_act\": \"gelu\",\n",
            "  \"hidden_dropout_prob\": 0.1,\n",
            "  \"hidden_size\": 768,\n",
            "  \"id2label\": {\n",
            "    \"0\": \"LABEL_0\",\n",
            "    \"1\": \"LABEL_1\",\n",
            "    \"2\": \"LABEL_2\"\n",
            "  },\n",
            "  \"initializer_range\": 0.02,\n",
            "  \"intermediate_size\": 3072,\n",
            "  \"label2id\": {\n",
            "    \"LABEL_0\": 0,\n",
            "    \"LABEL_1\": 1,\n",
            "    \"LABEL_2\": 2\n",
            "  },\n",
            "  \"layer_norm_eps\": 1e-07,\n",
            "  \"max_position_embeddings\": 512,\n",
            "  \"max_relative_positions\": -1,\n",
            "  \"model_type\": \"deberta-v2\",\n",
            "  \"norm_rel_ebd\": \"layer_norm\",\n",
            "  \"num_attention_heads\": 12,\n",
            "  \"num_hidden_layers\": 12,\n",
            "  \"pad_token_id\": 0,\n",
            "  \"pooler_dropout\": 0,\n",
            "  \"pooler_hidden_act\": \"gelu\",\n",
            "  \"pooler_hidden_size\": 768,\n",
            "  \"pos_att_type\": [\n",
            "    \"p2c\",\n",
            "    \"c2p\"\n",
            "  ],\n",
            "  \"position_biased_input\": false,\n",
            "  \"position_buckets\": 256,\n",
            "  \"relative_attention\": true,\n",
            "  \"share_att_key\": true,\n",
            "  \"transformers_version\": \"4.21.2\",\n",
            "  \"type_vocab_size\": 0,\n",
            "  \"vocab_size\": 128100\n",
            "}\n",
            "\n",
            "loading configuration file https://huggingface.co/microsoft/deberta-v3-base/resolve/main/config.json from cache at /root/.cache/huggingface/transformers/e6f9db57345f0f60c9f837fa97bcb27b1ed31e99feb33d732d7d8c80cb8f8459.de97182a9f32a68819030ba8f3f6ff2ba47276be3864425925523202f54cc79c\n",
            "Model config DebertaV2Config {\n",
            "  \"_name_or_path\": \"microsoft/deberta-v3-base\",\n",
            "  \"attention_probs_dropout_prob\": 0.1,\n",
            "  \"hidden_act\": \"gelu\",\n",
            "  \"hidden_dropout_prob\": 0.1,\n",
            "  \"hidden_size\": 768,\n",
            "  \"id2label\": {\n",
            "    \"0\": \"LABEL_0\",\n",
            "    \"1\": \"LABEL_1\",\n",
            "    \"2\": \"LABEL_2\"\n",
            "  },\n",
            "  \"initializer_range\": 0.02,\n",
            "  \"intermediate_size\": 3072,\n",
            "  \"label2id\": {\n",
            "    \"LABEL_0\": 0,\n",
            "    \"LABEL_1\": 1,\n",
            "    \"LABEL_2\": 2\n",
            "  },\n",
            "  \"layer_norm_eps\": 1e-07,\n",
            "  \"max_position_embeddings\": 512,\n",
            "  \"max_relative_positions\": -1,\n",
            "  \"model_type\": \"deberta-v2\",\n",
            "  \"norm_rel_ebd\": \"layer_norm\",\n",
            "  \"num_attention_heads\": 12,\n",
            "  \"num_hidden_layers\": 12,\n",
            "  \"pad_token_id\": 0,\n",
            "  \"pooler_dropout\": 0,\n",
            "  \"pooler_hidden_act\": \"gelu\",\n",
            "  \"pooler_hidden_size\": 768,\n",
            "  \"pos_att_type\": [\n",
            "    \"p2c\",\n",
            "    \"c2p\"\n",
            "  ],\n",
            "  \"position_biased_input\": false,\n",
            "  \"position_buckets\": 256,\n",
            "  \"relative_attention\": true,\n",
            "  \"share_att_key\": true,\n",
            "  \"transformers_version\": \"4.21.2\",\n",
            "  \"type_vocab_size\": 0,\n",
            "  \"vocab_size\": 128100\n",
            "}\n",
            "\n",
            "loading weights file https://huggingface.co/microsoft/deberta-v3-base/resolve/main/pytorch_model.bin from cache at /root/.cache/huggingface/transformers/322954555e18d37b9f98196875590497a8b33244551ec195e00fcdb831878224.f80cec19a933132f8b9636fbb3b736b2f4b9c8deaa45dfe4dd6e40a4d9970f44\n",
            "Some weights of the model checkpoint at microsoft/deberta-v3-base were not used when initializing DebertaV2ForSequenceClassification: ['mask_predictions.dense.weight', 'mask_predictions.LayerNorm.bias', 'lm_predictions.lm_head.dense.bias', 'mask_predictions.classifier.weight', 'mask_predictions.classifier.bias', 'lm_predictions.lm_head.LayerNorm.weight', 'mask_predictions.LayerNorm.weight', 'lm_predictions.lm_head.LayerNorm.bias', 'mask_predictions.dense.bias', 'lm_predictions.lm_head.bias', 'lm_predictions.lm_head.dense.weight']\n",
            "- This IS expected if you are initializing DebertaV2ForSequenceClassification from the checkpoint of a model trained on another task or with another architecture (e.g. initializing a BertForSequenceClassification model from a BertForPreTraining model).\n",
            "- This IS NOT expected if you are initializing DebertaV2ForSequenceClassification from the checkpoint of a model that you expect to be exactly identical (initializing a BertForSequenceClassification model from a BertForSequenceClassification model).\n",
            "Some weights of DebertaV2ForSequenceClassification were not initialized from the model checkpoint at microsoft/deberta-v3-base and are newly initialized: ['pooler.dense.bias', 'classifier.weight', 'classifier.bias', 'pooler.dense.weight']\n",
            "You should probably TRAIN this model on a down-stream task to be able to use it for predictions and inference.\n",
            "loading configuration file https://huggingface.co/microsoft/deberta-v3-base/resolve/main/config.json from cache at /root/.cache/huggingface/transformers/e6f9db57345f0f60c9f837fa97bcb27b1ed31e99feb33d732d7d8c80cb8f8459.de97182a9f32a68819030ba8f3f6ff2ba47276be3864425925523202f54cc79c\n",
            "Model config DebertaV2Config {\n",
            "  \"_name_or_path\": \"microsoft/deberta-v3-base\",\n",
            "  \"attention_probs_dropout_prob\": 0.1,\n",
            "  \"hidden_act\": \"gelu\",\n",
            "  \"hidden_dropout_prob\": 0.1,\n",
            "  \"hidden_size\": 768,\n",
            "  \"id2label\": {\n",
            "    \"0\": \"LABEL_0\",\n",
            "    \"1\": \"LABEL_1\",\n",
            "    \"2\": \"LABEL_2\"\n",
            "  },\n",
            "  \"initializer_range\": 0.02,\n",
            "  \"intermediate_size\": 3072,\n",
            "  \"label2id\": {\n",
            "    \"LABEL_0\": 0,\n",
            "    \"LABEL_1\": 1,\n",
            "    \"LABEL_2\": 2\n",
            "  },\n",
            "  \"layer_norm_eps\": 1e-07,\n",
            "  \"max_position_embeddings\": 512,\n",
            "  \"max_relative_positions\": -1,\n",
            "  \"model_type\": \"deberta-v2\",\n",
            "  \"norm_rel_ebd\": \"layer_norm\",\n",
            "  \"num_attention_heads\": 12,\n",
            "  \"num_hidden_layers\": 12,\n",
            "  \"pad_token_id\": 0,\n",
            "  \"pooler_dropout\": 0,\n",
            "  \"pooler_hidden_act\": \"gelu\",\n",
            "  \"pooler_hidden_size\": 768,\n",
            "  \"pos_att_type\": [\n",
            "    \"p2c\",\n",
            "    \"c2p\"\n",
            "  ],\n",
            "  \"position_biased_input\": false,\n",
            "  \"position_buckets\": 256,\n",
            "  \"relative_attention\": true,\n",
            "  \"share_att_key\": true,\n",
            "  \"transformers_version\": \"4.21.2\",\n",
            "  \"type_vocab_size\": 0,\n",
            "  \"vocab_size\": 128100\n",
            "}\n",
            "\n",
            "/usr/local/lib/python3.7/dist-packages/transformers/optimization.py:310: FutureWarning: This implementation of AdamW is deprecated and will be removed in a future version. Use the PyTorch implementation torch.optim.AdamW instead, or set `no_deprecation_warning=True` to disable this warning\n",
            "  FutureWarning,\n",
            "***** Running training *****\n",
            "  Num examples = 3779\n",
            "  Num Epochs = 4\n",
            "  Instantaneous batch size per device = 3\n",
            "  Total train batch size (w. parallel, distributed & accumulation) = 3\n",
            "  Gradient Accumulation steps = 1\n",
            "  Total optimization steps = 5040\n"
          ]
        },
        {
          "output_type": "display_data",
          "data": {
            "text/plain": [
              "<IPython.core.display.HTML object>"
            ],
            "text/html": [
              "\n",
              "    <div>\n",
              "      \n",
              "      <progress value='5040' max='5040' style='width:300px; height:20px; vertical-align: middle;'></progress>\n",
              "      [5040/5040 1:57:32, Epoch 4/4]\n",
              "    </div>\n",
              "    <table border=\"1\" class=\"dataframe\">\n",
              "  <thead>\n",
              " <tr style=\"text-align: left;\">\n",
              "      <th>Step</th>\n",
              "      <th>Training Loss</th>\n",
              "    </tr>\n",
              "  </thead>\n",
              "  <tbody>\n",
              "    <tr>\n",
              "      <td>20</td>\n",
              "      <td>1.124500</td>\n",
              "    </tr>\n",
              "    <tr>\n",
              "      <td>40</td>\n",
              "      <td>1.085700</td>\n",
              "    </tr>\n",
              "    <tr>\n",
              "      <td>60</td>\n",
              "      <td>1.101800</td>\n",
              "    </tr>\n",
              "    <tr>\n",
              "      <td>80</td>\n",
              "      <td>1.094700</td>\n",
              "    </tr>\n",
              "    <tr>\n",
              "      <td>100</td>\n",
              "      <td>1.106900</td>\n",
              "    </tr>\n",
              "    <tr>\n",
              "      <td>120</td>\n",
              "      <td>1.100400</td>\n",
              "    </tr>\n",
              "    <tr>\n",
              "      <td>140</td>\n",
              "      <td>1.118000</td>\n",
              "    </tr>\n",
              "    <tr>\n",
              "      <td>160</td>\n",
              "      <td>1.097300</td>\n",
              "    </tr>\n",
              "    <tr>\n",
              "      <td>180</td>\n",
              "      <td>1.089400</td>\n",
              "    </tr>\n",
              "    <tr>\n",
              "      <td>200</td>\n",
              "      <td>1.088500</td>\n",
              "    </tr>\n",
              "    <tr>\n",
              "      <td>220</td>\n",
              "      <td>1.091900</td>\n",
              "    </tr>\n",
              "    <tr>\n",
              "      <td>240</td>\n",
              "      <td>1.051100</td>\n",
              "    </tr>\n",
              "    <tr>\n",
              "      <td>260</td>\n",
              "      <td>1.086500</td>\n",
              "    </tr>\n",
              "    <tr>\n",
              "      <td>280</td>\n",
              "      <td>0.871600</td>\n",
              "    </tr>\n",
              "    <tr>\n",
              "      <td>300</td>\n",
              "      <td>0.880700</td>\n",
              "    </tr>\n",
              "    <tr>\n",
              "      <td>320</td>\n",
              "      <td>0.860600</td>\n",
              "    </tr>\n",
              "    <tr>\n",
              "      <td>340</td>\n",
              "      <td>0.795600</td>\n",
              "    </tr>\n",
              "    <tr>\n",
              "      <td>360</td>\n",
              "      <td>0.911800</td>\n",
              "    </tr>\n",
              "    <tr>\n",
              "      <td>380</td>\n",
              "      <td>0.916600</td>\n",
              "    </tr>\n",
              "    <tr>\n",
              "      <td>400</td>\n",
              "      <td>0.865400</td>\n",
              "    </tr>\n",
              "    <tr>\n",
              "      <td>420</td>\n",
              "      <td>0.851500</td>\n",
              "    </tr>\n",
              "    <tr>\n",
              "      <td>440</td>\n",
              "      <td>0.904200</td>\n",
              "    </tr>\n",
              "    <tr>\n",
              "      <td>460</td>\n",
              "      <td>0.910900</td>\n",
              "    </tr>\n",
              "    <tr>\n",
              "      <td>480</td>\n",
              "      <td>0.826600</td>\n",
              "    </tr>\n",
              "    <tr>\n",
              "      <td>500</td>\n",
              "      <td>0.829100</td>\n",
              "    </tr>\n",
              "    <tr>\n",
              "      <td>520</td>\n",
              "      <td>0.603500</td>\n",
              "    </tr>\n",
              "    <tr>\n",
              "      <td>540</td>\n",
              "      <td>0.902800</td>\n",
              "    </tr>\n",
              "    <tr>\n",
              "      <td>560</td>\n",
              "      <td>0.889800</td>\n",
              "    </tr>\n",
              "    <tr>\n",
              "      <td>580</td>\n",
              "      <td>0.691500</td>\n",
              "    </tr>\n",
              "    <tr>\n",
              "      <td>600</td>\n",
              "      <td>0.643500</td>\n",
              "    </tr>\n",
              "    <tr>\n",
              "      <td>620</td>\n",
              "      <td>0.863600</td>\n",
              "    </tr>\n",
              "    <tr>\n",
              "      <td>640</td>\n",
              "      <td>0.769400</td>\n",
              "    </tr>\n",
              "    <tr>\n",
              "      <td>660</td>\n",
              "      <td>0.712000</td>\n",
              "    </tr>\n",
              "    <tr>\n",
              "      <td>680</td>\n",
              "      <td>0.673600</td>\n",
              "    </tr>\n",
              "    <tr>\n",
              "      <td>700</td>\n",
              "      <td>0.824200</td>\n",
              "    </tr>\n",
              "    <tr>\n",
              "      <td>720</td>\n",
              "      <td>0.796400</td>\n",
              "    </tr>\n",
              "    <tr>\n",
              "      <td>740</td>\n",
              "      <td>0.676400</td>\n",
              "    </tr>\n",
              "    <tr>\n",
              "      <td>760</td>\n",
              "      <td>0.736400</td>\n",
              "    </tr>\n",
              "    <tr>\n",
              "      <td>780</td>\n",
              "      <td>0.888700</td>\n",
              "    </tr>\n",
              "    <tr>\n",
              "      <td>800</td>\n",
              "      <td>0.693000</td>\n",
              "    </tr>\n",
              "    <tr>\n",
              "      <td>820</td>\n",
              "      <td>0.886000</td>\n",
              "    </tr>\n",
              "    <tr>\n",
              "      <td>840</td>\n",
              "      <td>0.791500</td>\n",
              "    </tr>\n",
              "    <tr>\n",
              "      <td>860</td>\n",
              "      <td>0.867900</td>\n",
              "    </tr>\n",
              "    <tr>\n",
              "      <td>880</td>\n",
              "      <td>0.814500</td>\n",
              "    </tr>\n",
              "    <tr>\n",
              "      <td>900</td>\n",
              "      <td>0.795100</td>\n",
              "    </tr>\n",
              "    <tr>\n",
              "      <td>920</td>\n",
              "      <td>0.579800</td>\n",
              "    </tr>\n",
              "    <tr>\n",
              "      <td>940</td>\n",
              "      <td>0.741900</td>\n",
              "    </tr>\n",
              "    <tr>\n",
              "      <td>960</td>\n",
              "      <td>0.697500</td>\n",
              "    </tr>\n",
              "    <tr>\n",
              "      <td>980</td>\n",
              "      <td>0.552800</td>\n",
              "    </tr>\n",
              "    <tr>\n",
              "      <td>1000</td>\n",
              "      <td>0.921000</td>\n",
              "    </tr>\n",
              "    <tr>\n",
              "      <td>1020</td>\n",
              "      <td>0.631600</td>\n",
              "    </tr>\n",
              "    <tr>\n",
              "      <td>1040</td>\n",
              "      <td>0.521800</td>\n",
              "    </tr>\n",
              "    <tr>\n",
              "      <td>1060</td>\n",
              "      <td>0.957500</td>\n",
              "    </tr>\n",
              "    <tr>\n",
              "      <td>1080</td>\n",
              "      <td>0.956600</td>\n",
              "    </tr>\n",
              "    <tr>\n",
              "      <td>1100</td>\n",
              "      <td>0.707000</td>\n",
              "    </tr>\n",
              "    <tr>\n",
              "      <td>1120</td>\n",
              "      <td>1.005900</td>\n",
              "    </tr>\n",
              "    <tr>\n",
              "      <td>1140</td>\n",
              "      <td>0.767800</td>\n",
              "    </tr>\n",
              "    <tr>\n",
              "      <td>1160</td>\n",
              "      <td>0.790100</td>\n",
              "    </tr>\n",
              "    <tr>\n",
              "      <td>1180</td>\n",
              "      <td>0.881700</td>\n",
              "    </tr>\n",
              "    <tr>\n",
              "      <td>1200</td>\n",
              "      <td>0.572100</td>\n",
              "    </tr>\n",
              "    <tr>\n",
              "      <td>1220</td>\n",
              "      <td>1.136300</td>\n",
              "    </tr>\n",
              "    <tr>\n",
              "      <td>1240</td>\n",
              "      <td>0.922100</td>\n",
              "    </tr>\n",
              "    <tr>\n",
              "      <td>1260</td>\n",
              "      <td>0.556600</td>\n",
              "    </tr>\n",
              "    <tr>\n",
              "      <td>1280</td>\n",
              "      <td>0.412500</td>\n",
              "    </tr>\n",
              "    <tr>\n",
              "      <td>1300</td>\n",
              "      <td>0.526800</td>\n",
              "    </tr>\n",
              "    <tr>\n",
              "      <td>1320</td>\n",
              "      <td>0.771500</td>\n",
              "    </tr>\n",
              "    <tr>\n",
              "      <td>1340</td>\n",
              "      <td>0.563700</td>\n",
              "    </tr>\n",
              "    <tr>\n",
              "      <td>1360</td>\n",
              "      <td>0.614500</td>\n",
              "    </tr>\n",
              "    <tr>\n",
              "      <td>1380</td>\n",
              "      <td>0.612600</td>\n",
              "    </tr>\n",
              "    <tr>\n",
              "      <td>1400</td>\n",
              "      <td>0.847200</td>\n",
              "    </tr>\n",
              "    <tr>\n",
              "      <td>1420</td>\n",
              "      <td>0.598700</td>\n",
              "    </tr>\n",
              "    <tr>\n",
              "      <td>1440</td>\n",
              "      <td>0.592200</td>\n",
              "    </tr>\n",
              "    <tr>\n",
              "      <td>1460</td>\n",
              "      <td>0.582800</td>\n",
              "    </tr>\n",
              "    <tr>\n",
              "      <td>1480</td>\n",
              "      <td>0.874200</td>\n",
              "    </tr>\n",
              "    <tr>\n",
              "      <td>1500</td>\n",
              "      <td>0.689600</td>\n",
              "    </tr>\n",
              "    <tr>\n",
              "      <td>1520</td>\n",
              "      <td>0.798900</td>\n",
              "    </tr>\n",
              "    <tr>\n",
              "      <td>1540</td>\n",
              "      <td>0.441000</td>\n",
              "    </tr>\n",
              "    <tr>\n",
              "      <td>1560</td>\n",
              "      <td>0.737800</td>\n",
              "    </tr>\n",
              "    <tr>\n",
              "      <td>1580</td>\n",
              "      <td>0.574500</td>\n",
              "    </tr>\n",
              "    <tr>\n",
              "      <td>1600</td>\n",
              "      <td>1.016900</td>\n",
              "    </tr>\n",
              "    <tr>\n",
              "      <td>1620</td>\n",
              "      <td>0.586300</td>\n",
              "    </tr>\n",
              "    <tr>\n",
              "      <td>1640</td>\n",
              "      <td>0.701600</td>\n",
              "    </tr>\n",
              "    <tr>\n",
              "      <td>1660</td>\n",
              "      <td>0.540600</td>\n",
              "    </tr>\n",
              "    <tr>\n",
              "      <td>1680</td>\n",
              "      <td>0.501400</td>\n",
              "    </tr>\n",
              "    <tr>\n",
              "      <td>1700</td>\n",
              "      <td>0.727200</td>\n",
              "    </tr>\n",
              "    <tr>\n",
              "      <td>1720</td>\n",
              "      <td>0.510500</td>\n",
              "    </tr>\n",
              "    <tr>\n",
              "      <td>1740</td>\n",
              "      <td>0.454800</td>\n",
              "    </tr>\n",
              "    <tr>\n",
              "      <td>1760</td>\n",
              "      <td>0.886500</td>\n",
              "    </tr>\n",
              "    <tr>\n",
              "      <td>1780</td>\n",
              "      <td>0.748500</td>\n",
              "    </tr>\n",
              "    <tr>\n",
              "      <td>1800</td>\n",
              "      <td>0.550500</td>\n",
              "    </tr>\n",
              "    <tr>\n",
              "      <td>1820</td>\n",
              "      <td>0.647700</td>\n",
              "    </tr>\n",
              "    <tr>\n",
              "      <td>1840</td>\n",
              "      <td>0.724800</td>\n",
              "    </tr>\n",
              "    <tr>\n",
              "      <td>1860</td>\n",
              "      <td>0.662000</td>\n",
              "    </tr>\n",
              "    <tr>\n",
              "      <td>1880</td>\n",
              "      <td>0.896900</td>\n",
              "    </tr>\n",
              "    <tr>\n",
              "      <td>1900</td>\n",
              "      <td>0.538500</td>\n",
              "    </tr>\n",
              "    <tr>\n",
              "      <td>1920</td>\n",
              "      <td>0.696000</td>\n",
              "    </tr>\n",
              "    <tr>\n",
              "      <td>1940</td>\n",
              "      <td>0.948400</td>\n",
              "    </tr>\n",
              "    <tr>\n",
              "      <td>1960</td>\n",
              "      <td>0.609400</td>\n",
              "    </tr>\n",
              "    <tr>\n",
              "      <td>1980</td>\n",
              "      <td>0.930400</td>\n",
              "    </tr>\n",
              "    <tr>\n",
              "      <td>2000</td>\n",
              "      <td>0.481000</td>\n",
              "    </tr>\n",
              "    <tr>\n",
              "      <td>2020</td>\n",
              "      <td>1.171000</td>\n",
              "    </tr>\n",
              "    <tr>\n",
              "      <td>2040</td>\n",
              "      <td>0.399700</td>\n",
              "    </tr>\n",
              "    <tr>\n",
              "      <td>2060</td>\n",
              "      <td>0.725400</td>\n",
              "    </tr>\n",
              "    <tr>\n",
              "      <td>2080</td>\n",
              "      <td>0.619300</td>\n",
              "    </tr>\n",
              "    <tr>\n",
              "      <td>2100</td>\n",
              "      <td>0.653000</td>\n",
              "    </tr>\n",
              "    <tr>\n",
              "      <td>2120</td>\n",
              "      <td>0.592300</td>\n",
              "    </tr>\n",
              "    <tr>\n",
              "      <td>2140</td>\n",
              "      <td>0.817100</td>\n",
              "    </tr>\n",
              "    <tr>\n",
              "      <td>2160</td>\n",
              "      <td>0.548600</td>\n",
              "    </tr>\n",
              "    <tr>\n",
              "      <td>2180</td>\n",
              "      <td>0.925600</td>\n",
              "    </tr>\n",
              "    <tr>\n",
              "      <td>2200</td>\n",
              "      <td>1.125200</td>\n",
              "    </tr>\n",
              "    <tr>\n",
              "      <td>2220</td>\n",
              "      <td>0.837700</td>\n",
              "    </tr>\n",
              "    <tr>\n",
              "      <td>2240</td>\n",
              "      <td>0.673800</td>\n",
              "    </tr>\n",
              "    <tr>\n",
              "      <td>2260</td>\n",
              "      <td>0.369800</td>\n",
              "    </tr>\n",
              "    <tr>\n",
              "      <td>2280</td>\n",
              "      <td>0.814400</td>\n",
              "    </tr>\n",
              "    <tr>\n",
              "      <td>2300</td>\n",
              "      <td>0.609100</td>\n",
              "    </tr>\n",
              "    <tr>\n",
              "      <td>2320</td>\n",
              "      <td>0.494600</td>\n",
              "    </tr>\n",
              "    <tr>\n",
              "      <td>2340</td>\n",
              "      <td>0.600400</td>\n",
              "    </tr>\n",
              "    <tr>\n",
              "      <td>2360</td>\n",
              "      <td>1.127500</td>\n",
              "    </tr>\n",
              "    <tr>\n",
              "      <td>2380</td>\n",
              "      <td>0.994200</td>\n",
              "    </tr>\n",
              "    <tr>\n",
              "      <td>2400</td>\n",
              "      <td>0.604400</td>\n",
              "    </tr>\n",
              "    <tr>\n",
              "      <td>2420</td>\n",
              "      <td>0.547400</td>\n",
              "    </tr>\n",
              "    <tr>\n",
              "      <td>2440</td>\n",
              "      <td>0.719800</td>\n",
              "    </tr>\n",
              "    <tr>\n",
              "      <td>2460</td>\n",
              "      <td>0.577300</td>\n",
              "    </tr>\n",
              "    <tr>\n",
              "      <td>2480</td>\n",
              "      <td>0.790400</td>\n",
              "    </tr>\n",
              "    <tr>\n",
              "      <td>2500</td>\n",
              "      <td>0.692600</td>\n",
              "    </tr>\n",
              "    <tr>\n",
              "      <td>2520</td>\n",
              "      <td>0.804800</td>\n",
              "    </tr>\n",
              "    <tr>\n",
              "      <td>2540</td>\n",
              "      <td>0.414300</td>\n",
              "    </tr>\n",
              "    <tr>\n",
              "      <td>2560</td>\n",
              "      <td>0.641800</td>\n",
              "    </tr>\n",
              "    <tr>\n",
              "      <td>2580</td>\n",
              "      <td>0.524300</td>\n",
              "    </tr>\n",
              "    <tr>\n",
              "      <td>2600</td>\n",
              "      <td>0.491600</td>\n",
              "    </tr>\n",
              "    <tr>\n",
              "      <td>2620</td>\n",
              "      <td>0.519100</td>\n",
              "    </tr>\n",
              "    <tr>\n",
              "      <td>2640</td>\n",
              "      <td>0.461000</td>\n",
              "    </tr>\n",
              "    <tr>\n",
              "      <td>2660</td>\n",
              "      <td>0.646700</td>\n",
              "    </tr>\n",
              "    <tr>\n",
              "      <td>2680</td>\n",
              "      <td>0.326400</td>\n",
              "    </tr>\n",
              "    <tr>\n",
              "      <td>2700</td>\n",
              "      <td>0.509600</td>\n",
              "    </tr>\n",
              "    <tr>\n",
              "      <td>2720</td>\n",
              "      <td>0.642300</td>\n",
              "    </tr>\n",
              "    <tr>\n",
              "      <td>2740</td>\n",
              "      <td>0.527800</td>\n",
              "    </tr>\n",
              "    <tr>\n",
              "      <td>2760</td>\n",
              "      <td>0.495500</td>\n",
              "    </tr>\n",
              "    <tr>\n",
              "      <td>2780</td>\n",
              "      <td>0.395200</td>\n",
              "    </tr>\n",
              "    <tr>\n",
              "      <td>2800</td>\n",
              "      <td>0.425500</td>\n",
              "    </tr>\n",
              "    <tr>\n",
              "      <td>2820</td>\n",
              "      <td>0.606200</td>\n",
              "    </tr>\n",
              "    <tr>\n",
              "      <td>2840</td>\n",
              "      <td>0.506500</td>\n",
              "    </tr>\n",
              "    <tr>\n",
              "      <td>2860</td>\n",
              "      <td>0.747000</td>\n",
              "    </tr>\n",
              "    <tr>\n",
              "      <td>2880</td>\n",
              "      <td>0.469900</td>\n",
              "    </tr>\n",
              "    <tr>\n",
              "      <td>2900</td>\n",
              "      <td>0.768900</td>\n",
              "    </tr>\n",
              "    <tr>\n",
              "      <td>2920</td>\n",
              "      <td>0.692000</td>\n",
              "    </tr>\n",
              "    <tr>\n",
              "      <td>2940</td>\n",
              "      <td>0.410400</td>\n",
              "    </tr>\n",
              "    <tr>\n",
              "      <td>2960</td>\n",
              "      <td>0.667400</td>\n",
              "    </tr>\n",
              "    <tr>\n",
              "      <td>2980</td>\n",
              "      <td>0.543900</td>\n",
              "    </tr>\n",
              "    <tr>\n",
              "      <td>3000</td>\n",
              "      <td>0.262000</td>\n",
              "    </tr>\n",
              "    <tr>\n",
              "      <td>3020</td>\n",
              "      <td>0.895000</td>\n",
              "    </tr>\n",
              "    <tr>\n",
              "      <td>3040</td>\n",
              "      <td>0.577100</td>\n",
              "    </tr>\n",
              "    <tr>\n",
              "      <td>3060</td>\n",
              "      <td>0.313300</td>\n",
              "    </tr>\n",
              "    <tr>\n",
              "      <td>3080</td>\n",
              "      <td>0.627900</td>\n",
              "    </tr>\n",
              "    <tr>\n",
              "      <td>3100</td>\n",
              "      <td>0.502000</td>\n",
              "    </tr>\n",
              "    <tr>\n",
              "      <td>3120</td>\n",
              "      <td>0.464300</td>\n",
              "    </tr>\n",
              "    <tr>\n",
              "      <td>3140</td>\n",
              "      <td>0.601900</td>\n",
              "    </tr>\n",
              "    <tr>\n",
              "      <td>3160</td>\n",
              "      <td>0.538600</td>\n",
              "    </tr>\n",
              "    <tr>\n",
              "      <td>3180</td>\n",
              "      <td>0.487300</td>\n",
              "    </tr>\n",
              "    <tr>\n",
              "      <td>3200</td>\n",
              "      <td>0.801500</td>\n",
              "    </tr>\n",
              "    <tr>\n",
              "      <td>3220</td>\n",
              "      <td>0.450600</td>\n",
              "    </tr>\n",
              "    <tr>\n",
              "      <td>3240</td>\n",
              "      <td>0.516100</td>\n",
              "    </tr>\n",
              "    <tr>\n",
              "      <td>3260</td>\n",
              "      <td>0.563300</td>\n",
              "    </tr>\n",
              "    <tr>\n",
              "      <td>3280</td>\n",
              "      <td>0.475300</td>\n",
              "    </tr>\n",
              "    <tr>\n",
              "      <td>3300</td>\n",
              "      <td>0.657500</td>\n",
              "    </tr>\n",
              "    <tr>\n",
              "      <td>3320</td>\n",
              "      <td>0.859100</td>\n",
              "    </tr>\n",
              "    <tr>\n",
              "      <td>3340</td>\n",
              "      <td>0.840300</td>\n",
              "    </tr>\n",
              "    <tr>\n",
              "      <td>3360</td>\n",
              "      <td>0.685400</td>\n",
              "    </tr>\n",
              "    <tr>\n",
              "      <td>3380</td>\n",
              "      <td>0.564700</td>\n",
              "    </tr>\n",
              "    <tr>\n",
              "      <td>3400</td>\n",
              "      <td>0.676600</td>\n",
              "    </tr>\n",
              "    <tr>\n",
              "      <td>3420</td>\n",
              "      <td>0.666200</td>\n",
              "    </tr>\n",
              "    <tr>\n",
              "      <td>3440</td>\n",
              "      <td>0.433300</td>\n",
              "    </tr>\n",
              "    <tr>\n",
              "      <td>3460</td>\n",
              "      <td>0.775900</td>\n",
              "    </tr>\n",
              "    <tr>\n",
              "      <td>3480</td>\n",
              "      <td>0.554300</td>\n",
              "    </tr>\n",
              "    <tr>\n",
              "      <td>3500</td>\n",
              "      <td>0.572500</td>\n",
              "    </tr>\n",
              "    <tr>\n",
              "      <td>3520</td>\n",
              "      <td>0.443200</td>\n",
              "    </tr>\n",
              "    <tr>\n",
              "      <td>3540</td>\n",
              "      <td>0.680700</td>\n",
              "    </tr>\n",
              "    <tr>\n",
              "      <td>3560</td>\n",
              "      <td>0.887300</td>\n",
              "    </tr>\n",
              "    <tr>\n",
              "      <td>3580</td>\n",
              "      <td>0.777700</td>\n",
              "    </tr>\n",
              "    <tr>\n",
              "      <td>3600</td>\n",
              "      <td>0.560700</td>\n",
              "    </tr>\n",
              "    <tr>\n",
              "      <td>3620</td>\n",
              "      <td>0.728700</td>\n",
              "    </tr>\n",
              "    <tr>\n",
              "      <td>3640</td>\n",
              "      <td>0.915900</td>\n",
              "    </tr>\n",
              "    <tr>\n",
              "      <td>3660</td>\n",
              "      <td>0.711600</td>\n",
              "    </tr>\n",
              "    <tr>\n",
              "      <td>3680</td>\n",
              "      <td>0.574600</td>\n",
              "    </tr>\n",
              "    <tr>\n",
              "      <td>3700</td>\n",
              "      <td>0.565200</td>\n",
              "    </tr>\n",
              "    <tr>\n",
              "      <td>3720</td>\n",
              "      <td>0.603000</td>\n",
              "    </tr>\n",
              "    <tr>\n",
              "      <td>3740</td>\n",
              "      <td>0.338700</td>\n",
              "    </tr>\n",
              "    <tr>\n",
              "      <td>3760</td>\n",
              "      <td>0.614200</td>\n",
              "    </tr>\n",
              "    <tr>\n",
              "      <td>3780</td>\n",
              "      <td>0.573900</td>\n",
              "    </tr>\n",
              "    <tr>\n",
              "      <td>3800</td>\n",
              "      <td>0.832500</td>\n",
              "    </tr>\n",
              "    <tr>\n",
              "      <td>3820</td>\n",
              "      <td>0.317000</td>\n",
              "    </tr>\n",
              "    <tr>\n",
              "      <td>3840</td>\n",
              "      <td>0.542600</td>\n",
              "    </tr>\n",
              "    <tr>\n",
              "      <td>3860</td>\n",
              "      <td>0.460500</td>\n",
              "    </tr>\n",
              "    <tr>\n",
              "      <td>3880</td>\n",
              "      <td>0.539500</td>\n",
              "    </tr>\n",
              "    <tr>\n",
              "      <td>3900</td>\n",
              "      <td>0.256800</td>\n",
              "    </tr>\n",
              "    <tr>\n",
              "      <td>3920</td>\n",
              "      <td>0.285400</td>\n",
              "    </tr>\n",
              "    <tr>\n",
              "      <td>3940</td>\n",
              "      <td>0.369300</td>\n",
              "    </tr>\n",
              "    <tr>\n",
              "      <td>3960</td>\n",
              "      <td>0.679900</td>\n",
              "    </tr>\n",
              "    <tr>\n",
              "      <td>3980</td>\n",
              "      <td>0.527100</td>\n",
              "    </tr>\n",
              "    <tr>\n",
              "      <td>4000</td>\n",
              "      <td>0.586400</td>\n",
              "    </tr>\n",
              "    <tr>\n",
              "      <td>4020</td>\n",
              "      <td>0.655200</td>\n",
              "    </tr>\n",
              "    <tr>\n",
              "      <td>4040</td>\n",
              "      <td>0.424600</td>\n",
              "    </tr>\n",
              "    <tr>\n",
              "      <td>4060</td>\n",
              "      <td>0.568200</td>\n",
              "    </tr>\n",
              "    <tr>\n",
              "      <td>4080</td>\n",
              "      <td>0.355400</td>\n",
              "    </tr>\n",
              "    <tr>\n",
              "      <td>4100</td>\n",
              "      <td>0.741400</td>\n",
              "    </tr>\n",
              "    <tr>\n",
              "      <td>4120</td>\n",
              "      <td>0.289800</td>\n",
              "    </tr>\n",
              "    <tr>\n",
              "      <td>4140</td>\n",
              "      <td>0.291100</td>\n",
              "    </tr>\n",
              "    <tr>\n",
              "      <td>4160</td>\n",
              "      <td>0.519900</td>\n",
              "    </tr>\n",
              "    <tr>\n",
              "      <td>4180</td>\n",
              "      <td>0.373000</td>\n",
              "    </tr>\n",
              "    <tr>\n",
              "      <td>4200</td>\n",
              "      <td>0.477200</td>\n",
              "    </tr>\n",
              "    <tr>\n",
              "      <td>4220</td>\n",
              "      <td>0.221800</td>\n",
              "    </tr>\n",
              "    <tr>\n",
              "      <td>4240</td>\n",
              "      <td>0.565800</td>\n",
              "    </tr>\n",
              "    <tr>\n",
              "      <td>4260</td>\n",
              "      <td>0.260500</td>\n",
              "    </tr>\n",
              "    <tr>\n",
              "      <td>4280</td>\n",
              "      <td>0.385900</td>\n",
              "    </tr>\n",
              "    <tr>\n",
              "      <td>4300</td>\n",
              "      <td>0.220100</td>\n",
              "    </tr>\n",
              "    <tr>\n",
              "      <td>4320</td>\n",
              "      <td>0.548800</td>\n",
              "    </tr>\n",
              "    <tr>\n",
              "      <td>4340</td>\n",
              "      <td>0.386200</td>\n",
              "    </tr>\n",
              "    <tr>\n",
              "      <td>4360</td>\n",
              "      <td>0.402300</td>\n",
              "    </tr>\n",
              "    <tr>\n",
              "      <td>4380</td>\n",
              "      <td>0.630500</td>\n",
              "    </tr>\n",
              "    <tr>\n",
              "      <td>4400</td>\n",
              "      <td>0.719400</td>\n",
              "    </tr>\n",
              "    <tr>\n",
              "      <td>4420</td>\n",
              "      <td>0.781200</td>\n",
              "    </tr>\n",
              "    <tr>\n",
              "      <td>4440</td>\n",
              "      <td>0.598200</td>\n",
              "    </tr>\n",
              "    <tr>\n",
              "      <td>4460</td>\n",
              "      <td>0.478100</td>\n",
              "    </tr>\n",
              "    <tr>\n",
              "      <td>4480</td>\n",
              "      <td>0.311800</td>\n",
              "    </tr>\n",
              "    <tr>\n",
              "      <td>4500</td>\n",
              "      <td>0.330900</td>\n",
              "    </tr>\n",
              "    <tr>\n",
              "      <td>4520</td>\n",
              "      <td>0.342500</td>\n",
              "    </tr>\n",
              "    <tr>\n",
              "      <td>4540</td>\n",
              "      <td>0.165700</td>\n",
              "    </tr>\n",
              "    <tr>\n",
              "      <td>4560</td>\n",
              "      <td>0.552200</td>\n",
              "    </tr>\n",
              "    <tr>\n",
              "      <td>4580</td>\n",
              "      <td>0.573000</td>\n",
              "    </tr>\n",
              "    <tr>\n",
              "      <td>4600</td>\n",
              "      <td>0.295300</td>\n",
              "    </tr>\n",
              "    <tr>\n",
              "      <td>4620</td>\n",
              "      <td>0.525800</td>\n",
              "    </tr>\n",
              "    <tr>\n",
              "      <td>4640</td>\n",
              "      <td>0.610000</td>\n",
              "    </tr>\n",
              "    <tr>\n",
              "      <td>4660</td>\n",
              "      <td>0.169500</td>\n",
              "    </tr>\n",
              "    <tr>\n",
              "      <td>4680</td>\n",
              "      <td>0.619400</td>\n",
              "    </tr>\n",
              "    <tr>\n",
              "      <td>4700</td>\n",
              "      <td>0.598400</td>\n",
              "    </tr>\n",
              "    <tr>\n",
              "      <td>4720</td>\n",
              "      <td>0.654900</td>\n",
              "    </tr>\n",
              "    <tr>\n",
              "      <td>4740</td>\n",
              "      <td>0.415200</td>\n",
              "    </tr>\n",
              "    <tr>\n",
              "      <td>4760</td>\n",
              "      <td>0.897700</td>\n",
              "    </tr>\n",
              "    <tr>\n",
              "      <td>4780</td>\n",
              "      <td>0.574700</td>\n",
              "    </tr>\n",
              "    <tr>\n",
              "      <td>4800</td>\n",
              "      <td>0.416000</td>\n",
              "    </tr>\n",
              "    <tr>\n",
              "      <td>4820</td>\n",
              "      <td>0.645300</td>\n",
              "    </tr>\n",
              "    <tr>\n",
              "      <td>4840</td>\n",
              "      <td>0.367300</td>\n",
              "    </tr>\n",
              "    <tr>\n",
              "      <td>4860</td>\n",
              "      <td>0.547300</td>\n",
              "    </tr>\n",
              "    <tr>\n",
              "      <td>4880</td>\n",
              "      <td>0.443100</td>\n",
              "    </tr>\n",
              "    <tr>\n",
              "      <td>4900</td>\n",
              "      <td>0.648100</td>\n",
              "    </tr>\n",
              "    <tr>\n",
              "      <td>4920</td>\n",
              "      <td>0.157800</td>\n",
              "    </tr>\n",
              "    <tr>\n",
              "      <td>4940</td>\n",
              "      <td>0.415600</td>\n",
              "    </tr>\n",
              "    <tr>\n",
              "      <td>4960</td>\n",
              "      <td>0.235100</td>\n",
              "    </tr>\n",
              "    <tr>\n",
              "      <td>4980</td>\n",
              "      <td>0.517800</td>\n",
              "    </tr>\n",
              "    <tr>\n",
              "      <td>5000</td>\n",
              "      <td>0.338400</td>\n",
              "    </tr>\n",
              "    <tr>\n",
              "      <td>5020</td>\n",
              "      <td>0.603200</td>\n",
              "    </tr>\n",
              "    <tr>\n",
              "      <td>5040</td>\n",
              "      <td>0.576900</td>\n",
              "    </tr>\n",
              "  </tbody>\n",
              "</table><p>"
            ]
          },
          "metadata": {}
        },
        {
          "output_type": "stream",
          "name": "stderr",
          "text": [
            "30it [00:18,  1.62it/s]\n",
            "Configuration saved in /content/output_model/best/config.json\n"
          ]
        },
        {
          "output_type": "stream",
          "name": "stdout",
          "text": [
            "Accuracy:  0.3333333333333333\n",
            "max accuaracy is 0.3333333333333333 \n"
          ]
        },
        {
          "output_type": "stream",
          "name": "stderr",
          "text": [
            "Model weights saved in /content/output_model/best/pytorch_model.bin\n",
            "tokenizer config file saved in /content/output_model/best/tokenizer_config.json\n",
            "Special tokens file saved in /content/output_model/best/special_tokens_map.json\n",
            "30it [00:18,  1.58it/s]\n"
          ]
        },
        {
          "output_type": "stream",
          "name": "stdout",
          "text": [
            "Accuracy:  0.3333333333333333\n"
          ]
        },
        {
          "output_type": "stream",
          "name": "stderr",
          "text": [
            "30it [00:19,  1.57it/s]\n"
          ]
        },
        {
          "output_type": "stream",
          "name": "stdout",
          "text": [
            "Accuracy:  0.3333333333333333\n"
          ]
        },
        {
          "output_type": "stream",
          "name": "stderr",
          "text": [
            "30it [00:19,  1.54it/s]\n"
          ]
        },
        {
          "output_type": "stream",
          "name": "stdout",
          "text": [
            "Accuracy:  0.3333333333333333\n"
          ]
        },
        {
          "output_type": "stream",
          "name": "stderr",
          "text": [
            "30it [00:19,  1.51it/s]\n"
          ]
        },
        {
          "output_type": "stream",
          "name": "stdout",
          "text": [
            "Accuracy:  0.3333333333333333\n"
          ]
        },
        {
          "output_type": "stream",
          "name": "stderr",
          "text": [
            "30it [00:19,  1.51it/s]\n"
          ]
        },
        {
          "output_type": "stream",
          "name": "stdout",
          "text": [
            "Accuracy:  0.3333333333333333\n"
          ]
        },
        {
          "output_type": "stream",
          "name": "stderr",
          "text": [
            "30it [00:20,  1.49it/s]\n",
            "Configuration saved in /content/output_model/best/config.json\n"
          ]
        },
        {
          "output_type": "stream",
          "name": "stdout",
          "text": [
            "Accuracy:  0.3343915343915344\n",
            "max accuaracy is 0.3343915343915344 \n"
          ]
        },
        {
          "output_type": "stream",
          "name": "stderr",
          "text": [
            "Model weights saved in /content/output_model/best/pytorch_model.bin\n",
            "tokenizer config file saved in /content/output_model/best/tokenizer_config.json\n",
            "Special tokens file saved in /content/output_model/best/special_tokens_map.json\n",
            "30it [00:20,  1.49it/s]\n"
          ]
        },
        {
          "output_type": "stream",
          "name": "stdout",
          "text": [
            "Accuracy:  0.3333333333333333\n"
          ]
        },
        {
          "output_type": "stream",
          "name": "stderr",
          "text": [
            "30it [00:20,  1.47it/s]\n",
            "Configuration saved in /content/output_model/best/config.json\n"
          ]
        },
        {
          "output_type": "stream",
          "name": "stdout",
          "text": [
            "Accuracy:  0.362962962962963\n",
            "max accuaracy is 0.362962962962963 \n"
          ]
        },
        {
          "output_type": "stream",
          "name": "stderr",
          "text": [
            "Model weights saved in /content/output_model/best/pytorch_model.bin\n",
            "tokenizer config file saved in /content/output_model/best/tokenizer_config.json\n",
            "Special tokens file saved in /content/output_model/best/special_tokens_map.json\n",
            "30it [00:20,  1.48it/s]\n",
            "Configuration saved in /content/output_model/best/config.json\n"
          ]
        },
        {
          "output_type": "stream",
          "name": "stdout",
          "text": [
            "Accuracy:  0.382010582010582\n",
            "max accuaracy is 0.382010582010582 \n"
          ]
        },
        {
          "output_type": "stream",
          "name": "stderr",
          "text": [
            "Model weights saved in /content/output_model/best/pytorch_model.bin\n",
            "tokenizer config file saved in /content/output_model/best/tokenizer_config.json\n",
            "Special tokens file saved in /content/output_model/best/special_tokens_map.json\n",
            "30it [00:20,  1.47it/s]\n",
            "Configuration saved in /content/output_model/best/config.json\n"
          ]
        },
        {
          "output_type": "stream",
          "name": "stdout",
          "text": [
            "Accuracy:  0.4804232804232804\n",
            "max accuaracy is 0.4804232804232804 \n"
          ]
        },
        {
          "output_type": "stream",
          "name": "stderr",
          "text": [
            "Model weights saved in /content/output_model/best/pytorch_model.bin\n",
            "tokenizer config file saved in /content/output_model/best/tokenizer_config.json\n",
            "Special tokens file saved in /content/output_model/best/special_tokens_map.json\n",
            "30it [00:20,  1.47it/s]\n",
            "Configuration saved in /content/output_model/best/config.json\n"
          ]
        },
        {
          "output_type": "stream",
          "name": "stdout",
          "text": [
            "Accuracy:  0.5058201058201058\n",
            "max accuaracy is 0.5058201058201058 \n"
          ]
        },
        {
          "output_type": "stream",
          "name": "stderr",
          "text": [
            "Model weights saved in /content/output_model/best/pytorch_model.bin\n",
            "tokenizer config file saved in /content/output_model/best/tokenizer_config.json\n",
            "Special tokens file saved in /content/output_model/best/special_tokens_map.json\n",
            "30it [00:20,  1.47it/s]\n",
            "Configuration saved in /content/output_model/best/config.json\n"
          ]
        },
        {
          "output_type": "stream",
          "name": "stdout",
          "text": [
            "Accuracy:  0.5957671957671957\n",
            "max accuaracy is 0.5957671957671957 \n"
          ]
        },
        {
          "output_type": "stream",
          "name": "stderr",
          "text": [
            "Model weights saved in /content/output_model/best/pytorch_model.bin\n",
            "tokenizer config file saved in /content/output_model/best/tokenizer_config.json\n",
            "Special tokens file saved in /content/output_model/best/special_tokens_map.json\n",
            "30it [00:20,  1.47it/s]\n"
          ]
        },
        {
          "output_type": "stream",
          "name": "stdout",
          "text": [
            "Accuracy:  0.5851851851851851\n"
          ]
        },
        {
          "output_type": "stream",
          "name": "stderr",
          "text": [
            "30it [00:20,  1.47it/s]\n",
            "Configuration saved in /content/output_model/best/config.json\n"
          ]
        },
        {
          "output_type": "stream",
          "name": "stdout",
          "text": [
            "Accuracy:  0.6074074074074074\n",
            "max accuaracy is 0.6074074074074074 \n"
          ]
        },
        {
          "output_type": "stream",
          "name": "stderr",
          "text": [
            "Model weights saved in /content/output_model/best/pytorch_model.bin\n",
            "tokenizer config file saved in /content/output_model/best/tokenizer_config.json\n",
            "Special tokens file saved in /content/output_model/best/special_tokens_map.json\n",
            "30it [00:20,  1.48it/s]\n",
            "Configuration saved in /content/output_model/best/config.json\n"
          ]
        },
        {
          "output_type": "stream",
          "name": "stdout",
          "text": [
            "Accuracy:  0.6137566137566137\n",
            "max accuaracy is 0.6137566137566137 \n"
          ]
        },
        {
          "output_type": "stream",
          "name": "stderr",
          "text": [
            "Model weights saved in /content/output_model/best/pytorch_model.bin\n",
            "tokenizer config file saved in /content/output_model/best/tokenizer_config.json\n",
            "Special tokens file saved in /content/output_model/best/special_tokens_map.json\n",
            "30it [00:20,  1.47it/s]\n"
          ]
        },
        {
          "output_type": "stream",
          "name": "stdout",
          "text": [
            "Accuracy:  0.5830687830687831\n"
          ]
        },
        {
          "output_type": "stream",
          "name": "stderr",
          "text": [
            "30it [00:20,  1.47it/s]\n"
          ]
        },
        {
          "output_type": "stream",
          "name": "stdout",
          "text": [
            "Accuracy:  0.5873015873015873\n"
          ]
        },
        {
          "output_type": "stream",
          "name": "stderr",
          "text": [
            "30it [00:20,  1.48it/s]\n",
            "Configuration saved in /content/output_model/best/config.json\n"
          ]
        },
        {
          "output_type": "stream",
          "name": "stdout",
          "text": [
            "Accuracy:  0.6571428571428571\n",
            "max accuaracy is 0.6571428571428571 \n"
          ]
        },
        {
          "output_type": "stream",
          "name": "stderr",
          "text": [
            "Model weights saved in /content/output_model/best/pytorch_model.bin\n",
            "tokenizer config file saved in /content/output_model/best/tokenizer_config.json\n",
            "Special tokens file saved in /content/output_model/best/special_tokens_map.json\n",
            "30it [00:20,  1.47it/s]\n"
          ]
        },
        {
          "output_type": "stream",
          "name": "stdout",
          "text": [
            "Accuracy:  0.6412698412698413\n"
          ]
        },
        {
          "output_type": "stream",
          "name": "stderr",
          "text": [
            "30it [00:20,  1.46it/s]\n"
          ]
        },
        {
          "output_type": "stream",
          "name": "stdout",
          "text": [
            "Accuracy:  0.6211640211640211\n"
          ]
        },
        {
          "output_type": "stream",
          "name": "stderr",
          "text": [
            "30it [00:20,  1.48it/s]\n"
          ]
        },
        {
          "output_type": "stream",
          "name": "stdout",
          "text": [
            "Accuracy:  0.6423280423280423\n"
          ]
        },
        {
          "output_type": "stream",
          "name": "stderr",
          "text": [
            "30it [00:20,  1.48it/s]\n"
          ]
        },
        {
          "output_type": "stream",
          "name": "stdout",
          "text": [
            "Accuracy:  0.6444444444444445\n"
          ]
        },
        {
          "output_type": "stream",
          "name": "stderr",
          "text": [
            "30it [00:20,  1.47it/s]\n"
          ]
        },
        {
          "output_type": "stream",
          "name": "stdout",
          "text": [
            "Accuracy:  0.564021164021164\n"
          ]
        },
        {
          "output_type": "stream",
          "name": "stderr",
          "text": [
            "30it [00:20,  1.47it/s]\n",
            "Configuration saved in /content/output_model/best/config.json\n"
          ]
        },
        {
          "output_type": "stream",
          "name": "stdout",
          "text": [
            "Accuracy:  0.6603174603174603\n",
            "max accuaracy is 0.6603174603174603 \n"
          ]
        },
        {
          "output_type": "stream",
          "name": "stderr",
          "text": [
            "Model weights saved in /content/output_model/best/pytorch_model.bin\n",
            "tokenizer config file saved in /content/output_model/best/tokenizer_config.json\n",
            "Special tokens file saved in /content/output_model/best/special_tokens_map.json\n",
            "30it [00:20,  1.47it/s]\n"
          ]
        },
        {
          "output_type": "stream",
          "name": "stdout",
          "text": [
            "Accuracy:  0.6433862433862434\n"
          ]
        },
        {
          "output_type": "stream",
          "name": "stderr",
          "text": [
            "30it [00:20,  1.47it/s]\n"
          ]
        },
        {
          "output_type": "stream",
          "name": "stdout",
          "text": [
            "Accuracy:  0.5830687830687831\n"
          ]
        },
        {
          "output_type": "stream",
          "name": "stderr",
          "text": [
            "30it [00:20,  1.48it/s]\n",
            "Configuration saved in /content/output_model/best/config.json\n"
          ]
        },
        {
          "output_type": "stream",
          "name": "stdout",
          "text": [
            "Accuracy:  0.6708994708994709\n",
            "max accuaracy is 0.6708994708994709 \n"
          ]
        },
        {
          "output_type": "stream",
          "name": "stderr",
          "text": [
            "Model weights saved in /content/output_model/best/pytorch_model.bin\n",
            "tokenizer config file saved in /content/output_model/best/tokenizer_config.json\n",
            "Special tokens file saved in /content/output_model/best/special_tokens_map.json\n",
            "30it [00:20,  1.47it/s]\n",
            "Configuration saved in /content/output_model/best/config.json\n"
          ]
        },
        {
          "output_type": "stream",
          "name": "stdout",
          "text": [
            "Accuracy:  0.6772486772486772\n",
            "max accuaracy is 0.6772486772486772 \n"
          ]
        },
        {
          "output_type": "stream",
          "name": "stderr",
          "text": [
            "Model weights saved in /content/output_model/best/pytorch_model.bin\n",
            "tokenizer config file saved in /content/output_model/best/tokenizer_config.json\n",
            "Special tokens file saved in /content/output_model/best/special_tokens_map.json\n",
            "30it [00:20,  1.46it/s]\n"
          ]
        },
        {
          "output_type": "stream",
          "name": "stdout",
          "text": [
            "Accuracy:  0.6412698412698413\n"
          ]
        },
        {
          "output_type": "stream",
          "name": "stderr",
          "text": [
            "30it [00:20,  1.47it/s]\n"
          ]
        },
        {
          "output_type": "stream",
          "name": "stdout",
          "text": [
            "Accuracy:  0.6158730158730159\n"
          ]
        },
        {
          "output_type": "stream",
          "name": "stderr",
          "text": [
            "30it [00:20,  1.48it/s]\n",
            "Configuration saved in /content/output_model/best/config.json\n"
          ]
        },
        {
          "output_type": "stream",
          "name": "stdout",
          "text": [
            "Accuracy:  0.6857142857142857\n",
            "max accuaracy is 0.6857142857142857 \n"
          ]
        },
        {
          "output_type": "stream",
          "name": "stderr",
          "text": [
            "Model weights saved in /content/output_model/best/pytorch_model.bin\n",
            "tokenizer config file saved in /content/output_model/best/tokenizer_config.json\n",
            "Special tokens file saved in /content/output_model/best/special_tokens_map.json\n",
            "30it [00:20,  1.47it/s]\n"
          ]
        },
        {
          "output_type": "stream",
          "name": "stdout",
          "text": [
            "Accuracy:  0.6243386243386243\n"
          ]
        },
        {
          "output_type": "stream",
          "name": "stderr",
          "text": [
            "30it [00:20,  1.46it/s]\n"
          ]
        },
        {
          "output_type": "stream",
          "name": "stdout",
          "text": [
            "Accuracy:  0.6783068783068783\n"
          ]
        },
        {
          "output_type": "stream",
          "name": "stderr",
          "text": [
            "30it [00:20,  1.48it/s]\n"
          ]
        },
        {
          "output_type": "stream",
          "name": "stdout",
          "text": [
            "Accuracy:  0.6433862433862434\n"
          ]
        },
        {
          "output_type": "stream",
          "name": "stderr",
          "text": [
            "30it [00:20,  1.48it/s]\n"
          ]
        },
        {
          "output_type": "stream",
          "name": "stdout",
          "text": [
            "Accuracy:  0.6730158730158731\n"
          ]
        },
        {
          "output_type": "stream",
          "name": "stderr",
          "text": [
            "30it [00:20,  1.47it/s]\n"
          ]
        },
        {
          "output_type": "stream",
          "name": "stdout",
          "text": [
            "Accuracy:  0.6708994708994709\n"
          ]
        },
        {
          "output_type": "stream",
          "name": "stderr",
          "text": [
            "30it [00:20,  1.47it/s]\n",
            "Configuration saved in /content/output_model/best/config.json\n"
          ]
        },
        {
          "output_type": "stream",
          "name": "stdout",
          "text": [
            "Accuracy:  0.6973544973544974\n",
            "max accuaracy is 0.6973544973544974 \n"
          ]
        },
        {
          "output_type": "stream",
          "name": "stderr",
          "text": [
            "Model weights saved in /content/output_model/best/pytorch_model.bin\n",
            "tokenizer config file saved in /content/output_model/best/tokenizer_config.json\n",
            "Special tokens file saved in /content/output_model/best/special_tokens_map.json\n",
            "30it [00:20,  1.47it/s]\n"
          ]
        },
        {
          "output_type": "stream",
          "name": "stdout",
          "text": [
            "Accuracy:  0.6518518518518519\n"
          ]
        },
        {
          "output_type": "stream",
          "name": "stderr",
          "text": [
            "30it [00:20,  1.47it/s]\n"
          ]
        },
        {
          "output_type": "stream",
          "name": "stdout",
          "text": [
            "Accuracy:  0.5968253968253968\n"
          ]
        },
        {
          "output_type": "stream",
          "name": "stderr",
          "text": [
            "30it [00:20,  1.47it/s]\n"
          ]
        },
        {
          "output_type": "stream",
          "name": "stdout",
          "text": [
            "Accuracy:  0.6444444444444445\n"
          ]
        },
        {
          "output_type": "stream",
          "name": "stderr",
          "text": [
            "30it [00:20,  1.47it/s]\n"
          ]
        },
        {
          "output_type": "stream",
          "name": "stdout",
          "text": [
            "Accuracy:  0.6634920634920635\n"
          ]
        },
        {
          "output_type": "stream",
          "name": "stderr",
          "text": [
            "30it [00:20,  1.47it/s]\n"
          ]
        },
        {
          "output_type": "stream",
          "name": "stdout",
          "text": [
            "Accuracy:  0.6656084656084656\n"
          ]
        },
        {
          "output_type": "stream",
          "name": "stderr",
          "text": [
            "30it [00:20,  1.47it/s]\n"
          ]
        },
        {
          "output_type": "stream",
          "name": "stdout",
          "text": [
            "Accuracy:  0.6793650793650794\n"
          ]
        },
        {
          "output_type": "stream",
          "name": "stderr",
          "text": [
            "30it [00:20,  1.47it/s]\n"
          ]
        },
        {
          "output_type": "stream",
          "name": "stdout",
          "text": [
            "Accuracy:  0.6708994708994709\n"
          ]
        },
        {
          "output_type": "stream",
          "name": "stderr",
          "text": [
            "30it [00:20,  1.47it/s]\n"
          ]
        },
        {
          "output_type": "stream",
          "name": "stdout",
          "text": [
            "Accuracy:  0.6846560846560846\n"
          ]
        },
        {
          "output_type": "stream",
          "name": "stderr",
          "text": [
            "30it [00:20,  1.47it/s]\n",
            "Configuration saved in /content/output_model/best/config.json\n"
          ]
        },
        {
          "output_type": "stream",
          "name": "stdout",
          "text": [
            "Accuracy:  0.7005291005291006\n",
            "max accuaracy is 0.7005291005291006 \n"
          ]
        },
        {
          "output_type": "stream",
          "name": "stderr",
          "text": [
            "Model weights saved in /content/output_model/best/pytorch_model.bin\n",
            "tokenizer config file saved in /content/output_model/best/tokenizer_config.json\n",
            "Special tokens file saved in /content/output_model/best/special_tokens_map.json\n",
            "30it [00:20,  1.47it/s]\n"
          ]
        },
        {
          "output_type": "stream",
          "name": "stdout",
          "text": [
            "Accuracy:  0.6465608465608466\n"
          ]
        },
        {
          "output_type": "stream",
          "name": "stderr",
          "text": [
            "30it [00:20,  1.46it/s]\n"
          ]
        },
        {
          "output_type": "stream",
          "name": "stdout",
          "text": [
            "Accuracy:  0.6656084656084656\n"
          ]
        },
        {
          "output_type": "stream",
          "name": "stderr",
          "text": [
            "30it [00:20,  1.48it/s]\n"
          ]
        },
        {
          "output_type": "stream",
          "name": "stdout",
          "text": [
            "Accuracy:  0.6666666666666666\n"
          ]
        },
        {
          "output_type": "stream",
          "name": "stderr",
          "text": [
            "30it [00:20,  1.47it/s]\n"
          ]
        },
        {
          "output_type": "stream",
          "name": "stdout",
          "text": [
            "Accuracy:  0.6433862433862434\n"
          ]
        },
        {
          "output_type": "stream",
          "name": "stderr",
          "text": [
            "30it [00:20,  1.47it/s]\n"
          ]
        },
        {
          "output_type": "stream",
          "name": "stdout",
          "text": [
            "Accuracy:  0.6888888888888889\n"
          ]
        },
        {
          "output_type": "stream",
          "name": "stderr",
          "text": [
            "30it [00:20,  1.46it/s]\n"
          ]
        },
        {
          "output_type": "stream",
          "name": "stdout",
          "text": [
            "Accuracy:  0.6264550264550265\n"
          ]
        },
        {
          "output_type": "stream",
          "name": "stderr",
          "text": [
            "30it [00:20,  1.47it/s]\n"
          ]
        },
        {
          "output_type": "stream",
          "name": "stdout",
          "text": [
            "Accuracy:  0.638095238095238\n"
          ]
        },
        {
          "output_type": "stream",
          "name": "stderr",
          "text": [
            "30it [00:20,  1.47it/s]\n"
          ]
        },
        {
          "output_type": "stream",
          "name": "stdout",
          "text": [
            "Accuracy:  0.7005291005291006\n"
          ]
        },
        {
          "output_type": "stream",
          "name": "stderr",
          "text": [
            "30it [00:20,  1.47it/s]\n"
          ]
        },
        {
          "output_type": "stream",
          "name": "stdout",
          "text": [
            "Accuracy:  0.6105820105820106\n"
          ]
        },
        {
          "output_type": "stream",
          "name": "stderr",
          "text": [
            "30it [00:20,  1.47it/s]\n"
          ]
        },
        {
          "output_type": "stream",
          "name": "stdout",
          "text": [
            "Accuracy:  0.6455026455026455\n"
          ]
        },
        {
          "output_type": "stream",
          "name": "stderr",
          "text": [
            "30it [00:20,  1.47it/s]\n"
          ]
        },
        {
          "output_type": "stream",
          "name": "stdout",
          "text": [
            "Accuracy:  0.6317460317460317\n"
          ]
        },
        {
          "output_type": "stream",
          "name": "stderr",
          "text": [
            "30it [00:20,  1.47it/s]\n"
          ]
        },
        {
          "output_type": "stream",
          "name": "stdout",
          "text": [
            "Accuracy:  0.6497354497354497\n"
          ]
        },
        {
          "output_type": "stream",
          "name": "stderr",
          "text": [
            "30it [00:20,  1.47it/s]\n"
          ]
        },
        {
          "output_type": "stream",
          "name": "stdout",
          "text": [
            "Accuracy:  0.5714285714285714\n"
          ]
        },
        {
          "output_type": "stream",
          "name": "stderr",
          "text": [
            "30it [00:20,  1.47it/s]\n"
          ]
        },
        {
          "output_type": "stream",
          "name": "stdout",
          "text": [
            "Accuracy:  0.6486772486772486\n"
          ]
        },
        {
          "output_type": "stream",
          "name": "stderr",
          "text": [
            "30it [00:20,  1.47it/s]\n"
          ]
        },
        {
          "output_type": "stream",
          "name": "stdout",
          "text": [
            "Accuracy:  0.6846560846560846\n"
          ]
        },
        {
          "output_type": "stream",
          "name": "stderr",
          "text": [
            "30it [00:20,  1.47it/s]\n"
          ]
        },
        {
          "output_type": "stream",
          "name": "stdout",
          "text": [
            "Accuracy:  0.6857142857142857\n"
          ]
        },
        {
          "output_type": "stream",
          "name": "stderr",
          "text": [
            "30it [00:20,  1.47it/s]\n"
          ]
        },
        {
          "output_type": "stream",
          "name": "stdout",
          "text": [
            "Accuracy:  0.6867724867724868\n"
          ]
        },
        {
          "output_type": "stream",
          "name": "stderr",
          "text": [
            "30it [00:20,  1.47it/s]\n"
          ]
        },
        {
          "output_type": "stream",
          "name": "stdout",
          "text": [
            "Accuracy:  0.6772486772486772\n"
          ]
        },
        {
          "output_type": "stream",
          "name": "stderr",
          "text": [
            "30it [00:20,  1.47it/s]\n"
          ]
        },
        {
          "output_type": "stream",
          "name": "stdout",
          "text": [
            "Accuracy:  0.692063492063492\n"
          ]
        },
        {
          "output_type": "stream",
          "name": "stderr",
          "text": [
            "30it [00:20,  1.47it/s]\n"
          ]
        },
        {
          "output_type": "stream",
          "name": "stdout",
          "text": [
            "Accuracy:  0.691005291005291\n"
          ]
        },
        {
          "output_type": "stream",
          "name": "stderr",
          "text": [
            "30it [00:20,  1.46it/s]\n"
          ]
        },
        {
          "output_type": "stream",
          "name": "stdout",
          "text": [
            "Accuracy:  0.6804232804232804\n"
          ]
        },
        {
          "output_type": "stream",
          "name": "stderr",
          "text": [
            "30it [00:20,  1.47it/s]\n",
            "Configuration saved in /content/output_model/best/config.json\n"
          ]
        },
        {
          "output_type": "stream",
          "name": "stdout",
          "text": [
            "Accuracy:  0.7206349206349206\n",
            "max accuaracy is 0.7206349206349206 \n"
          ]
        },
        {
          "output_type": "stream",
          "name": "stderr",
          "text": [
            "Model weights saved in /content/output_model/best/pytorch_model.bin\n",
            "tokenizer config file saved in /content/output_model/best/tokenizer_config.json\n",
            "Special tokens file saved in /content/output_model/best/special_tokens_map.json\n",
            "30it [00:20,  1.47it/s]\n"
          ]
        },
        {
          "output_type": "stream",
          "name": "stdout",
          "text": [
            "Accuracy:  0.692063492063492\n"
          ]
        },
        {
          "output_type": "stream",
          "name": "stderr",
          "text": [
            "30it [00:20,  1.47it/s]\n"
          ]
        },
        {
          "output_type": "stream",
          "name": "stdout",
          "text": [
            "Accuracy:  0.674074074074074\n"
          ]
        },
        {
          "output_type": "stream",
          "name": "stderr",
          "text": [
            "30it [00:20,  1.48it/s]\n"
          ]
        },
        {
          "output_type": "stream",
          "name": "stdout",
          "text": [
            "Accuracy:  0.6116402116402117\n"
          ]
        },
        {
          "output_type": "stream",
          "name": "stderr",
          "text": [
            "30it [00:20,  1.48it/s]\n"
          ]
        },
        {
          "output_type": "stream",
          "name": "stdout",
          "text": [
            "Accuracy:  0.692063492063492\n"
          ]
        },
        {
          "output_type": "stream",
          "name": "stderr",
          "text": [
            "30it [00:20,  1.47it/s]\n"
          ]
        },
        {
          "output_type": "stream",
          "name": "stdout",
          "text": [
            "Accuracy:  0.6571428571428571\n"
          ]
        },
        {
          "output_type": "stream",
          "name": "stderr",
          "text": [
            "30it [00:20,  1.46it/s]\n"
          ]
        },
        {
          "output_type": "stream",
          "name": "stdout",
          "text": [
            "Accuracy:  0.6275132275132275\n"
          ]
        },
        {
          "output_type": "stream",
          "name": "stderr",
          "text": [
            "30it [00:20,  1.47it/s]\n"
          ]
        },
        {
          "output_type": "stream",
          "name": "stdout",
          "text": [
            "Accuracy:  0.674074074074074\n"
          ]
        },
        {
          "output_type": "stream",
          "name": "stderr",
          "text": [
            "30it [00:20,  1.48it/s]\n"
          ]
        },
        {
          "output_type": "stream",
          "name": "stdout",
          "text": [
            "Accuracy:  0.7037037037037037\n"
          ]
        },
        {
          "output_type": "stream",
          "name": "stderr",
          "text": [
            "30it [00:20,  1.48it/s]\n"
          ]
        },
        {
          "output_type": "stream",
          "name": "stdout",
          "text": [
            "Accuracy:  0.7153439153439154\n"
          ]
        },
        {
          "output_type": "stream",
          "name": "stderr",
          "text": [
            "30it [00:20,  1.47it/s]\n"
          ]
        },
        {
          "output_type": "stream",
          "name": "stdout",
          "text": [
            "Accuracy:  0.671957671957672\n"
          ]
        },
        {
          "output_type": "stream",
          "name": "stderr",
          "text": [
            "30it [00:20,  1.47it/s]\n"
          ]
        },
        {
          "output_type": "stream",
          "name": "stdout",
          "text": [
            "Accuracy:  0.6677248677248677\n"
          ]
        },
        {
          "output_type": "stream",
          "name": "stderr",
          "text": [
            "30it [00:20,  1.47it/s]\n"
          ]
        },
        {
          "output_type": "stream",
          "name": "stdout",
          "text": [
            "Accuracy:  0.6772486772486772\n"
          ]
        },
        {
          "output_type": "stream",
          "name": "stderr",
          "text": [
            "30it [00:20,  1.47it/s]\n"
          ]
        },
        {
          "output_type": "stream",
          "name": "stdout",
          "text": [
            "Accuracy:  0.6455026455026455\n"
          ]
        },
        {
          "output_type": "stream",
          "name": "stderr",
          "text": [
            "30it [00:20,  1.47it/s]\n"
          ]
        },
        {
          "output_type": "stream",
          "name": "stdout",
          "text": [
            "Accuracy:  0.674074074074074\n"
          ]
        },
        {
          "output_type": "stream",
          "name": "stderr",
          "text": [
            "30it [00:20,  1.47it/s]\n"
          ]
        },
        {
          "output_type": "stream",
          "name": "stdout",
          "text": [
            "Accuracy:  0.7174603174603175\n"
          ]
        },
        {
          "output_type": "stream",
          "name": "stderr",
          "text": [
            "30it [00:20,  1.47it/s]\n"
          ]
        },
        {
          "output_type": "stream",
          "name": "stdout",
          "text": [
            "Accuracy:  0.635978835978836\n"
          ]
        },
        {
          "output_type": "stream",
          "name": "stderr",
          "text": [
            "30it [00:20,  1.47it/s]\n"
          ]
        },
        {
          "output_type": "stream",
          "name": "stdout",
          "text": [
            "Accuracy:  0.6888888888888889\n"
          ]
        },
        {
          "output_type": "stream",
          "name": "stderr",
          "text": [
            "30it [00:20,  1.47it/s]\n"
          ]
        },
        {
          "output_type": "stream",
          "name": "stdout",
          "text": [
            "Accuracy:  0.6465608465608466\n"
          ]
        },
        {
          "output_type": "stream",
          "name": "stderr",
          "text": [
            "30it [00:20,  1.47it/s]\n"
          ]
        },
        {
          "output_type": "stream",
          "name": "stdout",
          "text": [
            "Accuracy:  0.7164021164021164\n"
          ]
        },
        {
          "output_type": "stream",
          "name": "stderr",
          "text": [
            "30it [00:20,  1.47it/s]\n"
          ]
        },
        {
          "output_type": "stream",
          "name": "stdout",
          "text": [
            "Accuracy:  0.6624338624338625\n"
          ]
        },
        {
          "output_type": "stream",
          "name": "stderr",
          "text": [
            "30it [00:20,  1.47it/s]\n"
          ]
        },
        {
          "output_type": "stream",
          "name": "stdout",
          "text": [
            "Accuracy:  0.6730158730158731\n"
          ]
        },
        {
          "output_type": "stream",
          "name": "stderr",
          "text": [
            "30it [00:20,  1.47it/s]\n"
          ]
        },
        {
          "output_type": "stream",
          "name": "stdout",
          "text": [
            "Accuracy:  0.7047619047619048\n"
          ]
        },
        {
          "output_type": "stream",
          "name": "stderr",
          "text": [
            "30it [00:20,  1.47it/s]\n",
            "Configuration saved in /content/output_model/best/config.json\n"
          ]
        },
        {
          "output_type": "stream",
          "name": "stdout",
          "text": [
            "Accuracy:  0.725925925925926\n",
            "max accuaracy is 0.725925925925926 \n"
          ]
        },
        {
          "output_type": "stream",
          "name": "stderr",
          "text": [
            "Model weights saved in /content/output_model/best/pytorch_model.bin\n",
            "tokenizer config file saved in /content/output_model/best/tokenizer_config.json\n",
            "Special tokens file saved in /content/output_model/best/special_tokens_map.json\n",
            "30it [00:20,  1.47it/s]\n"
          ]
        },
        {
          "output_type": "stream",
          "name": "stdout",
          "text": [
            "Accuracy:  0.5682539682539682\n"
          ]
        },
        {
          "output_type": "stream",
          "name": "stderr",
          "text": [
            "30it [00:20,  1.46it/s]\n",
            "Configuration saved in /content/output_model/best/config.json\n"
          ]
        },
        {
          "output_type": "stream",
          "name": "stdout",
          "text": [
            "Accuracy:  0.7291005291005291\n",
            "max accuaracy is 0.7291005291005291 \n"
          ]
        },
        {
          "output_type": "stream",
          "name": "stderr",
          "text": [
            "Model weights saved in /content/output_model/best/pytorch_model.bin\n",
            "tokenizer config file saved in /content/output_model/best/tokenizer_config.json\n",
            "Special tokens file saved in /content/output_model/best/special_tokens_map.json\n",
            "30it [00:20,  1.47it/s]\n"
          ]
        },
        {
          "output_type": "stream",
          "name": "stdout",
          "text": [
            "Accuracy:  0.7248677248677249\n"
          ]
        },
        {
          "output_type": "stream",
          "name": "stderr",
          "text": [
            "30it [00:20,  1.46it/s]\n"
          ]
        },
        {
          "output_type": "stream",
          "name": "stdout",
          "text": [
            "Accuracy:  0.6783068783068783\n"
          ]
        },
        {
          "output_type": "stream",
          "name": "stderr",
          "text": [
            "30it [00:20,  1.48it/s]\n"
          ]
        },
        {
          "output_type": "stream",
          "name": "stdout",
          "text": [
            "Accuracy:  0.6761904761904762\n"
          ]
        },
        {
          "output_type": "stream",
          "name": "stderr",
          "text": [
            "30it [00:20,  1.48it/s]\n"
          ]
        },
        {
          "output_type": "stream",
          "name": "stdout",
          "text": [
            "Accuracy:  0.691005291005291\n"
          ]
        },
        {
          "output_type": "stream",
          "name": "stderr",
          "text": [
            "30it [00:20,  1.47it/s]\n"
          ]
        },
        {
          "output_type": "stream",
          "name": "stdout",
          "text": [
            "Accuracy:  0.6984126984126984\n"
          ]
        },
        {
          "output_type": "stream",
          "name": "stderr",
          "text": [
            "30it [00:20,  1.47it/s]\n"
          ]
        },
        {
          "output_type": "stream",
          "name": "stdout",
          "text": [
            "Accuracy:  0.725925925925926\n"
          ]
        },
        {
          "output_type": "stream",
          "name": "stderr",
          "text": [
            "30it [00:20,  1.47it/s]\n"
          ]
        },
        {
          "output_type": "stream",
          "name": "stdout",
          "text": [
            "Accuracy:  0.71005291005291\n"
          ]
        },
        {
          "output_type": "stream",
          "name": "stderr",
          "text": [
            "30it [00:20,  1.47it/s]\n"
          ]
        },
        {
          "output_type": "stream",
          "name": "stdout",
          "text": [
            "Accuracy:  0.725925925925926\n"
          ]
        },
        {
          "output_type": "stream",
          "name": "stderr",
          "text": [
            "30it [00:20,  1.47it/s]\n"
          ]
        },
        {
          "output_type": "stream",
          "name": "stdout",
          "text": [
            "Accuracy:  0.7164021164021164\n"
          ]
        },
        {
          "output_type": "stream",
          "name": "stderr",
          "text": [
            "30it [00:20,  1.47it/s]\n"
          ]
        },
        {
          "output_type": "stream",
          "name": "stdout",
          "text": [
            "Accuracy:  0.7164021164021164\n"
          ]
        },
        {
          "output_type": "stream",
          "name": "stderr",
          "text": [
            "30it [00:20,  1.47it/s]\n"
          ]
        },
        {
          "output_type": "stream",
          "name": "stdout",
          "text": [
            "Accuracy:  0.7111111111111111\n"
          ]
        },
        {
          "output_type": "stream",
          "name": "stderr",
          "text": [
            "30it [00:20,  1.47it/s]\n"
          ]
        },
        {
          "output_type": "stream",
          "name": "stdout",
          "text": [
            "Accuracy:  0.6973544973544974\n"
          ]
        },
        {
          "output_type": "stream",
          "name": "stderr",
          "text": [
            "30it [00:20,  1.47it/s]\n"
          ]
        },
        {
          "output_type": "stream",
          "name": "stdout",
          "text": [
            "Accuracy:  0.6603174603174603\n"
          ]
        },
        {
          "output_type": "stream",
          "name": "stderr",
          "text": [
            "30it [00:20,  1.47it/s]\n"
          ]
        },
        {
          "output_type": "stream",
          "name": "stdout",
          "text": [
            "Accuracy:  0.728042328042328\n"
          ]
        },
        {
          "output_type": "stream",
          "name": "stderr",
          "text": [
            "30it [00:20,  1.47it/s]\n"
          ]
        },
        {
          "output_type": "stream",
          "name": "stdout",
          "text": [
            "Accuracy:  0.635978835978836\n"
          ]
        },
        {
          "output_type": "stream",
          "name": "stderr",
          "text": [
            "30it [00:20,  1.47it/s]\n"
          ]
        },
        {
          "output_type": "stream",
          "name": "stdout",
          "text": [
            "Accuracy:  0.7185185185185186\n"
          ]
        },
        {
          "output_type": "stream",
          "name": "stderr",
          "text": [
            "30it [00:20,  1.47it/s]\n"
          ]
        },
        {
          "output_type": "stream",
          "name": "stdout",
          "text": [
            "Accuracy:  0.6211640211640211\n"
          ]
        },
        {
          "output_type": "stream",
          "name": "stderr",
          "text": [
            "30it [00:20,  1.47it/s]\n"
          ]
        },
        {
          "output_type": "stream",
          "name": "stdout",
          "text": [
            "Accuracy:  0.7195767195767195\n"
          ]
        },
        {
          "output_type": "stream",
          "name": "stderr",
          "text": [
            "30it [00:20,  1.47it/s]\n"
          ]
        },
        {
          "output_type": "stream",
          "name": "stdout",
          "text": [
            "Accuracy:  0.6582010582010582\n"
          ]
        },
        {
          "output_type": "stream",
          "name": "stderr",
          "text": [
            "30it [00:20,  1.47it/s]\n"
          ]
        },
        {
          "output_type": "stream",
          "name": "stdout",
          "text": [
            "Accuracy:  0.6984126984126984\n"
          ]
        },
        {
          "output_type": "stream",
          "name": "stderr",
          "text": [
            "30it [00:20,  1.47it/s]\n"
          ]
        },
        {
          "output_type": "stream",
          "name": "stdout",
          "text": [
            "Accuracy:  0.692063492063492\n"
          ]
        },
        {
          "output_type": "stream",
          "name": "stderr",
          "text": [
            "30it [00:20,  1.47it/s]\n"
          ]
        },
        {
          "output_type": "stream",
          "name": "stdout",
          "text": [
            "Accuracy:  0.6846560846560846\n"
          ]
        },
        {
          "output_type": "stream",
          "name": "stderr",
          "text": [
            "30it [00:20,  1.47it/s]\n"
          ]
        },
        {
          "output_type": "stream",
          "name": "stdout",
          "text": [
            "Accuracy:  0.725925925925926\n"
          ]
        },
        {
          "output_type": "stream",
          "name": "stderr",
          "text": [
            "30it [00:20,  1.47it/s]\n"
          ]
        },
        {
          "output_type": "stream",
          "name": "stdout",
          "text": [
            "Accuracy:  0.6793650793650794\n"
          ]
        },
        {
          "output_type": "stream",
          "name": "stderr",
          "text": [
            "30it [00:20,  1.47it/s]\n"
          ]
        },
        {
          "output_type": "stream",
          "name": "stdout",
          "text": [
            "Accuracy:  0.7111111111111111\n"
          ]
        },
        {
          "output_type": "stream",
          "name": "stderr",
          "text": [
            "30it [00:20,  1.47it/s]\n"
          ]
        },
        {
          "output_type": "stream",
          "name": "stdout",
          "text": [
            "Accuracy:  0.7174603174603175\n"
          ]
        },
        {
          "output_type": "stream",
          "name": "stderr",
          "text": [
            "30it [00:20,  1.47it/s]\n",
            "Configuration saved in /content/output_model/best/config.json\n"
          ]
        },
        {
          "output_type": "stream",
          "name": "stdout",
          "text": [
            "Accuracy:  0.7407407407407407\n",
            "max accuaracy is 0.7407407407407407 \n"
          ]
        },
        {
          "output_type": "stream",
          "name": "stderr",
          "text": [
            "Model weights saved in /content/output_model/best/pytorch_model.bin\n",
            "tokenizer config file saved in /content/output_model/best/tokenizer_config.json\n",
            "Special tokens file saved in /content/output_model/best/special_tokens_map.json\n",
            "30it [00:20,  1.47it/s]\n"
          ]
        },
        {
          "output_type": "stream",
          "name": "stdout",
          "text": [
            "Accuracy:  0.6952380952380952\n"
          ]
        },
        {
          "output_type": "stream",
          "name": "stderr",
          "text": [
            "30it [00:20,  1.47it/s]\n"
          ]
        },
        {
          "output_type": "stream",
          "name": "stdout",
          "text": [
            "Accuracy:  0.7386243386243386\n"
          ]
        },
        {
          "output_type": "stream",
          "name": "stderr",
          "text": [
            "30it [00:20,  1.48it/s]\n"
          ]
        },
        {
          "output_type": "stream",
          "name": "stdout",
          "text": [
            "Accuracy:  0.6455026455026455\n"
          ]
        },
        {
          "output_type": "stream",
          "name": "stderr",
          "text": [
            "30it [00:20,  1.47it/s]\n"
          ]
        },
        {
          "output_type": "stream",
          "name": "stdout",
          "text": [
            "Accuracy:  0.6814814814814815\n"
          ]
        },
        {
          "output_type": "stream",
          "name": "stderr",
          "text": [
            "30it [00:20,  1.46it/s]\n"
          ]
        },
        {
          "output_type": "stream",
          "name": "stdout",
          "text": [
            "Accuracy:  0.71005291005291\n"
          ]
        },
        {
          "output_type": "stream",
          "name": "stderr",
          "text": [
            "30it [00:20,  1.47it/s]\n"
          ]
        },
        {
          "output_type": "stream",
          "name": "stdout",
          "text": [
            "Accuracy:  0.6444444444444445\n"
          ]
        },
        {
          "output_type": "stream",
          "name": "stderr",
          "text": [
            "30it [00:20,  1.47it/s]\n"
          ]
        },
        {
          "output_type": "stream",
          "name": "stdout",
          "text": [
            "Accuracy:  0.6888888888888889\n"
          ]
        },
        {
          "output_type": "stream",
          "name": "stderr",
          "text": [
            "30it [00:20,  1.47it/s]\n"
          ]
        },
        {
          "output_type": "stream",
          "name": "stdout",
          "text": [
            "Accuracy:  0.6846560846560846\n"
          ]
        },
        {
          "output_type": "stream",
          "name": "stderr",
          "text": [
            "30it [00:20,  1.47it/s]\n"
          ]
        },
        {
          "output_type": "stream",
          "name": "stdout",
          "text": [
            "Accuracy:  0.7238095238095238\n"
          ]
        },
        {
          "output_type": "stream",
          "name": "stderr",
          "text": [
            "30it [00:20,  1.47it/s]\n"
          ]
        },
        {
          "output_type": "stream",
          "name": "stdout",
          "text": [
            "Accuracy:  0.6571428571428571\n"
          ]
        },
        {
          "output_type": "stream",
          "name": "stderr",
          "text": [
            "30it [00:20,  1.47it/s]\n"
          ]
        },
        {
          "output_type": "stream",
          "name": "stdout",
          "text": [
            "Accuracy:  0.6074074074074074\n"
          ]
        },
        {
          "output_type": "stream",
          "name": "stderr",
          "text": [
            "30it [00:20,  1.47it/s]\n"
          ]
        },
        {
          "output_type": "stream",
          "name": "stdout",
          "text": [
            "Accuracy:  0.6793650793650794\n"
          ]
        },
        {
          "output_type": "stream",
          "name": "stderr",
          "text": [
            "30it [00:20,  1.47it/s]\n"
          ]
        },
        {
          "output_type": "stream",
          "name": "stdout",
          "text": [
            "Accuracy:  0.6328042328042328\n"
          ]
        },
        {
          "output_type": "stream",
          "name": "stderr",
          "text": [
            "30it [00:20,  1.47it/s]\n"
          ]
        },
        {
          "output_type": "stream",
          "name": "stdout",
          "text": [
            "Accuracy:  0.6507936507936508\n"
          ]
        },
        {
          "output_type": "stream",
          "name": "stderr",
          "text": [
            "30it [00:20,  1.47it/s]\n"
          ]
        },
        {
          "output_type": "stream",
          "name": "stdout",
          "text": [
            "Accuracy:  0.7142857142857143\n"
          ]
        },
        {
          "output_type": "stream",
          "name": "stderr",
          "text": [
            "30it [00:20,  1.47it/s]\n"
          ]
        },
        {
          "output_type": "stream",
          "name": "stdout",
          "text": [
            "Accuracy:  0.7174603174603175\n"
          ]
        },
        {
          "output_type": "stream",
          "name": "stderr",
          "text": [
            "30it [00:20,  1.47it/s]\n"
          ]
        },
        {
          "output_type": "stream",
          "name": "stdout",
          "text": [
            "Accuracy:  0.7037037037037037\n"
          ]
        },
        {
          "output_type": "stream",
          "name": "stderr",
          "text": [
            "30it [00:20,  1.47it/s]\n"
          ]
        },
        {
          "output_type": "stream",
          "name": "stdout",
          "text": [
            "Accuracy:  0.6571428571428571\n"
          ]
        },
        {
          "output_type": "stream",
          "name": "stderr",
          "text": [
            "30it [00:20,  1.47it/s]\n"
          ]
        },
        {
          "output_type": "stream",
          "name": "stdout",
          "text": [
            "Accuracy:  0.6814814814814815\n"
          ]
        },
        {
          "output_type": "stream",
          "name": "stderr",
          "text": [
            "30it [00:20,  1.47it/s]\n"
          ]
        },
        {
          "output_type": "stream",
          "name": "stdout",
          "text": [
            "Accuracy:  0.6201058201058202\n"
          ]
        },
        {
          "output_type": "stream",
          "name": "stderr",
          "text": [
            "30it [00:20,  1.47it/s]\n"
          ]
        },
        {
          "output_type": "stream",
          "name": "stdout",
          "text": [
            "Accuracy:  0.7322751322751323\n"
          ]
        },
        {
          "output_type": "stream",
          "name": "stderr",
          "text": [
            "30it [00:20,  1.47it/s]\n"
          ]
        },
        {
          "output_type": "stream",
          "name": "stdout",
          "text": [
            "Accuracy:  0.6529100529100529\n"
          ]
        },
        {
          "output_type": "stream",
          "name": "stderr",
          "text": [
            "30it [00:20,  1.48it/s]\n"
          ]
        },
        {
          "output_type": "stream",
          "name": "stdout",
          "text": [
            "Accuracy:  0.6666666666666666\n"
          ]
        },
        {
          "output_type": "stream",
          "name": "stderr",
          "text": [
            "30it [00:20,  1.47it/s]\n"
          ]
        },
        {
          "output_type": "stream",
          "name": "stdout",
          "text": [
            "Accuracy:  0.6867724867724868\n"
          ]
        },
        {
          "output_type": "stream",
          "name": "stderr",
          "text": [
            "30it [00:20,  1.47it/s]\n"
          ]
        },
        {
          "output_type": "stream",
          "name": "stdout",
          "text": [
            "Accuracy:  0.6370370370370371\n"
          ]
        },
        {
          "output_type": "stream",
          "name": "stderr",
          "text": [
            "30it [00:20,  1.47it/s]\n"
          ]
        },
        {
          "output_type": "stream",
          "name": "stdout",
          "text": [
            "Accuracy:  0.6433862433862434\n"
          ]
        },
        {
          "output_type": "stream",
          "name": "stderr",
          "text": [
            "30it [00:20,  1.47it/s]\n"
          ]
        },
        {
          "output_type": "stream",
          "name": "stdout",
          "text": [
            "Accuracy:  0.6592592592592592\n"
          ]
        },
        {
          "output_type": "stream",
          "name": "stderr",
          "text": [
            "30it [00:20,  1.47it/s]\n"
          ]
        },
        {
          "output_type": "stream",
          "name": "stdout",
          "text": [
            "Accuracy:  0.6867724867724868\n"
          ]
        },
        {
          "output_type": "stream",
          "name": "stderr",
          "text": [
            "30it [00:20,  1.47it/s]\n"
          ]
        },
        {
          "output_type": "stream",
          "name": "stdout",
          "text": [
            "Accuracy:  0.6835978835978836\n"
          ]
        },
        {
          "output_type": "stream",
          "name": "stderr",
          "text": [
            "30it [00:20,  1.47it/s]\n"
          ]
        },
        {
          "output_type": "stream",
          "name": "stdout",
          "text": [
            "Accuracy:  0.7216931216931217\n"
          ]
        },
        {
          "output_type": "stream",
          "name": "stderr",
          "text": [
            "30it [00:20,  1.47it/s]\n"
          ]
        },
        {
          "output_type": "stream",
          "name": "stdout",
          "text": [
            "Accuracy:  0.6677248677248677\n"
          ]
        },
        {
          "output_type": "stream",
          "name": "stderr",
          "text": [
            "30it [00:20,  1.47it/s]\n"
          ]
        },
        {
          "output_type": "stream",
          "name": "stdout",
          "text": [
            "Accuracy:  0.6793650793650794\n"
          ]
        },
        {
          "output_type": "stream",
          "name": "stderr",
          "text": [
            "30it [00:20,  1.47it/s]\n"
          ]
        },
        {
          "output_type": "stream",
          "name": "stdout",
          "text": [
            "Accuracy:  0.6603174603174603\n"
          ]
        },
        {
          "output_type": "stream",
          "name": "stderr",
          "text": [
            "30it [00:20,  1.47it/s]\n"
          ]
        },
        {
          "output_type": "stream",
          "name": "stdout",
          "text": [
            "Accuracy:  0.6529100529100529\n"
          ]
        },
        {
          "output_type": "stream",
          "name": "stderr",
          "text": [
            "30it [00:20,  1.47it/s]\n"
          ]
        },
        {
          "output_type": "stream",
          "name": "stdout",
          "text": [
            "Accuracy:  0.6962962962962963\n"
          ]
        },
        {
          "output_type": "stream",
          "name": "stderr",
          "text": [
            "30it [00:20,  1.47it/s]\n"
          ]
        },
        {
          "output_type": "stream",
          "name": "stdout",
          "text": [
            "Accuracy:  0.6677248677248677\n"
          ]
        },
        {
          "output_type": "stream",
          "name": "stderr",
          "text": [
            "30it [00:20,  1.47it/s]\n"
          ]
        },
        {
          "output_type": "stream",
          "name": "stdout",
          "text": [
            "Accuracy:  0.671957671957672\n"
          ]
        },
        {
          "output_type": "stream",
          "name": "stderr",
          "text": [
            "30it [00:20,  1.47it/s]\n"
          ]
        },
        {
          "output_type": "stream",
          "name": "stdout",
          "text": [
            "Accuracy:  0.6835978835978836\n"
          ]
        },
        {
          "output_type": "stream",
          "name": "stderr",
          "text": [
            "30it [00:20,  1.47it/s]\n"
          ]
        },
        {
          "output_type": "stream",
          "name": "stdout",
          "text": [
            "Accuracy:  0.674074074074074\n"
          ]
        },
        {
          "output_type": "stream",
          "name": "stderr",
          "text": [
            "30it [00:20,  1.48it/s]\n"
          ]
        },
        {
          "output_type": "stream",
          "name": "stdout",
          "text": [
            "Accuracy:  0.7037037037037037\n"
          ]
        },
        {
          "output_type": "stream",
          "name": "stderr",
          "text": [
            "30it [00:20,  1.47it/s]\n"
          ]
        },
        {
          "output_type": "stream",
          "name": "stdout",
          "text": [
            "Accuracy:  0.6634920634920635\n"
          ]
        },
        {
          "output_type": "stream",
          "name": "stderr",
          "text": [
            "30it [00:20,  1.47it/s]\n"
          ]
        },
        {
          "output_type": "stream",
          "name": "stdout",
          "text": [
            "Accuracy:  0.6984126984126984\n"
          ]
        },
        {
          "output_type": "stream",
          "name": "stderr",
          "text": [
            "30it [00:20,  1.47it/s]\n"
          ]
        },
        {
          "output_type": "stream",
          "name": "stdout",
          "text": [
            "Accuracy:  0.7185185185185186\n"
          ]
        },
        {
          "output_type": "stream",
          "name": "stderr",
          "text": [
            "30it [00:20,  1.47it/s]\n"
          ]
        },
        {
          "output_type": "stream",
          "name": "stdout",
          "text": [
            "Accuracy:  0.6751322751322751\n"
          ]
        },
        {
          "output_type": "stream",
          "name": "stderr",
          "text": [
            "30it [00:20,  1.48it/s]\n"
          ]
        },
        {
          "output_type": "stream",
          "name": "stdout",
          "text": [
            "Accuracy:  0.6666666666666666\n"
          ]
        },
        {
          "output_type": "stream",
          "name": "stderr",
          "text": [
            "30it [00:20,  1.47it/s]\n"
          ]
        },
        {
          "output_type": "stream",
          "name": "stdout",
          "text": [
            "Accuracy:  0.691005291005291\n"
          ]
        },
        {
          "output_type": "stream",
          "name": "stderr",
          "text": [
            "30it [00:20,  1.47it/s]\n"
          ]
        },
        {
          "output_type": "stream",
          "name": "stdout",
          "text": [
            "Accuracy:  0.7248677248677249\n"
          ]
        },
        {
          "output_type": "stream",
          "name": "stderr",
          "text": [
            "30it [00:20,  1.47it/s]\n"
          ]
        },
        {
          "output_type": "stream",
          "name": "stdout",
          "text": [
            "Accuracy:  0.7185185185185186\n"
          ]
        },
        {
          "output_type": "stream",
          "name": "stderr",
          "text": [
            "30it [00:20,  1.47it/s]\n"
          ]
        },
        {
          "output_type": "stream",
          "name": "stdout",
          "text": [
            "Accuracy:  0.6317460317460317\n"
          ]
        },
        {
          "output_type": "stream",
          "name": "stderr",
          "text": [
            "30it [00:20,  1.47it/s]\n",
            "Configuration saved in /content/output_model/best/config.json\n"
          ]
        },
        {
          "output_type": "stream",
          "name": "stdout",
          "text": [
            "Accuracy:  0.7439153439153439\n",
            "max accuaracy is 0.7439153439153439 \n"
          ]
        },
        {
          "output_type": "stream",
          "name": "stderr",
          "text": [
            "Model weights saved in /content/output_model/best/pytorch_model.bin\n",
            "tokenizer config file saved in /content/output_model/best/tokenizer_config.json\n",
            "Special tokens file saved in /content/output_model/best/special_tokens_map.json\n",
            "30it [00:20,  1.47it/s]\n"
          ]
        },
        {
          "output_type": "stream",
          "name": "stdout",
          "text": [
            "Accuracy:  0.6751322751322751\n"
          ]
        },
        {
          "output_type": "stream",
          "name": "stderr",
          "text": [
            "30it [00:20,  1.47it/s]\n"
          ]
        },
        {
          "output_type": "stream",
          "name": "stdout",
          "text": [
            "Accuracy:  0.728042328042328\n"
          ]
        },
        {
          "output_type": "stream",
          "name": "stderr",
          "text": [
            "30it [00:20,  1.48it/s]\n"
          ]
        },
        {
          "output_type": "stream",
          "name": "stdout",
          "text": [
            "Accuracy:  0.6994708994708995\n"
          ]
        },
        {
          "output_type": "stream",
          "name": "stderr",
          "text": [
            "30it [00:20,  1.47it/s]\n"
          ]
        },
        {
          "output_type": "stream",
          "name": "stdout",
          "text": [
            "Accuracy:  0.6846560846560846\n"
          ]
        },
        {
          "output_type": "stream",
          "name": "stderr",
          "text": [
            "30it [00:20,  1.47it/s]\n"
          ]
        },
        {
          "output_type": "stream",
          "name": "stdout",
          "text": [
            "Accuracy:  0.6708994708994709\n"
          ]
        },
        {
          "output_type": "stream",
          "name": "stderr",
          "text": [
            "30it [00:20,  1.47it/s]\n"
          ]
        },
        {
          "output_type": "stream",
          "name": "stdout",
          "text": [
            "Accuracy:  0.6878306878306878\n"
          ]
        },
        {
          "output_type": "stream",
          "name": "stderr",
          "text": [
            "30it [00:20,  1.47it/s]\n"
          ]
        },
        {
          "output_type": "stream",
          "name": "stdout",
          "text": [
            "Accuracy:  0.6603174603174603\n"
          ]
        },
        {
          "output_type": "stream",
          "name": "stderr",
          "text": [
            "30it [00:20,  1.47it/s]\n"
          ]
        },
        {
          "output_type": "stream",
          "name": "stdout",
          "text": [
            "Accuracy:  0.6867724867724868\n"
          ]
        },
        {
          "output_type": "stream",
          "name": "stderr",
          "text": [
            "30it [00:20,  1.47it/s]\n"
          ]
        },
        {
          "output_type": "stream",
          "name": "stdout",
          "text": [
            "Accuracy:  0.6962962962962963\n"
          ]
        },
        {
          "output_type": "stream",
          "name": "stderr",
          "text": [
            "30it [00:20,  1.48it/s]\n"
          ]
        },
        {
          "output_type": "stream",
          "name": "stdout",
          "text": [
            "Accuracy:  0.6253968253968254\n"
          ]
        },
        {
          "output_type": "stream",
          "name": "stderr",
          "text": [
            "30it [00:20,  1.47it/s]\n"
          ]
        },
        {
          "output_type": "stream",
          "name": "stdout",
          "text": [
            "Accuracy:  0.6677248677248677\n"
          ]
        },
        {
          "output_type": "stream",
          "name": "stderr",
          "text": [
            "30it [00:20,  1.47it/s]\n"
          ]
        },
        {
          "output_type": "stream",
          "name": "stdout",
          "text": [
            "Accuracy:  0.6634920634920635\n"
          ]
        },
        {
          "output_type": "stream",
          "name": "stderr",
          "text": [
            "30it [00:20,  1.47it/s]\n"
          ]
        },
        {
          "output_type": "stream",
          "name": "stdout",
          "text": [
            "Accuracy:  0.6835978835978836\n"
          ]
        },
        {
          "output_type": "stream",
          "name": "stderr",
          "text": [
            "30it [00:20,  1.47it/s]\n"
          ]
        },
        {
          "output_type": "stream",
          "name": "stdout",
          "text": [
            "Accuracy:  0.6201058201058202\n"
          ]
        },
        {
          "output_type": "stream",
          "name": "stderr",
          "text": [
            "30it [00:20,  1.47it/s]\n"
          ]
        },
        {
          "output_type": "stream",
          "name": "stdout",
          "text": [
            "Accuracy:  0.6285714285714286\n"
          ]
        },
        {
          "output_type": "stream",
          "name": "stderr",
          "text": [
            "30it [00:20,  1.47it/s]\n"
          ]
        },
        {
          "output_type": "stream",
          "name": "stdout",
          "text": [
            "Accuracy:  0.6645502645502646\n"
          ]
        },
        {
          "output_type": "stream",
          "name": "stderr",
          "text": [
            "30it [00:20,  1.47it/s]\n"
          ]
        },
        {
          "output_type": "stream",
          "name": "stdout",
          "text": [
            "Accuracy:  0.6603174603174603\n"
          ]
        },
        {
          "output_type": "stream",
          "name": "stderr",
          "text": [
            "30it [00:20,  1.47it/s]\n"
          ]
        },
        {
          "output_type": "stream",
          "name": "stdout",
          "text": [
            "Accuracy:  0.6666666666666666\n"
          ]
        },
        {
          "output_type": "stream",
          "name": "stderr",
          "text": [
            "30it [00:20,  1.47it/s]\n"
          ]
        },
        {
          "output_type": "stream",
          "name": "stdout",
          "text": [
            "Accuracy:  0.6973544973544974\n"
          ]
        },
        {
          "output_type": "stream",
          "name": "stderr",
          "text": [
            "30it [00:20,  1.47it/s]\n"
          ]
        },
        {
          "output_type": "stream",
          "name": "stdout",
          "text": [
            "Accuracy:  0.6666666666666666\n"
          ]
        },
        {
          "output_type": "stream",
          "name": "stderr",
          "text": [
            "30it [00:20,  1.47it/s]\n"
          ]
        },
        {
          "output_type": "stream",
          "name": "stdout",
          "text": [
            "Accuracy:  0.6846560846560846\n"
          ]
        },
        {
          "output_type": "stream",
          "name": "stderr",
          "text": [
            "30it [00:20,  1.47it/s]\n"
          ]
        },
        {
          "output_type": "stream",
          "name": "stdout",
          "text": [
            "Accuracy:  0.7005291005291006\n"
          ]
        },
        {
          "output_type": "stream",
          "name": "stderr",
          "text": [
            "30it [00:20,  1.47it/s]\n"
          ]
        },
        {
          "output_type": "stream",
          "name": "stdout",
          "text": [
            "Accuracy:  0.6814814814814815\n"
          ]
        },
        {
          "output_type": "stream",
          "name": "stderr",
          "text": [
            "30it [00:20,  1.46it/s]\n"
          ]
        },
        {
          "output_type": "stream",
          "name": "stdout",
          "text": [
            "Accuracy:  0.6772486772486772\n"
          ]
        },
        {
          "output_type": "stream",
          "name": "stderr",
          "text": [
            "30it [00:20,  1.47it/s]\n"
          ]
        },
        {
          "output_type": "stream",
          "name": "stdout",
          "text": [
            "Accuracy:  0.638095238095238\n"
          ]
        },
        {
          "output_type": "stream",
          "name": "stderr",
          "text": [
            "30it [00:20,  1.47it/s]\n"
          ]
        },
        {
          "output_type": "stream",
          "name": "stdout",
          "text": [
            "Accuracy:  0.6476190476190476\n"
          ]
        },
        {
          "output_type": "stream",
          "name": "stderr",
          "text": [
            "30it [00:20,  1.47it/s]\n"
          ]
        },
        {
          "output_type": "stream",
          "name": "stdout",
          "text": [
            "Accuracy:  0.6624338624338625\n"
          ]
        },
        {
          "output_type": "stream",
          "name": "stderr",
          "text": [
            "30it [00:20,  1.47it/s]\n"
          ]
        },
        {
          "output_type": "stream",
          "name": "stdout",
          "text": [
            "Accuracy:  0.674074074074074\n"
          ]
        },
        {
          "output_type": "stream",
          "name": "stderr",
          "text": [
            "30it [00:20,  1.47it/s]\n"
          ]
        },
        {
          "output_type": "stream",
          "name": "stdout",
          "text": [
            "Accuracy:  0.6730158730158731\n"
          ]
        },
        {
          "output_type": "stream",
          "name": "stderr",
          "text": [
            "30it [00:20,  1.47it/s]\n"
          ]
        },
        {
          "output_type": "stream",
          "name": "stdout",
          "text": [
            "Accuracy:  0.6835978835978836\n"
          ]
        },
        {
          "output_type": "stream",
          "name": "stderr",
          "text": [
            "30it [00:20,  1.47it/s]\n"
          ]
        },
        {
          "output_type": "stream",
          "name": "stdout",
          "text": [
            "Accuracy:  0.6825396825396826\n"
          ]
        },
        {
          "output_type": "stream",
          "name": "stderr",
          "text": [
            "30it [00:20,  1.46it/s]\n"
          ]
        },
        {
          "output_type": "stream",
          "name": "stdout",
          "text": [
            "Accuracy:  0.6571428571428571\n"
          ]
        },
        {
          "output_type": "stream",
          "name": "stderr",
          "text": [
            "30it [00:20,  1.47it/s]\n"
          ]
        },
        {
          "output_type": "stream",
          "name": "stdout",
          "text": [
            "Accuracy:  0.6804232804232804\n"
          ]
        },
        {
          "output_type": "stream",
          "name": "stderr",
          "text": [
            "30it [00:20,  1.47it/s]\n"
          ]
        },
        {
          "output_type": "stream",
          "name": "stdout",
          "text": [
            "Accuracy:  0.671957671957672\n"
          ]
        },
        {
          "output_type": "stream",
          "name": "stderr",
          "text": [
            "30it [00:20,  1.47it/s]\n"
          ]
        },
        {
          "output_type": "stream",
          "name": "stdout",
          "text": [
            "Accuracy:  0.671957671957672\n"
          ]
        },
        {
          "output_type": "stream",
          "name": "stderr",
          "text": [
            "30it [00:20,  1.46it/s]\n"
          ]
        },
        {
          "output_type": "stream",
          "name": "stdout",
          "text": [
            "Accuracy:  0.6708994708994709\n"
          ]
        },
        {
          "output_type": "stream",
          "name": "stderr",
          "text": [
            "30it [00:20,  1.47it/s]\n"
          ]
        },
        {
          "output_type": "stream",
          "name": "stdout",
          "text": [
            "Accuracy:  0.6804232804232804\n"
          ]
        },
        {
          "output_type": "stream",
          "name": "stderr",
          "text": [
            "30it [00:20,  1.47it/s]\n"
          ]
        },
        {
          "output_type": "stream",
          "name": "stdout",
          "text": [
            "Accuracy:  0.6634920634920635\n"
          ]
        },
        {
          "output_type": "stream",
          "name": "stderr",
          "text": [
            "30it [00:20,  1.47it/s]\n"
          ]
        },
        {
          "output_type": "stream",
          "name": "stdout",
          "text": [
            "Accuracy:  0.6476190476190476\n"
          ]
        },
        {
          "output_type": "stream",
          "name": "stderr",
          "text": [
            "30it [00:20,  1.47it/s]\n"
          ]
        },
        {
          "output_type": "stream",
          "name": "stdout",
          "text": [
            "Accuracy:  0.6846560846560846\n"
          ]
        },
        {
          "output_type": "stream",
          "name": "stderr",
          "text": [
            "30it [00:20,  1.47it/s]\n"
          ]
        },
        {
          "output_type": "stream",
          "name": "stdout",
          "text": [
            "Accuracy:  0.6962962962962963\n"
          ]
        },
        {
          "output_type": "stream",
          "name": "stderr",
          "text": [
            "30it [00:20,  1.47it/s]\n"
          ]
        },
        {
          "output_type": "stream",
          "name": "stdout",
          "text": [
            "Accuracy:  0.6687830687830688\n"
          ]
        },
        {
          "output_type": "stream",
          "name": "stderr",
          "text": [
            "30it [00:20,  1.47it/s]\n"
          ]
        },
        {
          "output_type": "stream",
          "name": "stdout",
          "text": [
            "Accuracy:  0.674074074074074\n"
          ]
        },
        {
          "output_type": "stream",
          "name": "stderr",
          "text": [
            "30it [00:20,  1.47it/s]\n"
          ]
        },
        {
          "output_type": "stream",
          "name": "stdout",
          "text": [
            "Accuracy:  0.6634920634920635\n"
          ]
        },
        {
          "output_type": "stream",
          "name": "stderr",
          "text": [
            "30it [00:20,  1.47it/s]\n"
          ]
        },
        {
          "output_type": "stream",
          "name": "stdout",
          "text": [
            "Accuracy:  0.6656084656084656\n"
          ]
        },
        {
          "output_type": "stream",
          "name": "stderr",
          "text": [
            "30it [00:20,  1.47it/s]\n"
          ]
        },
        {
          "output_type": "stream",
          "name": "stdout",
          "text": [
            "Accuracy:  0.6761904761904762\n"
          ]
        },
        {
          "output_type": "stream",
          "name": "stderr",
          "text": [
            "30it [00:20,  1.47it/s]\n"
          ]
        },
        {
          "output_type": "stream",
          "name": "stdout",
          "text": [
            "Accuracy:  0.6772486772486772\n"
          ]
        },
        {
          "output_type": "stream",
          "name": "stderr",
          "text": [
            "30it [00:20,  1.47it/s]\n"
          ]
        },
        {
          "output_type": "stream",
          "name": "stdout",
          "text": [
            "Accuracy:  0.674074074074074\n"
          ]
        },
        {
          "output_type": "stream",
          "name": "stderr",
          "text": [
            "30it [00:20,  1.47it/s]\n"
          ]
        },
        {
          "output_type": "stream",
          "name": "stdout",
          "text": [
            "Accuracy:  0.6603174603174603\n"
          ]
        },
        {
          "output_type": "stream",
          "name": "stderr",
          "text": [
            "30it [00:20,  1.47it/s]\n"
          ]
        },
        {
          "output_type": "stream",
          "name": "stdout",
          "text": [
            "Accuracy:  0.6253968253968254\n"
          ]
        },
        {
          "output_type": "stream",
          "name": "stderr",
          "text": [
            "30it [00:20,  1.47it/s]\n"
          ]
        },
        {
          "output_type": "stream",
          "name": "stdout",
          "text": [
            "Accuracy:  0.6486772486772486\n"
          ]
        },
        {
          "output_type": "stream",
          "name": "stderr",
          "text": [
            "30it [00:20,  1.47it/s]\n"
          ]
        },
        {
          "output_type": "stream",
          "name": "stdout",
          "text": [
            "Accuracy:  0.692063492063492\n"
          ]
        },
        {
          "output_type": "stream",
          "name": "stderr",
          "text": [
            "30it [00:20,  1.47it/s]\n"
          ]
        },
        {
          "output_type": "stream",
          "name": "stdout",
          "text": [
            "Accuracy:  0.7058201058201058\n"
          ]
        },
        {
          "output_type": "stream",
          "name": "stderr",
          "text": [
            "30it [00:20,  1.47it/s]\n"
          ]
        },
        {
          "output_type": "stream",
          "name": "stdout",
          "text": [
            "Accuracy:  0.6708994708994709\n"
          ]
        },
        {
          "output_type": "stream",
          "name": "stderr",
          "text": [
            "30it [00:20,  1.47it/s]\n"
          ]
        },
        {
          "output_type": "stream",
          "name": "stdout",
          "text": [
            "Accuracy:  0.6634920634920635\n"
          ]
        },
        {
          "output_type": "stream",
          "name": "stderr",
          "text": [
            "30it [00:20,  1.47it/s]\n"
          ]
        },
        {
          "output_type": "stream",
          "name": "stdout",
          "text": [
            "Accuracy:  0.6656084656084656\n"
          ]
        },
        {
          "output_type": "stream",
          "name": "stderr",
          "text": [
            "30it [00:20,  1.47it/s]\n"
          ]
        },
        {
          "output_type": "stream",
          "name": "stdout",
          "text": [
            "Accuracy:  0.6645502645502646\n"
          ]
        },
        {
          "output_type": "stream",
          "name": "stderr",
          "text": [
            "30it [00:20,  1.47it/s]\n"
          ]
        },
        {
          "output_type": "stream",
          "name": "stdout",
          "text": [
            "Accuracy:  0.6677248677248677\n"
          ]
        },
        {
          "output_type": "stream",
          "name": "stderr",
          "text": [
            "30it [00:20,  1.47it/s]\n"
          ]
        },
        {
          "output_type": "stream",
          "name": "stdout",
          "text": [
            "Accuracy:  0.6613756613756614\n"
          ]
        },
        {
          "output_type": "stream",
          "name": "stderr",
          "text": [
            "30it [00:20,  1.47it/s]\n"
          ]
        },
        {
          "output_type": "stream",
          "name": "stdout",
          "text": [
            "Accuracy:  0.6571428571428571\n"
          ]
        },
        {
          "output_type": "stream",
          "name": "stderr",
          "text": [
            "30it [00:20,  1.47it/s]\n"
          ]
        },
        {
          "output_type": "stream",
          "name": "stdout",
          "text": [
            "Accuracy:  0.671957671957672\n"
          ]
        },
        {
          "output_type": "stream",
          "name": "stderr",
          "text": [
            "30it [00:20,  1.47it/s]\n"
          ]
        },
        {
          "output_type": "stream",
          "name": "stdout",
          "text": [
            "Accuracy:  0.6931216931216931\n"
          ]
        },
        {
          "output_type": "stream",
          "name": "stderr",
          "text": [
            "30it [00:20,  1.47it/s]\n"
          ]
        },
        {
          "output_type": "stream",
          "name": "stdout",
          "text": [
            "Accuracy:  0.6730158730158731\n"
          ]
        },
        {
          "output_type": "stream",
          "name": "stderr",
          "text": [
            "30it [00:20,  1.48it/s]\n"
          ]
        },
        {
          "output_type": "stream",
          "name": "stdout",
          "text": [
            "Accuracy:  0.6582010582010582\n"
          ]
        },
        {
          "output_type": "stream",
          "name": "stderr",
          "text": [
            "30it [00:20,  1.48it/s]\n"
          ]
        },
        {
          "output_type": "stream",
          "name": "stdout",
          "text": [
            "Accuracy:  0.6465608465608466\n"
          ]
        },
        {
          "output_type": "stream",
          "name": "stderr",
          "text": [
            "30it [00:20,  1.48it/s]\n"
          ]
        },
        {
          "output_type": "stream",
          "name": "stdout",
          "text": [
            "Accuracy:  0.6592592592592592\n"
          ]
        },
        {
          "output_type": "stream",
          "name": "stderr",
          "text": [
            "30it [00:20,  1.47it/s]\n"
          ]
        },
        {
          "output_type": "stream",
          "name": "stdout",
          "text": [
            "Accuracy:  0.6698412698412698\n"
          ]
        },
        {
          "output_type": "stream",
          "name": "stderr",
          "text": [
            "30it [00:20,  1.47it/s]\n"
          ]
        },
        {
          "output_type": "stream",
          "name": "stdout",
          "text": [
            "Accuracy:  0.6867724867724868\n"
          ]
        },
        {
          "output_type": "stream",
          "name": "stderr",
          "text": [
            "30it [00:20,  1.47it/s]\n"
          ]
        },
        {
          "output_type": "stream",
          "name": "stdout",
          "text": [
            "Accuracy:  0.6867724867724868\n"
          ]
        },
        {
          "output_type": "stream",
          "name": "stderr",
          "text": [
            "30it [00:20,  1.47it/s]\n"
          ]
        },
        {
          "output_type": "stream",
          "name": "stdout",
          "text": [
            "Accuracy:  0.6708994708994709\n"
          ]
        },
        {
          "output_type": "stream",
          "name": "stderr",
          "text": [
            "30it [00:20,  1.48it/s]\n"
          ]
        },
        {
          "output_type": "stream",
          "name": "stdout",
          "text": [
            "Accuracy:  0.6634920634920635\n"
          ]
        },
        {
          "output_type": "stream",
          "name": "stderr",
          "text": [
            "30it [00:20,  1.47it/s]\n"
          ]
        },
        {
          "output_type": "stream",
          "name": "stdout",
          "text": [
            "Accuracy:  0.6708994708994709\n"
          ]
        },
        {
          "output_type": "stream",
          "name": "stderr",
          "text": [
            "30it [00:20,  1.47it/s]\n"
          ]
        },
        {
          "output_type": "stream",
          "name": "stdout",
          "text": [
            "Accuracy:  0.6624338624338625\n"
          ]
        },
        {
          "output_type": "stream",
          "name": "stderr",
          "text": [
            "30it [00:20,  1.47it/s]\n"
          ]
        },
        {
          "output_type": "stream",
          "name": "stdout",
          "text": [
            "Accuracy:  0.6592592592592592\n"
          ]
        },
        {
          "output_type": "stream",
          "name": "stderr",
          "text": [
            "30it [00:20,  1.47it/s]\n"
          ]
        },
        {
          "output_type": "stream",
          "name": "stdout",
          "text": [
            "Accuracy:  0.6582010582010582\n"
          ]
        },
        {
          "output_type": "stream",
          "name": "stderr",
          "text": [
            "30it [00:20,  1.47it/s]\n"
          ]
        },
        {
          "output_type": "stream",
          "name": "stdout",
          "text": [
            "Accuracy:  0.6582010582010582\n"
          ]
        },
        {
          "output_type": "stream",
          "name": "stderr",
          "text": [
            "30it [00:20,  1.47it/s]\n"
          ]
        },
        {
          "output_type": "stream",
          "name": "stdout",
          "text": [
            "Accuracy:  0.6613756613756614\n"
          ]
        },
        {
          "output_type": "stream",
          "name": "stderr",
          "text": [
            "30it [00:20,  1.47it/s]\n"
          ]
        },
        {
          "output_type": "stream",
          "name": "stdout",
          "text": [
            "Accuracy:  0.6677248677248677\n"
          ]
        },
        {
          "output_type": "stream",
          "name": "stderr",
          "text": [
            "30it [00:20,  1.47it/s]\n"
          ]
        },
        {
          "output_type": "stream",
          "name": "stdout",
          "text": [
            "Accuracy:  0.6698412698412698\n"
          ]
        },
        {
          "output_type": "stream",
          "name": "stderr",
          "text": [
            "30it [00:20,  1.47it/s]\n"
          ]
        },
        {
          "output_type": "stream",
          "name": "stdout",
          "text": [
            "Accuracy:  0.6677248677248677\n"
          ]
        },
        {
          "output_type": "stream",
          "name": "stderr",
          "text": [
            "30it [00:20,  1.47it/s]\n",
            "\n",
            "\n",
            "Training completed. Do not forget to share your model on huggingface.co/models =)\n",
            "\n",
            "\n"
          ]
        },
        {
          "output_type": "stream",
          "name": "stdout",
          "text": [
            "Accuracy:  0.6677248677248677\n"
          ]
        },
        {
          "output_type": "stream",
          "name": "stderr",
          "text": [
            "30it [00:20,  1.47it/s]\n"
          ]
        },
        {
          "output_type": "stream",
          "name": "stdout",
          "text": [
            "Accuracy:  0.6677248677248677\n",
            "Training done\n"
          ]
        },
        {
          "output_type": "execute_result",
          "data": {
            "text/plain": [
              "0.7439153439153439"
            ]
          },
          "metadata": {},
          "execution_count": 30
        }
      ]
    },
    {
      "cell_type": "code",
      "source": [
        "!zip -r output_model.zip output_model"
      ],
      "metadata": {
        "colab": {
          "base_uri": "https://localhost:8080/"
        },
        "id": "JbI2Ojtw6bzb",
        "outputId": "b0e6f0c6-b57b-41e6-ba47-c91e3991c509"
      },
      "execution_count": null,
      "outputs": [
        {
          "output_type": "stream",
          "name": "stdout",
          "text": [
            "  adding: output_model/ (stored 0%)\n",
            "  adding: output_model/best/ (stored 0%)\n",
            "  adding: output_model/best/tokenizer.json (deflated 77%)\n",
            "  adding: output_model/best/hyperparams.txt (deflated 33%)\n",
            "  adding: output_model/best/spm.model (deflated 50%)\n",
            "  adding: output_model/best/tokenizer_config.json (deflated 45%)\n",
            "  adding: output_model/best/pytorch_model.bin (deflated 19%)\n",
            "  adding: output_model/best/special_tokens_map.json (deflated 54%)\n",
            "  adding: output_model/best/config.json (deflated 54%)\n",
            "  adding: output_model/best/added_tokens.json (stored 0%)\n"
          ]
        }
      ]
    },
    {
      "cell_type": "code",
      "source": [
        "#https://github.com/mathislucka/kaggle_clrp_1st_place_solution/blob/main/notebooks/04_clrp_training.ipynb"
      ],
      "metadata": {
        "id": "KvzG8FnA6b3T"
      },
      "execution_count": null,
      "outputs": []
    },
    {
      "cell_type": "code",
      "source": [
        "from torch.quantization import quantize_dynamic\n",
        "model_ckpt = \"/content/output_model/best\"\n",
        "tokenizer = AutoTokenizer.from_pretrained(model_ckpt)\n",
        "model = AutoModelForSequenceClassification.from_pretrained(model_ckpt)\n",
        "model_quantized = quantize_dynamic(model, {nn.Linear}, dtype=torch.qint8)"
      ],
      "metadata": {
        "colab": {
          "base_uri": "https://localhost:8080/"
        },
        "id": "TpW2fc6I6b6r",
        "outputId": "ee7bfa29-fa50-461a-8d2d-9d0f48af7fe8"
      },
      "execution_count": null,
      "outputs": [
        {
          "output_type": "stream",
          "name": "stderr",
          "text": [
            "loading file /content/output_model/best/spm.model\n",
            "loading file /content/output_model/best/tokenizer.json\n",
            "loading file /content/output_model/best/added_tokens.json\n",
            "loading file /content/output_model/best/special_tokens_map.json\n",
            "loading file /content/output_model/best/tokenizer_config.json\n",
            "loading configuration file /content/output_model/best/config.json\n",
            "Model config DebertaV2Config {\n",
            "  \"_name_or_path\": \"/content/output_model/best\",\n",
            "  \"architectures\": [\n",
            "    \"DebertaV2ForSequenceClassification\"\n",
            "  ],\n",
            "  \"attention_probs_dropout_prob\": 0.1,\n",
            "  \"hidden_act\": \"gelu\",\n",
            "  \"hidden_dropout_prob\": 0.1,\n",
            "  \"hidden_size\": 768,\n",
            "  \"id2label\": {\n",
            "    \"0\": \"LABEL_0\",\n",
            "    \"1\": \"LABEL_1\",\n",
            "    \"2\": \"LABEL_2\"\n",
            "  },\n",
            "  \"initializer_range\": 0.02,\n",
            "  \"intermediate_size\": 3072,\n",
            "  \"label2id\": {\n",
            "    \"LABEL_0\": 0,\n",
            "    \"LABEL_1\": 1,\n",
            "    \"LABEL_2\": 2\n",
            "  },\n",
            "  \"layer_norm_eps\": 1e-07,\n",
            "  \"max_position_embeddings\": 512,\n",
            "  \"max_relative_positions\": -1,\n",
            "  \"model_type\": \"deberta-v2\",\n",
            "  \"norm_rel_ebd\": \"layer_norm\",\n",
            "  \"num_attention_heads\": 12,\n",
            "  \"num_hidden_layers\": 12,\n",
            "  \"pad_token_id\": 0,\n",
            "  \"pooler_dropout\": 0,\n",
            "  \"pooler_hidden_act\": \"gelu\",\n",
            "  \"pooler_hidden_size\": 768,\n",
            "  \"pos_att_type\": [\n",
            "    \"p2c\",\n",
            "    \"c2p\"\n",
            "  ],\n",
            "  \"position_biased_input\": false,\n",
            "  \"position_buckets\": 256,\n",
            "  \"relative_attention\": true,\n",
            "  \"share_att_key\": true,\n",
            "  \"torch_dtype\": \"float32\",\n",
            "  \"transformers_version\": \"4.21.2\",\n",
            "  \"type_vocab_size\": 0,\n",
            "  \"vocab_size\": 128100\n",
            "}\n",
            "\n",
            "loading weights file /content/output_model/best/pytorch_model.bin\n",
            "All model checkpoint weights were used when initializing DebertaV2ForSequenceClassification.\n",
            "\n",
            "All the weights of DebertaV2ForSequenceClassification were initialized from the model checkpoint at /content/output_model/best.\n",
            "If your task is similar to the task the model of the checkpoint was trained on, you can already use DebertaV2ForSequenceClassification for predictions without further training.\n"
          ]
        }
      ]
    },
    {
      "cell_type": "code",
      "source": [
        "save_dir = os.path.join('/content', 'quantized')\n",
        "#model_quantized.save_pretrained(save_dir)\n",
        "torch.save(model_quantized.state_dict(), \"/content/quantized/quantized_model.bin\")"
      ],
      "metadata": {
        "id": "-Rx4E4yw6b-H"
      },
      "execution_count": null,
      "outputs": []
    },
    {
      "cell_type": "code",
      "source": [
        "text=\"Temporality is obviously an organised structure, and these three so-called elements of time: past, present, future, must not be envisaged as a collection of 'data' to be added together...but as the structured moments of an original synthesis. Otherwise we shall immediately meet with this paradox: the past is no longer, the future is not yet, as for the instantaneous present, everyone knows that it is not at all: it is the limit of infinite division, like the dimensionless point.\""
      ],
      "metadata": {
        "id": "_f-07Bv06cEM"
      },
      "execution_count": null,
      "outputs": []
    },
    {
      "cell_type": "code",
      "source": [
        "tokenizer = AutoTokenizer.from_pretrained('/content/output_model/best')"
      ],
      "metadata": {
        "colab": {
          "base_uri": "https://localhost:8080/"
        },
        "id": "o8ND5Uam6cHz",
        "outputId": "1f23c731-80b8-4946-e875-d1a355917796"
      },
      "execution_count": null,
      "outputs": [
        {
          "output_type": "stream",
          "name": "stderr",
          "text": [
            "loading file /content/output_model/best/spm.model\n",
            "loading file /content/output_model/best/tokenizer.json\n",
            "loading file /content/output_model/best/added_tokens.json\n",
            "loading file /content/output_model/best/special_tokens_map.json\n",
            "loading file /content/output_model/best/tokenizer_config.json\n"
          ]
        }
      ]
    },
    {
      "cell_type": "code",
      "source": [
        "inputs=tokenizer([text], return_tensors=\"pt\")"
      ],
      "metadata": {
        "id": "Q9h9zDWb6cLl"
      },
      "execution_count": null,
      "outputs": []
    },
    {
      "cell_type": "code",
      "source": [
        "#device = torch.device('cuda' if torch.cuda.is_available() else 'cpu')\n",
        "model_quantized=model_quantized.to(\"cpu\")\n",
        "inputs=inputs.to(\"cpu\")\n",
        "model_quantized(**inputs)\n",
        "#predictions = outputs.logits.argmax(-1)"
      ],
      "metadata": {
        "colab": {
          "base_uri": "https://localhost:8080/"
        },
        "id": "7nOhRSU16cO4",
        "outputId": "18838e7a-7dbc-462f-e70c-71c532c7e5d6"
      },
      "execution_count": null,
      "outputs": [
        {
          "output_type": "execute_result",
          "data": {
            "text/plain": [
              "SequenceClassifierOutput(loss=None, logits=tensor([[-0.6772,  2.1413, -1.1826]]), hidden_states=None, attentions=None)"
            ]
          },
          "metadata": {},
          "execution_count": 40
        }
      ]
    },
    {
      "cell_type": "code",
      "source": [
        "#NotImplementedError: Could not run 'quantized::linear_dynamic' with arguments from the 'CUDA' backend. \n",
        "#This could be because the operator doesn't exist for this backend, or was omitted during the selective/custom \n",
        "#build process (if using custom build). If you are a Facebook employee using PyTorch on mobile, \n",
        "#please visit https://fburl.com/ptmfixes"
      ],
      "metadata": {
        "id": "IG6Oc1Ii6cSC"
      },
      "execution_count": null,
      "outputs": []
    },
    {
      "cell_type": "code",
      "source": [
        "model_quantized(**inputs).logits.argmax(-1).detach().numpy()[0]"
      ],
      "metadata": {
        "colab": {
          "base_uri": "https://localhost:8080/"
        },
        "id": "goBsywOr5VzE",
        "outputId": "1dea8960-40d9-4b96-eb4b-5f171c3a9051"
      },
      "execution_count": null,
      "outputs": [
        {
          "output_type": "execute_result",
          "data": {
            "text/plain": [
              "1"
            ]
          },
          "metadata": {},
          "execution_count": 43
        }
      ]
    },
    {
      "cell_type": "code",
      "source": [
        "!zip -r quantized_model.zip quantized"
      ],
      "metadata": {
        "colab": {
          "base_uri": "https://localhost:8080/"
        },
        "id": "-yaKAKaa5V1-",
        "outputId": "3975f107-c645-4fc2-bf27-bf6f4535e621"
      },
      "execution_count": null,
      "outputs": [
        {
          "output_type": "stream",
          "name": "stdout",
          "text": [
            "  adding: quantized/ (stored 0%)\n",
            "  adding: quantized/quantized_model.bin (deflated 33%)\n",
            "  adding: quantized/config.json (deflated 54%)\n"
          ]
        }
      ]
    },
    {
      "cell_type": "code",
      "source": [
        "model_ckpt1 = \"/content/output_model/best\"\n",
        "model_ckpt2 = \"/content/quantized\"\n",
        "tokenizer2 = AutoTokenizer.from_pretrained(model_ckpt)\n",
        "model_q = AutoModelForSequenceClassification.from_pretrained(model_ckpt2)\n",
        "\n",
        "#Error no file named pytorch_model.bin, \n",
        "#tf_model.h5, model.ckpt.index or \n",
        "#flax_model.msgpack found in directory /content/quantized."
      ],
      "metadata": {
        "colab": {
          "base_uri": "https://localhost:8080/"
        },
        "id": "V8w0u_-b5V5n",
        "outputId": "14093f01-d379-46bd-d1e5-e7f5a40490b7"
      },
      "execution_count": null,
      "outputs": [
        {
          "output_type": "stream",
          "name": "stderr",
          "text": [
            "loading file /content/output_model/best/spm.model\n",
            "loading file /content/output_model/best/tokenizer.json\n",
            "loading file /content/output_model/best/added_tokens.json\n",
            "loading file /content/output_model/best/special_tokens_map.json\n",
            "loading file /content/output_model/best/tokenizer_config.json\n",
            "loading configuration file /content/quantized/config.json\n",
            "Model config DebertaV2Config {\n",
            "  \"_name_or_path\": \"/content/quantized\",\n",
            "  \"architectures\": [\n",
            "    \"DebertaV2ForSequenceClassification\"\n",
            "  ],\n",
            "  \"attention_probs_dropout_prob\": 0.1,\n",
            "  \"hidden_act\": \"gelu\",\n",
            "  \"hidden_dropout_prob\": 0.1,\n",
            "  \"hidden_size\": 768,\n",
            "  \"id2label\": {\n",
            "    \"0\": \"LABEL_0\",\n",
            "    \"1\": \"LABEL_1\",\n",
            "    \"2\": \"LABEL_2\"\n",
            "  },\n",
            "  \"initializer_range\": 0.02,\n",
            "  \"intermediate_size\": 3072,\n",
            "  \"label2id\": {\n",
            "    \"LABEL_0\": 0,\n",
            "    \"LABEL_1\": 1,\n",
            "    \"LABEL_2\": 2\n",
            "  },\n",
            "  \"layer_norm_eps\": 1e-07,\n",
            "  \"max_position_embeddings\": 512,\n",
            "  \"max_relative_positions\": -1,\n",
            "  \"model_type\": \"deberta-v2\",\n",
            "  \"norm_rel_ebd\": \"layer_norm\",\n",
            "  \"num_attention_heads\": 12,\n",
            "  \"num_hidden_layers\": 12,\n",
            "  \"pad_token_id\": 0,\n",
            "  \"pooler_dropout\": 0,\n",
            "  \"pooler_hidden_act\": \"gelu\",\n",
            "  \"pooler_hidden_size\": 768,\n",
            "  \"pos_att_type\": [\n",
            "    \"p2c\",\n",
            "    \"c2p\"\n",
            "  ],\n",
            "  \"position_biased_input\": false,\n",
            "  \"position_buckets\": 256,\n",
            "  \"relative_attention\": true,\n",
            "  \"share_att_key\": true,\n",
            "  \"torch_dtype\": \"float32\",\n",
            "  \"transformers_version\": \"4.21.2\",\n",
            "  \"type_vocab_size\": 0,\n",
            "  \"vocab_size\": 128100\n",
            "}\n",
            "\n",
            "loading weights file /content/quantized/pytorch_model.bin\n",
            "Some weights of the model checkpoint at /content/quantized were not used when initializing DebertaV2ForSequenceClassification: ['deberta.encoder.layer.10.output.dense._packed_params.dtype', 'deberta.encoder.layer.2.attention.self.key_proj._packed_params._packed_params', 'deberta.encoder.layer.6.attention.self.value_proj._packed_params._packed_params', 'deberta.encoder.layer.11.attention.self.value_proj._packed_params._packed_params', 'deberta.encoder.layer.5.output.dense._packed_params._packed_params', 'deberta.encoder.layer.0.attention.self.value_proj.scale', 'deberta.encoder.layer.5.output.dense.scale', 'deberta.encoder.layer.9.intermediate.dense._packed_params._packed_params', 'deberta.encoder.layer.1.output.dense.scale', 'deberta.encoder.layer.5.attention.self.query_proj._packed_params._packed_params', 'deberta.encoder.layer.0.intermediate.dense.scale', 'deberta.encoder.layer.1.intermediate.dense.scale', 'deberta.encoder.layer.5.attention.output.dense._packed_params.dtype', 'deberta.encoder.layer.0.output.dense.scale', 'deberta.encoder.layer.9.output.dense._packed_params.dtype', 'deberta.encoder.layer.9.attention.self.key_proj.zero_point', 'deberta.encoder.layer.1.attention.self.key_proj._packed_params._packed_params', 'deberta.encoder.layer.7.attention.self.query_proj.scale', 'deberta.encoder.layer.10.attention.output.dense.scale', 'deberta.encoder.layer.10.output.dense.zero_point', 'deberta.encoder.layer.5.intermediate.dense._packed_params._packed_params', 'deberta.encoder.layer.4.attention.self.key_proj.zero_point', 'deberta.encoder.layer.6.attention.self.key_proj._packed_params.dtype', 'deberta.encoder.layer.9.attention.self.value_proj.zero_point', 'deberta.encoder.layer.1.attention.self.query_proj.zero_point', 'deberta.encoder.layer.10.attention.self.value_proj.zero_point', 'deberta.encoder.layer.0.attention.self.value_proj.zero_point', 'deberta.encoder.layer.2.attention.self.value_proj.scale', 'deberta.encoder.layer.4.attention.self.value_proj.zero_point', 'deberta.encoder.layer.3.output.dense.zero_point', 'deberta.encoder.layer.5.attention.self.query_proj._packed_params.dtype', 'deberta.encoder.layer.2.intermediate.dense._packed_params._packed_params', 'deberta.encoder.layer.1.attention.self.value_proj.scale', 'deberta.encoder.layer.3.attention.self.query_proj.zero_point', 'deberta.encoder.layer.10.attention.self.key_proj._packed_params.dtype', 'deberta.encoder.layer.10.intermediate.dense._packed_params._packed_params', 'deberta.encoder.layer.11.output.dense._packed_params.dtype', 'deberta.encoder.layer.11.attention.output.dense.zero_point', 'deberta.encoder.layer.6.attention.self.query_proj._packed_params.dtype', 'deberta.encoder.layer.5.output.dense._packed_params.dtype', 'deberta.encoder.layer.9.attention.self.value_proj._packed_params.dtype', 'deberta.encoder.layer.8.output.dense.scale', 'deberta.encoder.layer.10.attention.self.query_proj.scale', 'deberta.encoder.layer.7.intermediate.dense._packed_params._packed_params', 'deberta.encoder.layer.11.attention.self.value_proj.scale', 'deberta.encoder.layer.5.attention.self.query_proj.zero_point', 'deberta.encoder.layer.11.intermediate.dense._packed_params._packed_params', 'deberta.encoder.layer.2.attention.output.dense.zero_point', 'deberta.encoder.layer.8.attention.output.dense.scale', 'pooler.dense.scale', 'deberta.encoder.layer.4.attention.output.dense._packed_params.dtype', 'deberta.encoder.layer.3.attention.output.dense._packed_params._packed_params', 'deberta.encoder.layer.8.intermediate.dense._packed_params._packed_params', 'deberta.encoder.layer.7.attention.self.query_proj.zero_point', 'deberta.encoder.layer.9.intermediate.dense.scale', 'deberta.encoder.layer.8.attention.self.key_proj.scale', 'deberta.encoder.layer.8.attention.output.dense._packed_params.dtype', 'deberta.encoder.layer.0.attention.self.query_proj.scale', 'deberta.encoder.layer.5.attention.output.dense._packed_params._packed_params', 'deberta.encoder.layer.7.attention.output.dense._packed_params.dtype', 'deberta.encoder.layer.0.attention.self.value_proj._packed_params.dtype', 'deberta.encoder.layer.8.attention.self.query_proj._packed_params.dtype', 'deberta.encoder.layer.7.attention.output.dense.scale', 'deberta.encoder.layer.7.intermediate.dense.scale', 'deberta.encoder.layer.2.attention.output.dense.scale', 'classifier.scale', 'deberta.encoder.layer.0.attention.self.query_proj._packed_params.dtype', 'deberta.encoder.layer.10.attention.output.dense.zero_point', 'classifier._packed_params.dtype', 'deberta.encoder.layer.4.intermediate.dense._packed_params._packed_params', 'deberta.encoder.layer.7.attention.self.query_proj._packed_params._packed_params', 'deberta.encoder.layer.4.output.dense._packed_params._packed_params', 'deberta.encoder.layer.0.attention.self.value_proj._packed_params._packed_params', 'deberta.encoder.layer.10.attention.self.key_proj.scale', 'deberta.encoder.layer.9.intermediate.dense.zero_point', 'deberta.encoder.layer.4.intermediate.dense._packed_params.dtype', 'deberta.encoder.layer.10.attention.output.dense._packed_params._packed_params', 'deberta.encoder.layer.11.attention.self.value_proj._packed_params.dtype', 'deberta.encoder.layer.10.attention.self.value_proj.scale', 'deberta.encoder.layer.4.intermediate.dense.scale', 'deberta.encoder.layer.7.output.dense.scale', 'deberta.encoder.layer.4.attention.self.key_proj._packed_params._packed_params', 'deberta.encoder.layer.1.attention.self.key_proj.zero_point', 'deberta.encoder.layer.5.attention.self.value_proj._packed_params.dtype', 'deberta.encoder.layer.0.attention.self.query_proj.zero_point', 'deberta.encoder.layer.1.attention.self.key_proj.scale', 'deberta.encoder.layer.9.intermediate.dense._packed_params.dtype', 'deberta.encoder.layer.3.output.dense._packed_params.dtype', 'deberta.encoder.layer.6.attention.self.key_proj._packed_params._packed_params', 'deberta.encoder.layer.6.attention.self.query_proj.scale', 'deberta.encoder.layer.6.intermediate.dense.zero_point', 'deberta.encoder.layer.6.intermediate.dense.scale', 'deberta.encoder.layer.4.attention.self.query_proj.scale', 'deberta.encoder.layer.10.attention.self.value_proj._packed_params.dtype', 'deberta.encoder.layer.2.intermediate.dense._packed_params.dtype', 'deberta.encoder.layer.11.attention.output.dense.scale', 'deberta.encoder.layer.0.attention.output.dense.zero_point', 'deberta.encoder.layer.10.attention.self.key_proj.zero_point', 'deberta.encoder.layer.10.intermediate.dense._packed_params.dtype', 'deberta.encoder.layer.5.intermediate.dense.zero_point', 'deberta.encoder.layer.4.attention.self.value_proj.scale', 'deberta.encoder.layer.3.attention.self.key_proj._packed_params._packed_params', 'deberta.encoder.layer.2.attention.self.key_proj.scale', 'deberta.encoder.layer.1.attention.output.dense._packed_params.dtype', 'deberta.encoder.layer.9.attention.self.value_proj.scale', 'classifier.zero_point', 'deberta.encoder.layer.0.attention.self.key_proj._packed_params._packed_params', 'deberta.encoder.layer.11.attention.self.key_proj._packed_params._packed_params', 'deberta.encoder.layer.11.attention.self.key_proj._packed_params.dtype', 'deberta.encoder.layer.8.intermediate.dense.scale', 'deberta.encoder.layer.3.attention.self.value_proj.scale', 'deberta.encoder.layer.8.attention.self.value_proj.zero_point', 'deberta.encoder.layer.5.attention.output.dense.scale', 'deberta.encoder.layer.0.output.dense._packed_params._packed_params', 'deberta.encoder.layer.11.intermediate.dense.zero_point', 'deberta.encoder.layer.1.attention.output.dense._packed_params._packed_params', 'deberta.encoder.layer.4.attention.output.dense.scale', 'deberta.encoder.layer.11.attention.self.value_proj.zero_point', 'deberta.encoder.layer.7.intermediate.dense._packed_params.dtype', 'deberta.encoder.layer.9.attention.output.dense._packed_params.dtype', 'deberta.encoder.layer.4.attention.self.value_proj._packed_params.dtype', 'deberta.encoder.layer.4.attention.self.value_proj._packed_params._packed_params', 'deberta.encoder.layer.1.output.dense._packed_params.dtype', 'deberta.encoder.layer.3.attention.self.key_proj._packed_params.dtype', 'deberta.encoder.layer.5.attention.self.key_proj.zero_point', 'deberta.encoder.layer.8.intermediate.dense.zero_point', 'deberta.encoder.layer.7.attention.self.value_proj._packed_params.dtype', 'deberta.encoder.layer.2.output.dense._packed_params._packed_params', 'deberta.encoder.layer.4.intermediate.dense.zero_point', 'deberta.encoder.layer.3.intermediate.dense.zero_point', 'deberta.encoder.layer.6.intermediate.dense._packed_params._packed_params', 'deberta.encoder.layer.1.attention.self.query_proj._packed_params._packed_params', 'deberta.encoder.layer.9.attention.output.dense.zero_point', 'deberta.encoder.layer.11.output.dense.scale', 'deberta.encoder.layer.8.attention.self.value_proj._packed_params.dtype', 'deberta.encoder.layer.10.attention.self.query_proj._packed_params.dtype', 'deberta.encoder.layer.7.attention.self.key_proj.scale', 'deberta.encoder.layer.4.attention.self.key_proj.scale', 'deberta.encoder.layer.2.output.dense.zero_point', 'deberta.encoder.layer.3.attention.self.value_proj._packed_params._packed_params', 'deberta.encoder.layer.6.attention.self.query_proj.zero_point', 'deberta.encoder.layer.8.attention.output.dense.zero_point', 'deberta.encoder.layer.3.attention.self.value_proj.zero_point', 'deberta.encoder.layer.4.attention.self.query_proj.zero_point', 'deberta.encoder.layer.2.attention.self.query_proj._packed_params.dtype', 'classifier._packed_params._packed_params', 'deberta.encoder.layer.7.output.dense._packed_params.dtype', 'deberta.encoder.layer.5.attention.self.key_proj.scale', 'deberta.encoder.layer.10.intermediate.dense.scale', 'deberta.encoder.layer.3.attention.self.query_proj._packed_params._packed_params', 'deberta.encoder.layer.3.output.dense._packed_params._packed_params', 'deberta.encoder.layer.1.attention.output.dense.zero_point', 'deberta.encoder.layer.11.intermediate.dense._packed_params.dtype', 'deberta.encoder.layer.4.attention.self.key_proj._packed_params.dtype', 'deberta.encoder.layer.2.intermediate.dense.zero_point', 'deberta.encoder.layer.4.attention.output.dense._packed_params._packed_params', 'deberta.encoder.layer.8.attention.output.dense._packed_params._packed_params', 'deberta.encoder.layer.8.attention.self.value_proj.scale', 'deberta.encoder.layer.3.attention.output.dense._packed_params.dtype', 'deberta.encoder.layer.7.output.dense._packed_params._packed_params', 'deberta.encoder.layer.7.attention.self.value_proj._packed_params._packed_params', 'deberta.encoder.layer.3.attention.self.key_proj.scale', 'deberta.encoder.layer.4.output.dense._packed_params.dtype', 'deberta.encoder.layer.4.output.dense.scale', 'deberta.encoder.layer.6.output.dense._packed_params._packed_params', 'deberta.encoder.layer.11.attention.self.key_proj.scale', 'deberta.encoder.layer.0.output.dense.zero_point', 'deberta.encoder.layer.9.attention.self.query_proj.scale', 'deberta.encoder.layer.0.attention.self.key_proj.zero_point', 'deberta.encoder.layer.6.attention.self.value_proj.zero_point', 'deberta.encoder.layer.2.attention.output.dense._packed_params.dtype', 'deberta.encoder.layer.3.attention.output.dense.zero_point', 'deberta.encoder.layer.8.attention.self.query_proj.zero_point', 'deberta.encoder.layer.10.attention.self.query_proj.zero_point', 'deberta.encoder.layer.0.attention.output.dense._packed_params._packed_params', 'deberta.encoder.layer.8.attention.self.value_proj._packed_params._packed_params', 'deberta.encoder.layer.2.attention.self.value_proj.zero_point', 'deberta.encoder.layer.8.attention.self.key_proj.zero_point', 'deberta.encoder.layer.11.attention.self.key_proj.zero_point', 'deberta.encoder.layer.10.output.dense.scale', 'deberta.encoder.layer.7.output.dense.zero_point', 'deberta.encoder.layer.0.attention.self.key_proj._packed_params.dtype', 'deberta.encoder.layer.3.output.dense.scale', 'deberta.encoder.layer.6.attention.output.dense.zero_point', 'deberta.encoder.layer.2.attention.self.query_proj._packed_params._packed_params', 'deberta.encoder.layer.0.intermediate.dense._packed_params.dtype', 'deberta.encoder.layer.4.output.dense.zero_point', 'deberta.encoder.layer.6.intermediate.dense._packed_params.dtype', 'deberta.encoder.layer.9.attention.self.value_proj._packed_params._packed_params', 'deberta.encoder.layer.2.attention.self.query_proj.scale', 'deberta.encoder.layer.1.output.dense.zero_point', 'deberta.encoder.layer.3.attention.self.key_proj.zero_point', 'deberta.encoder.layer.8.attention.self.key_proj._packed_params._packed_params', 'deberta.encoder.layer.2.output.dense._packed_params.dtype', 'deberta.encoder.layer.7.attention.self.query_proj._packed_params.dtype', 'deberta.encoder.layer.3.intermediate.dense._packed_params._packed_params', 'deberta.encoder.layer.10.attention.self.query_proj._packed_params._packed_params', 'deberta.encoder.layer.10.attention.self.value_proj._packed_params._packed_params', 'deberta.encoder.layer.10.attention.self.key_proj._packed_params._packed_params', 'deberta.encoder.layer.11.attention.self.query_proj.scale', 'deberta.encoder.layer.5.intermediate.dense.scale', 'deberta.encoder.layer.1.intermediate.dense._packed_params._packed_params', 'deberta.encoder.layer.6.attention.self.value_proj._packed_params.dtype', 'deberta.encoder.layer.8.output.dense.zero_point', 'deberta.encoder.layer.4.attention.output.dense.zero_point', 'deberta.encoder.layer.8.intermediate.dense._packed_params.dtype', 'deberta.encoder.layer.11.output.dense.zero_point', 'deberta.encoder.layer.6.attention.self.query_proj._packed_params._packed_params', 'deberta.encoder.layer.11.attention.output.dense._packed_params.dtype', 'deberta.encoder.layer.7.attention.self.value_proj.scale', 'deberta.encoder.layer.4.attention.self.query_proj._packed_params.dtype', 'deberta.encoder.layer.2.intermediate.dense.scale', 'deberta.encoder.layer.2.attention.self.query_proj.zero_point', 'deberta.encoder.layer.6.attention.output.dense._packed_params._packed_params', 'deberta.encoder.layer.11.attention.self.query_proj.zero_point', 'deberta.encoder.layer.5.attention.self.value_proj.scale', 'deberta.encoder.layer.2.attention.self.key_proj.zero_point', 'pooler.dense._packed_params._packed_params', 'deberta.encoder.layer.9.attention.self.query_proj._packed_params.dtype', 'deberta.encoder.layer.5.attention.self.value_proj.zero_point', 'deberta.encoder.layer.7.attention.self.key_proj._packed_params.dtype', 'deberta.encoder.layer.0.attention.self.query_proj._packed_params._packed_params', 'deberta.encoder.layer.6.attention.self.key_proj.scale', 'deberta.encoder.layer.7.attention.self.key_proj._packed_params._packed_params', 'deberta.encoder.layer.1.attention.self.query_proj._packed_params.dtype', 'deberta.encoder.layer.2.attention.self.key_proj._packed_params.dtype', 'deberta.encoder.layer.7.attention.self.value_proj.zero_point', 'deberta.encoder.layer.3.intermediate.dense._packed_params.dtype', 'deberta.encoder.layer.5.attention.self.value_proj._packed_params._packed_params', 'deberta.encoder.layer.5.attention.self.key_proj._packed_params.dtype', 'deberta.encoder.layer.6.attention.output.dense._packed_params.dtype', 'deberta.encoder.layer.0.intermediate.dense._packed_params._packed_params', 'deberta.encoder.layer.6.output.dense.zero_point', 'deberta.encoder.layer.10.intermediate.dense.zero_point', 'deberta.encoder.layer.6.output.dense.scale', 'deberta.encoder.layer.9.attention.self.query_proj._packed_params._packed_params', 'deberta.encoder.layer.7.attention.self.key_proj.zero_point', 'deberta.encoder.layer.0.intermediate.dense.zero_point', 'deberta.encoder.layer.9.output.dense.zero_point', 'deberta.encoder.layer.11.output.dense._packed_params._packed_params', 'deberta.encoder.layer.9.attention.output.dense.scale', 'deberta.encoder.layer.1.attention.self.value_proj.zero_point', 'deberta.encoder.layer.1.attention.self.query_proj.scale', 'deberta.encoder.layer.9.attention.self.query_proj.zero_point', 'pooler.dense.zero_point', 'deberta.encoder.layer.11.intermediate.dense.scale', 'deberta.encoder.layer.3.attention.output.dense.scale', 'deberta.encoder.layer.1.attention.self.key_proj._packed_params.dtype', 'deberta.encoder.layer.3.attention.self.value_proj._packed_params.dtype', 'deberta.encoder.layer.1.attention.self.value_proj._packed_params._packed_params', 'deberta.encoder.layer.5.attention.self.key_proj._packed_params._packed_params', 'deberta.encoder.layer.8.output.dense._packed_params._packed_params', 'deberta.encoder.layer.0.attention.output.dense._packed_params.dtype', 'deberta.encoder.layer.5.attention.self.query_proj.scale', 'deberta.encoder.layer.8.attention.self.query_proj.scale', 'deberta.encoder.layer.6.attention.output.dense.scale', 'pooler.dense._packed_params.dtype', 'deberta.encoder.layer.7.attention.output.dense._packed_params._packed_params', 'deberta.encoder.layer.11.attention.self.query_proj._packed_params._packed_params', 'deberta.encoder.layer.1.attention.output.dense.scale', 'deberta.encoder.layer.2.attention.self.value_proj._packed_params.dtype', 'deberta.encoder.layer.7.intermediate.dense.zero_point', 'deberta.encoder.layer.9.attention.self.key_proj._packed_params._packed_params', 'deberta.encoder.layer.7.attention.output.dense.zero_point', 'deberta.encoder.layer.9.attention.output.dense._packed_params._packed_params', 'deberta.encoder.layer.3.attention.self.query_proj._packed_params.dtype', 'deberta.encoder.layer.6.attention.self.key_proj.zero_point', 'deberta.encoder.layer.5.intermediate.dense._packed_params.dtype', 'deberta.encoder.layer.5.attention.output.dense.zero_point', 'deberta.encoder.layer.6.attention.self.value_proj.scale', 'deberta.encoder.layer.9.output.dense.scale', 'deberta.encoder.layer.1.intermediate.dense.zero_point', 'deberta.encoder.layer.0.attention.self.key_proj.scale', 'deberta.encoder.layer.2.attention.self.value_proj._packed_params._packed_params', 'deberta.encoder.layer.8.attention.self.key_proj._packed_params.dtype', 'deberta.encoder.layer.2.attention.output.dense._packed_params._packed_params', 'deberta.encoder.layer.3.attention.self.query_proj.scale', 'deberta.encoder.layer.2.output.dense.scale', 'deberta.encoder.layer.3.intermediate.dense.scale', 'deberta.encoder.layer.8.output.dense._packed_params.dtype', 'deberta.encoder.layer.9.attention.self.key_proj._packed_params.dtype', 'deberta.encoder.layer.0.output.dense._packed_params.dtype', 'deberta.encoder.layer.1.output.dense._packed_params._packed_params', 'deberta.encoder.layer.6.output.dense._packed_params.dtype', 'deberta.encoder.layer.9.attention.self.key_proj.scale', 'deberta.encoder.layer.11.attention.output.dense._packed_params._packed_params', 'deberta.encoder.layer.9.output.dense._packed_params._packed_params', 'deberta.encoder.layer.1.intermediate.dense._packed_params.dtype', 'deberta.encoder.layer.4.attention.self.query_proj._packed_params._packed_params', 'deberta.encoder.layer.0.attention.output.dense.scale', 'deberta.encoder.layer.5.output.dense.zero_point', 'deberta.encoder.layer.10.output.dense._packed_params._packed_params', 'deberta.encoder.layer.8.attention.self.query_proj._packed_params._packed_params', 'deberta.encoder.layer.11.attention.self.query_proj._packed_params.dtype', 'deberta.encoder.layer.1.attention.self.value_proj._packed_params.dtype', 'deberta.encoder.layer.10.attention.output.dense._packed_params.dtype']\n",
            "- This IS expected if you are initializing DebertaV2ForSequenceClassification from the checkpoint of a model trained on another task or with another architecture (e.g. initializing a BertForSequenceClassification model from a BertForPreTraining model).\n",
            "- This IS NOT expected if you are initializing DebertaV2ForSequenceClassification from the checkpoint of a model that you expect to be exactly identical (initializing a BertForSequenceClassification model from a BertForSequenceClassification model).\n",
            "Some weights of DebertaV2ForSequenceClassification were not initialized from the model checkpoint at /content/quantized and are newly initialized: ['deberta.encoder.layer.8.attention.self.query_proj.weight', 'deberta.encoder.layer.5.intermediate.dense.weight', 'deberta.encoder.layer.4.output.dense.bias', 'deberta.encoder.layer.5.output.dense.weight', 'deberta.encoder.layer.11.output.dense.weight', 'deberta.encoder.layer.7.attention.self.value_proj.bias', 'deberta.encoder.layer.11.attention.self.value_proj.bias', 'deberta.encoder.layer.9.output.dense.bias', 'deberta.encoder.layer.1.attention.output.dense.bias', 'deberta.encoder.layer.8.attention.output.dense.weight', 'deberta.encoder.layer.4.attention.self.value_proj.weight', 'deberta.encoder.layer.7.attention.self.value_proj.weight', 'deberta.encoder.layer.9.attention.self.value_proj.bias', 'deberta.encoder.layer.0.attention.self.key_proj.weight', 'deberta.encoder.layer.5.attention.self.query_proj.weight', 'deberta.encoder.layer.5.intermediate.dense.bias', 'deberta.encoder.layer.10.attention.output.dense.weight', 'deberta.encoder.layer.2.intermediate.dense.bias', 'deberta.encoder.layer.3.attention.self.value_proj.weight', 'deberta.encoder.layer.8.attention.self.value_proj.weight', 'deberta.encoder.layer.11.attention.output.dense.weight', 'deberta.encoder.layer.0.attention.self.value_proj.bias', 'deberta.encoder.layer.5.output.dense.bias', 'deberta.encoder.layer.7.attention.self.query_proj.weight', 'deberta.encoder.layer.7.output.dense.weight', 'deberta.encoder.layer.9.attention.self.value_proj.weight', 'deberta.encoder.layer.2.intermediate.dense.weight', 'deberta.encoder.layer.1.attention.self.query_proj.bias', 'deberta.encoder.layer.10.attention.self.query_proj.weight', 'deberta.encoder.layer.6.attention.self.value_proj.weight', 'deberta.encoder.layer.1.output.dense.weight', 'deberta.encoder.layer.10.intermediate.dense.weight', 'deberta.encoder.layer.6.attention.output.dense.weight', 'deberta.encoder.layer.6.intermediate.dense.bias', 'deberta.encoder.layer.3.output.dense.weight', 'deberta.encoder.layer.4.intermediate.dense.weight', 'deberta.encoder.layer.8.attention.self.value_proj.bias', 'deberta.encoder.layer.5.attention.output.dense.weight', 'deberta.encoder.layer.8.attention.self.query_proj.bias', 'deberta.encoder.layer.8.intermediate.dense.weight', 'deberta.encoder.layer.5.attention.self.value_proj.bias', 'deberta.encoder.layer.4.output.dense.weight', 'deberta.encoder.layer.7.output.dense.bias', 'deberta.encoder.layer.5.attention.self.key_proj.bias', 'deberta.encoder.layer.6.intermediate.dense.weight', 'deberta.encoder.layer.6.attention.self.key_proj.weight', 'deberta.encoder.layer.0.intermediate.dense.bias', 'pooler.dense.weight', 'deberta.encoder.layer.9.intermediate.dense.bias', 'deberta.encoder.layer.2.attention.self.query_proj.bias', 'deberta.encoder.layer.1.attention.self.value_proj.bias', 'deberta.encoder.layer.3.attention.self.key_proj.weight', 'deberta.encoder.layer.1.intermediate.dense.bias', 'deberta.encoder.layer.6.attention.self.query_proj.weight', 'deberta.encoder.layer.1.attention.self.query_proj.weight', 'deberta.encoder.layer.2.attention.output.dense.weight', 'deberta.encoder.layer.10.attention.self.key_proj.bias', 'deberta.encoder.layer.0.attention.self.key_proj.bias', 'deberta.encoder.layer.9.output.dense.weight', 'deberta.encoder.layer.11.attention.self.value_proj.weight', 'pooler.dense.bias', 'deberta.encoder.layer.9.attention.output.dense.bias', 'deberta.encoder.layer.4.attention.self.key_proj.bias', 'deberta.encoder.layer.0.attention.self.query_proj.weight', 'deberta.encoder.layer.7.attention.self.query_proj.bias', 'classifier.bias', 'deberta.encoder.layer.8.attention.self.key_proj.weight', 'deberta.encoder.layer.1.attention.self.key_proj.weight', 'deberta.encoder.layer.6.attention.self.key_proj.bias', 'deberta.encoder.layer.1.attention.output.dense.weight', 'deberta.encoder.layer.2.attention.self.value_proj.weight', 'deberta.encoder.layer.9.attention.self.query_proj.weight', 'deberta.encoder.layer.7.intermediate.dense.bias', 'deberta.encoder.layer.5.attention.self.key_proj.weight', 'deberta.encoder.layer.3.attention.output.dense.bias', 'deberta.encoder.layer.4.attention.self.value_proj.bias', 'deberta.encoder.layer.3.attention.self.query_proj.weight', 'deberta.encoder.layer.8.attention.self.key_proj.bias', 'deberta.encoder.layer.0.output.dense.weight', 'deberta.encoder.layer.10.attention.output.dense.bias', 'deberta.encoder.layer.0.attention.output.dense.weight', 'deberta.encoder.layer.6.attention.output.dense.bias', 'deberta.encoder.layer.2.attention.self.key_proj.weight', 'deberta.encoder.layer.2.attention.self.value_proj.bias', 'deberta.encoder.layer.6.attention.self.value_proj.bias', 'deberta.encoder.layer.0.attention.output.dense.bias', 'deberta.encoder.layer.7.attention.self.key_proj.weight', 'deberta.encoder.layer.8.attention.output.dense.bias', 'deberta.encoder.layer.4.intermediate.dense.bias', 'deberta.encoder.layer.7.attention.self.key_proj.bias', 'deberta.encoder.layer.8.output.dense.weight', 'deberta.encoder.layer.2.output.dense.bias', 'deberta.encoder.layer.11.attention.output.dense.bias', 'deberta.encoder.layer.11.attention.self.query_proj.weight', 'classifier.weight', 'deberta.encoder.layer.9.attention.self.key_proj.weight', 'deberta.encoder.layer.6.attention.self.query_proj.bias', 'deberta.encoder.layer.4.attention.output.dense.bias', 'deberta.encoder.layer.11.attention.self.key_proj.bias', 'deberta.encoder.layer.0.intermediate.dense.weight', 'deberta.encoder.layer.10.output.dense.bias', 'deberta.encoder.layer.5.attention.self.value_proj.weight', 'deberta.encoder.layer.11.attention.self.query_proj.bias', 'deberta.encoder.layer.4.attention.output.dense.weight', 'deberta.encoder.layer.7.attention.output.dense.bias', 'deberta.encoder.layer.10.attention.self.value_proj.bias', 'deberta.encoder.layer.0.output.dense.bias', 'deberta.encoder.layer.11.intermediate.dense.bias', 'deberta.encoder.layer.2.attention.output.dense.bias', 'deberta.encoder.layer.3.intermediate.dense.bias', 'deberta.encoder.layer.11.output.dense.bias', 'deberta.encoder.layer.1.output.dense.bias', 'deberta.encoder.layer.7.attention.output.dense.weight', 'deberta.encoder.layer.3.attention.self.key_proj.bias', 'deberta.encoder.layer.8.output.dense.bias', 'deberta.encoder.layer.1.attention.self.value_proj.weight', 'deberta.encoder.layer.2.attention.self.key_proj.bias', 'deberta.encoder.layer.3.attention.self.value_proj.bias', 'deberta.encoder.layer.10.attention.self.key_proj.weight', 'deberta.encoder.layer.0.attention.self.value_proj.weight', 'deberta.encoder.layer.3.attention.self.query_proj.bias', 'deberta.encoder.layer.7.intermediate.dense.weight', 'deberta.encoder.layer.2.output.dense.weight', 'deberta.encoder.layer.10.output.dense.weight', 'deberta.encoder.layer.11.attention.self.key_proj.weight', 'deberta.encoder.layer.9.intermediate.dense.weight', 'deberta.encoder.layer.3.output.dense.bias', 'deberta.encoder.layer.9.attention.self.key_proj.bias', 'deberta.encoder.layer.4.attention.self.query_proj.bias', 'deberta.encoder.layer.9.attention.output.dense.weight', 'deberta.encoder.layer.2.attention.self.query_proj.weight', 'deberta.encoder.layer.6.output.dense.weight', 'deberta.encoder.layer.9.attention.self.query_proj.bias', 'deberta.encoder.layer.5.attention.output.dense.bias', 'deberta.encoder.layer.3.intermediate.dense.weight', 'deberta.encoder.layer.4.attention.self.key_proj.weight', 'deberta.encoder.layer.3.attention.output.dense.weight', 'deberta.encoder.layer.4.attention.self.query_proj.weight', 'deberta.encoder.layer.11.intermediate.dense.weight', 'deberta.encoder.layer.10.intermediate.dense.bias', 'deberta.encoder.layer.0.attention.self.query_proj.bias', 'deberta.encoder.layer.6.output.dense.bias', 'deberta.encoder.layer.1.intermediate.dense.weight', 'deberta.encoder.layer.10.attention.self.query_proj.bias', 'deberta.encoder.layer.1.attention.self.key_proj.bias', 'deberta.encoder.layer.5.attention.self.query_proj.bias', 'deberta.encoder.layer.8.intermediate.dense.bias', 'deberta.encoder.layer.10.attention.self.value_proj.weight']\n",
            "You should probably TRAIN this model on a down-stream task to be able to use it for predictions and inference.\n"
          ]
        }
      ]
    },
    {
      "cell_type": "code",
      "source": [
        "model_ckpt=\"/content/drive/MyDrive/PreviouslyStored/text_complexity_best_model\"\n",
        "tokenizer2 = AutoTokenizer.from_pretrained(model_ckpt)\n",
        "model_q = AutoModelForSequenceClassification.from_pretrained(model_ckpt)"
      ],
      "metadata": {
        "colab": {
          "base_uri": "https://localhost:8080/"
        },
        "id": "A8O1_6WwA5La",
        "outputId": "50b0c3cf-8d8d-4fe5-df35-d467ea8f119f"
      },
      "execution_count": null,
      "outputs": [
        {
          "output_type": "stream",
          "name": "stderr",
          "text": [
            "Some weights of the model checkpoint at /content/drive/MyDrive/PreviouslyStored/text_complexity_best_model were not used when initializing DebertaV2ForSequenceClassification: ['deberta.encoder.layer.7.attention.output.dense.scale', 'deberta.encoder.layer.9.output.dense._packed_params._packed_params', 'deberta.encoder.layer.2.attention.output.dense.zero_point', 'deberta.encoder.layer.0.attention.output.dense.zero_point', 'deberta.encoder.layer.6.output.dense.scale', 'deberta.encoder.layer.11.intermediate.dense._packed_params._packed_params', 'deberta.encoder.layer.6.attention.output.dense._packed_params.dtype', 'deberta.encoder.layer.7.attention.self.value_proj._packed_params.dtype', 'deberta.encoder.layer.11.output.dense._packed_params._packed_params', 'deberta.encoder.layer.7.intermediate.dense._packed_params.dtype', 'deberta.encoder.layer.9.attention.output.dense.scale', 'deberta.encoder.layer.5.attention.self.query_proj.scale', 'deberta.encoder.layer.2.attention.self.value_proj._packed_params.dtype', 'deberta.encoder.layer.10.intermediate.dense._packed_params._packed_params', 'deberta.encoder.layer.4.attention.output.dense.scale', 'deberta.encoder.layer.5.intermediate.dense._packed_params.dtype', 'deberta.encoder.layer.6.intermediate.dense._packed_params.dtype', 'deberta.encoder.layer.4.intermediate.dense._packed_params.dtype', 'deberta.encoder.layer.11.intermediate.dense.scale', 'deberta.encoder.layer.1.attention.self.key_proj.zero_point', 'deberta.encoder.layer.10.attention.self.key_proj._packed_params.dtype', 'deberta.encoder.layer.11.output.dense.zero_point', 'deberta.encoder.layer.2.attention.self.value_proj._packed_params._packed_params', 'deberta.encoder.layer.5.attention.self.key_proj._packed_params._packed_params', 'deberta.encoder.layer.8.attention.self.value_proj._packed_params.dtype', 'deberta.encoder.layer.5.attention.output.dense._packed_params.dtype', 'deberta.encoder.layer.6.attention.self.query_proj.zero_point', 'deberta.encoder.layer.7.output.dense.scale', 'deberta.encoder.layer.9.intermediate.dense.zero_point', 'deberta.encoder.layer.3.attention.output.dense._packed_params._packed_params', 'pooler.dense._packed_params._packed_params', 'deberta.encoder.layer.11.output.dense.scale', 'deberta.encoder.layer.4.attention.output.dense._packed_params.dtype', 'deberta.encoder.layer.10.attention.self.query_proj.zero_point', 'deberta.encoder.layer.1.intermediate.dense.scale', 'deberta.encoder.layer.8.attention.output.dense._packed_params.dtype', 'deberta.encoder.layer.2.intermediate.dense._packed_params.dtype', 'deberta.encoder.layer.5.attention.output.dense.scale', 'deberta.encoder.layer.7.attention.self.query_proj.scale', 'deberta.encoder.layer.7.attention.self.query_proj.zero_point', 'deberta.encoder.layer.1.output.dense.scale', 'deberta.encoder.layer.0.intermediate.dense._packed_params._packed_params', 'deberta.encoder.layer.11.attention.output.dense.scale', 'deberta.encoder.layer.6.attention.output.dense._packed_params._packed_params', 'deberta.encoder.layer.7.attention.self.query_proj._packed_params.dtype', 'deberta.encoder.layer.7.attention.self.key_proj._packed_params.dtype', 'deberta.encoder.layer.4.intermediate.dense.scale', 'deberta.encoder.layer.1.output.dense._packed_params._packed_params', 'deberta.encoder.layer.3.attention.self.value_proj.scale', 'deberta.encoder.layer.8.output.dense.zero_point', 'deberta.encoder.layer.9.attention.self.value_proj.zero_point', 'classifier._packed_params._packed_params', 'deberta.encoder.layer.0.output.dense._packed_params.dtype', 'deberta.encoder.layer.8.attention.output.dense.zero_point', 'deberta.encoder.layer.4.attention.self.query_proj.zero_point', 'deberta.encoder.layer.3.attention.self.query_proj.zero_point', 'deberta.encoder.layer.9.output.dense._packed_params.dtype', 'deberta.encoder.layer.0.attention.output.dense.scale', 'deberta.encoder.layer.1.attention.self.key_proj._packed_params._packed_params', 'deberta.encoder.layer.11.intermediate.dense._packed_params.dtype', 'deberta.encoder.layer.1.attention.output.dense._packed_params._packed_params', 'deberta.encoder.layer.11.output.dense._packed_params.dtype', 'deberta.encoder.layer.3.attention.self.key_proj._packed_params.dtype', 'deberta.encoder.layer.7.attention.self.key_proj._packed_params._packed_params', 'deberta.encoder.layer.8.attention.self.query_proj._packed_params.dtype', 'deberta.encoder.layer.5.attention.self.query_proj.zero_point', 'deberta.encoder.layer.0.attention.self.key_proj.zero_point', 'deberta.encoder.layer.4.attention.self.value_proj.scale', 'deberta.encoder.layer.8.attention.self.query_proj._packed_params._packed_params', 'deberta.encoder.layer.8.output.dense.scale', 'deberta.encoder.layer.6.attention.self.query_proj.scale', 'deberta.encoder.layer.6.attention.self.key_proj._packed_params.dtype', 'deberta.encoder.layer.3.attention.self.value_proj._packed_params.dtype', 'deberta.encoder.layer.5.intermediate.dense.zero_point', 'deberta.encoder.layer.0.output.dense._packed_params._packed_params', 'deberta.encoder.layer.7.intermediate.dense.scale', 'deberta.encoder.layer.8.attention.self.key_proj._packed_params._packed_params', 'deberta.encoder.layer.1.output.dense.zero_point', 'deberta.encoder.layer.3.attention.output.dense._packed_params.dtype', 'deberta.encoder.layer.0.attention.self.value_proj._packed_params._packed_params', 'deberta.encoder.layer.3.output.dense.zero_point', 'deberta.encoder.layer.11.attention.self.query_proj.scale', 'deberta.encoder.layer.8.intermediate.dense.scale', 'deberta.encoder.layer.8.attention.self.query_proj.scale', 'deberta.encoder.layer.8.attention.self.query_proj.zero_point', 'deberta.encoder.layer.1.attention.self.value_proj._packed_params._packed_params', 'deberta.encoder.layer.2.output.dense._packed_params._packed_params', 'deberta.encoder.layer.3.attention.self.key_proj.zero_point', 'deberta.encoder.layer.4.attention.self.key_proj.zero_point', 'deberta.encoder.layer.0.attention.self.query_proj.zero_point', 'deberta.encoder.layer.6.attention.self.query_proj._packed_params.dtype', 'deberta.encoder.layer.1.output.dense._packed_params.dtype', 'deberta.encoder.layer.8.output.dense._packed_params.dtype', 'deberta.encoder.layer.2.attention.output.dense.scale', 'deberta.encoder.layer.4.attention.output.dense.zero_point', 'deberta.encoder.layer.9.intermediate.dense._packed_params._packed_params', 'deberta.encoder.layer.10.intermediate.dense.zero_point', 'deberta.encoder.layer.3.attention.self.key_proj._packed_params._packed_params', 'deberta.encoder.layer.0.output.dense.scale', 'deberta.encoder.layer.0.attention.self.key_proj.scale', 'deberta.encoder.layer.11.attention.self.query_proj.zero_point', 'deberta.encoder.layer.1.attention.self.value_proj.zero_point', 'deberta.encoder.layer.6.attention.self.query_proj._packed_params._packed_params', 'deberta.encoder.layer.10.output.dense._packed_params.dtype', 'deberta.encoder.layer.11.attention.self.query_proj._packed_params._packed_params', 'deberta.encoder.layer.0.intermediate.dense.scale', 'deberta.encoder.layer.3.output.dense._packed_params._packed_params', 'deberta.encoder.layer.9.attention.self.query_proj._packed_params.dtype', 'deberta.encoder.layer.1.attention.self.key_proj.scale', 'deberta.encoder.layer.10.intermediate.dense.scale', 'deberta.encoder.layer.7.attention.self.key_proj.zero_point', 'deberta.encoder.layer.9.attention.self.key_proj.zero_point', 'deberta.encoder.layer.1.intermediate.dense._packed_params._packed_params', 'deberta.encoder.layer.5.attention.self.query_proj._packed_params.dtype', 'deberta.encoder.layer.2.attention.self.query_proj.scale', 'deberta.encoder.layer.2.attention.self.query_proj._packed_params._packed_params', 'deberta.encoder.layer.8.output.dense._packed_params._packed_params', 'deberta.encoder.layer.6.attention.self.value_proj.scale', 'deberta.encoder.layer.8.attention.output.dense._packed_params._packed_params', 'deberta.encoder.layer.6.output.dense._packed_params._packed_params', 'deberta.encoder.layer.9.attention.self.query_proj._packed_params._packed_params', 'deberta.encoder.layer.1.attention.self.key_proj._packed_params.dtype', 'deberta.encoder.layer.1.attention.self.query_proj._packed_params.dtype', 'deberta.encoder.layer.0.attention.self.key_proj._packed_params._packed_params', 'deberta.encoder.layer.2.attention.self.key_proj._packed_params._packed_params', 'deberta.encoder.layer.8.attention.self.value_proj.zero_point', 'deberta.encoder.layer.10.attention.self.value_proj._packed_params.dtype', 'deberta.encoder.layer.9.attention.output.dense._packed_params._packed_params', 'deberta.encoder.layer.4.output.dense.zero_point', 'deberta.encoder.layer.7.attention.output.dense._packed_params._packed_params', 'deberta.encoder.layer.7.attention.output.dense._packed_params.dtype', 'deberta.encoder.layer.5.attention.self.key_proj._packed_params.dtype', 'deberta.encoder.layer.5.output.dense._packed_params._packed_params', 'pooler.dense._packed_params.dtype', 'deberta.encoder.layer.0.output.dense.zero_point', 'deberta.encoder.layer.6.attention.self.value_proj._packed_params._packed_params', 'deberta.encoder.layer.9.attention.self.value_proj._packed_params.dtype', 'deberta.encoder.layer.2.attention.self.key_proj.scale', 'deberta.encoder.layer.4.output.dense.scale', 'deberta.encoder.layer.1.attention.self.value_proj._packed_params.dtype', 'deberta.encoder.layer.3.attention.self.query_proj._packed_params._packed_params', 'deberta.encoder.layer.9.attention.self.value_proj.scale', 'deberta.encoder.layer.1.attention.self.query_proj.zero_point', 'classifier.zero_point', 'deberta.encoder.layer.8.attention.self.value_proj.scale', 'deberta.encoder.layer.2.output.dense._packed_params.dtype', 'deberta.encoder.layer.4.output.dense._packed_params.dtype', 'deberta.encoder.layer.10.attention.output.dense._packed_params._packed_params', 'deberta.encoder.layer.8.attention.self.key_proj.zero_point', 'deberta.encoder.layer.11.attention.self.value_proj._packed_params.dtype', 'deberta.encoder.layer.11.attention.self.value_proj.scale', 'deberta.encoder.layer.2.attention.self.key_proj.zero_point', 'deberta.encoder.layer.11.attention.output.dense._packed_params.dtype', 'deberta.encoder.layer.10.attention.self.query_proj._packed_params.dtype', 'deberta.encoder.layer.4.attention.self.query_proj._packed_params._packed_params', 'deberta.encoder.layer.8.attention.self.key_proj.scale', 'deberta.encoder.layer.7.output.dense._packed_params.dtype', 'deberta.encoder.layer.11.attention.self.key_proj.zero_point', 'deberta.encoder.layer.0.attention.self.value_proj._packed_params.dtype', 'deberta.encoder.layer.4.attention.output.dense._packed_params._packed_params', 'deberta.encoder.layer.4.attention.self.value_proj.zero_point', 'deberta.encoder.layer.11.attention.self.key_proj._packed_params.dtype', 'deberta.encoder.layer.3.attention.self.value_proj.zero_point', 'deberta.encoder.layer.1.attention.output.dense.scale', 'deberta.encoder.layer.5.attention.self.value_proj.zero_point', 'deberta.encoder.layer.2.attention.self.query_proj.zero_point', 'deberta.encoder.layer.2.output.dense.scale', 'deberta.encoder.layer.7.attention.self.value_proj.zero_point', 'deberta.encoder.layer.9.attention.self.key_proj._packed_params.dtype', 'deberta.encoder.layer.4.attention.self.value_proj._packed_params._packed_params', 'deberta.encoder.layer.5.attention.output.dense.zero_point', 'deberta.encoder.layer.2.intermediate.dense._packed_params._packed_params', 'deberta.encoder.layer.5.attention.self.value_proj._packed_params._packed_params', 'deberta.encoder.layer.10.attention.output.dense.scale', 'pooler.dense.scale', 'deberta.encoder.layer.3.output.dense._packed_params.dtype', 'deberta.encoder.layer.2.output.dense.zero_point', 'deberta.encoder.layer.6.intermediate.dense.zero_point', 'deberta.encoder.layer.5.output.dense.scale', 'deberta.encoder.layer.10.output.dense.scale', 'deberta.encoder.layer.10.attention.output.dense._packed_params.dtype', 'deberta.encoder.layer.5.output.dense.zero_point', 'deberta.encoder.layer.7.intermediate.dense.zero_point', 'deberta.encoder.layer.7.output.dense.zero_point', 'deberta.encoder.layer.2.attention.self.value_proj.zero_point', 'deberta.encoder.layer.4.attention.self.key_proj.scale', 'deberta.encoder.layer.5.attention.self.query_proj._packed_params._packed_params', 'deberta.encoder.layer.2.attention.output.dense._packed_params._packed_params', 'deberta.encoder.layer.0.attention.self.key_proj._packed_params.dtype', 'deberta.encoder.layer.6.attention.self.value_proj.zero_point', 'deberta.encoder.layer.1.attention.self.query_proj._packed_params._packed_params', 'deberta.encoder.layer.3.intermediate.dense._packed_params.dtype', 'deberta.encoder.layer.6.attention.output.dense.zero_point', 'deberta.encoder.layer.9.attention.self.value_proj._packed_params._packed_params', 'deberta.encoder.layer.10.attention.self.key_proj._packed_params._packed_params', 'pooler.dense.zero_point', 'deberta.encoder.layer.11.attention.output.dense.zero_point', 'deberta.encoder.layer.7.attention.self.query_proj._packed_params._packed_params', 'deberta.encoder.layer.3.attention.output.dense.zero_point', 'deberta.encoder.layer.3.attention.output.dense.scale', 'deberta.encoder.layer.10.attention.self.value_proj._packed_params._packed_params', 'deberta.encoder.layer.0.attention.output.dense._packed_params.dtype', 'deberta.encoder.layer.9.attention.output.dense.zero_point', 'deberta.encoder.layer.2.attention.self.query_proj._packed_params.dtype', 'deberta.encoder.layer.6.attention.self.key_proj.zero_point', 'deberta.encoder.layer.8.attention.self.value_proj._packed_params._packed_params', 'deberta.encoder.layer.5.attention.output.dense._packed_params._packed_params', 'deberta.encoder.layer.11.attention.self.key_proj._packed_params._packed_params', 'deberta.encoder.layer.1.intermediate.dense._packed_params.dtype', 'deberta.encoder.layer.5.attention.self.key_proj.scale', 'deberta.encoder.layer.5.intermediate.dense._packed_params._packed_params', 'deberta.encoder.layer.5.attention.self.value_proj._packed_params.dtype', 'deberta.encoder.layer.2.intermediate.dense.zero_point', 'deberta.encoder.layer.4.output.dense._packed_params._packed_params', 'deberta.encoder.layer.5.intermediate.dense.scale', 'deberta.encoder.layer.3.intermediate.dense._packed_params._packed_params', 'classifier.scale', 'deberta.encoder.layer.10.attention.self.value_proj.scale', 'deberta.encoder.layer.6.attention.output.dense.scale', 'deberta.encoder.layer.5.output.dense._packed_params.dtype', 'deberta.encoder.layer.3.output.dense.scale', 'deberta.encoder.layer.1.attention.self.value_proj.scale', 'deberta.encoder.layer.9.attention.self.key_proj._packed_params._packed_params', 'deberta.encoder.layer.9.intermediate.dense.scale', 'deberta.encoder.layer.10.output.dense._packed_params._packed_params', 'deberta.encoder.layer.11.attention.self.value_proj._packed_params._packed_params', 'deberta.encoder.layer.10.attention.self.key_proj.zero_point', 'deberta.encoder.layer.9.output.dense.zero_point', 'deberta.encoder.layer.10.intermediate.dense._packed_params.dtype', 'deberta.encoder.layer.5.attention.self.value_proj.scale', 'deberta.encoder.layer.10.attention.self.key_proj.scale', 'deberta.encoder.layer.7.intermediate.dense._packed_params._packed_params', 'deberta.encoder.layer.4.attention.self.key_proj._packed_params.dtype', 'deberta.encoder.layer.10.attention.output.dense.zero_point', 'deberta.encoder.layer.3.attention.self.value_proj._packed_params._packed_params', 'deberta.encoder.layer.0.attention.self.query_proj._packed_params.dtype', 'deberta.encoder.layer.9.attention.self.key_proj.scale', 'deberta.encoder.layer.7.attention.output.dense.zero_point', 'deberta.encoder.layer.0.attention.self.query_proj.scale', 'deberta.encoder.layer.3.intermediate.dense.zero_point', 'deberta.encoder.layer.2.attention.self.value_proj.scale', 'deberta.encoder.layer.6.intermediate.dense._packed_params._packed_params', 'deberta.encoder.layer.4.attention.self.query_proj.scale', 'deberta.encoder.layer.0.attention.self.value_proj.scale', 'deberta.encoder.layer.1.attention.self.query_proj.scale', 'deberta.encoder.layer.0.attention.output.dense._packed_params._packed_params', 'deberta.encoder.layer.11.attention.self.query_proj._packed_params.dtype', 'deberta.encoder.layer.8.attention.self.key_proj._packed_params.dtype', 'deberta.encoder.layer.7.attention.self.value_proj._packed_params._packed_params', 'deberta.encoder.layer.4.attention.self.key_proj._packed_params._packed_params', 'deberta.encoder.layer.6.attention.self.key_proj._packed_params._packed_params', 'deberta.encoder.layer.6.output.dense._packed_params.dtype', 'deberta.encoder.layer.9.attention.self.query_proj.zero_point', 'deberta.encoder.layer.1.intermediate.dense.zero_point', 'deberta.encoder.layer.10.attention.self.value_proj.zero_point', 'deberta.encoder.layer.2.attention.output.dense._packed_params.dtype', 'deberta.encoder.layer.7.output.dense._packed_params._packed_params', 'deberta.encoder.layer.2.intermediate.dense.scale', 'deberta.encoder.layer.3.attention.self.query_proj.scale', 'deberta.encoder.layer.9.attention.output.dense._packed_params.dtype', 'deberta.encoder.layer.0.attention.self.query_proj._packed_params._packed_params', 'classifier._packed_params.dtype', 'deberta.encoder.layer.5.attention.self.key_proj.zero_point', 'deberta.encoder.layer.4.intermediate.dense.zero_point', 'deberta.encoder.layer.9.attention.self.query_proj.scale', 'deberta.encoder.layer.10.attention.self.query_proj._packed_params._packed_params', 'deberta.encoder.layer.10.attention.self.query_proj.scale', 'deberta.encoder.layer.8.attention.output.dense.scale', 'deberta.encoder.layer.4.intermediate.dense._packed_params._packed_params', 'deberta.encoder.layer.7.attention.self.key_proj.scale', 'deberta.encoder.layer.9.intermediate.dense._packed_params.dtype', 'deberta.encoder.layer.8.intermediate.dense._packed_params._packed_params', 'deberta.encoder.layer.3.attention.self.key_proj.scale', 'deberta.encoder.layer.3.intermediate.dense.scale', 'deberta.encoder.layer.6.attention.self.value_proj._packed_params.dtype', 'deberta.encoder.layer.8.intermediate.dense._packed_params.dtype', 'deberta.encoder.layer.11.attention.self.value_proj.zero_point', 'deberta.encoder.layer.10.output.dense.zero_point', 'deberta.encoder.layer.11.attention.output.dense._packed_params._packed_params', 'deberta.encoder.layer.11.intermediate.dense.zero_point', 'deberta.encoder.layer.1.attention.output.dense._packed_params.dtype', 'deberta.encoder.layer.6.intermediate.dense.scale', 'deberta.encoder.layer.8.intermediate.dense.zero_point', 'deberta.encoder.layer.9.output.dense.scale', 'deberta.encoder.layer.0.intermediate.dense._packed_params.dtype', 'deberta.encoder.layer.6.output.dense.zero_point', 'deberta.encoder.layer.0.attention.self.value_proj.zero_point', 'deberta.encoder.layer.0.intermediate.dense.zero_point', 'deberta.encoder.layer.7.attention.self.value_proj.scale', 'deberta.encoder.layer.3.attention.self.query_proj._packed_params.dtype', 'deberta.encoder.layer.4.attention.self.value_proj._packed_params.dtype', 'deberta.encoder.layer.11.attention.self.key_proj.scale', 'deberta.encoder.layer.6.attention.self.key_proj.scale', 'deberta.encoder.layer.1.attention.output.dense.zero_point', 'deberta.encoder.layer.4.attention.self.query_proj._packed_params.dtype', 'deberta.encoder.layer.2.attention.self.key_proj._packed_params.dtype']\n",
            "- This IS expected if you are initializing DebertaV2ForSequenceClassification from the checkpoint of a model trained on another task or with another architecture (e.g. initializing a BertForSequenceClassification model from a BertForPreTraining model).\n",
            "- This IS NOT expected if you are initializing DebertaV2ForSequenceClassification from the checkpoint of a model that you expect to be exactly identical (initializing a BertForSequenceClassification model from a BertForSequenceClassification model).\n",
            "Some weights of DebertaV2ForSequenceClassification were not initialized from the model checkpoint at /content/drive/MyDrive/PreviouslyStored/text_complexity_best_model and are newly initialized: ['deberta.encoder.layer.3.attention.self.key_proj.weight', 'deberta.encoder.layer.6.intermediate.dense.bias', 'deberta.encoder.layer.1.attention.self.key_proj.bias', 'deberta.encoder.layer.9.attention.self.value_proj.weight', 'deberta.encoder.layer.2.attention.self.key_proj.bias', 'deberta.encoder.layer.4.attention.self.query_proj.weight', 'deberta.encoder.layer.4.attention.self.query_proj.bias', 'deberta.encoder.layer.4.attention.self.value_proj.bias', 'deberta.encoder.layer.10.output.dense.weight', 'deberta.encoder.layer.4.attention.output.dense.bias', 'classifier.bias', 'deberta.encoder.layer.3.intermediate.dense.weight', 'deberta.encoder.layer.5.attention.output.dense.bias', 'deberta.encoder.layer.9.attention.self.key_proj.weight', 'deberta.encoder.layer.8.output.dense.weight', 'deberta.encoder.layer.8.attention.output.dense.weight', 'deberta.encoder.layer.0.attention.self.value_proj.weight', 'deberta.encoder.layer.5.output.dense.weight', 'deberta.encoder.layer.1.attention.output.dense.bias', 'deberta.encoder.layer.5.intermediate.dense.weight', 'deberta.encoder.layer.6.output.dense.weight', 'deberta.encoder.layer.1.attention.self.query_proj.bias', 'deberta.encoder.layer.10.attention.self.query_proj.weight', 'deberta.encoder.layer.8.intermediate.dense.weight', 'deberta.encoder.layer.0.attention.self.value_proj.bias', 'deberta.encoder.layer.0.attention.self.query_proj.weight', 'deberta.encoder.layer.5.attention.self.query_proj.bias', 'deberta.encoder.layer.9.output.dense.weight', 'deberta.encoder.layer.6.attention.self.value_proj.weight', 'pooler.dense.bias', 'deberta.encoder.layer.7.attention.self.key_proj.bias', 'deberta.encoder.layer.5.output.dense.bias', 'deberta.encoder.layer.3.attention.output.dense.weight', 'deberta.encoder.layer.4.attention.self.key_proj.bias', 'deberta.encoder.layer.4.intermediate.dense.bias', 'deberta.encoder.layer.8.attention.output.dense.bias', 'deberta.encoder.layer.5.attention.self.value_proj.bias', 'deberta.encoder.layer.2.attention.self.value_proj.bias', 'deberta.encoder.layer.1.attention.output.dense.weight', 'deberta.encoder.layer.6.output.dense.bias', 'deberta.encoder.layer.2.output.dense.weight', 'deberta.encoder.layer.6.attention.self.value_proj.bias', 'deberta.encoder.layer.5.attention.self.key_proj.weight', 'deberta.encoder.layer.5.attention.output.dense.weight', 'deberta.encoder.layer.8.attention.self.key_proj.bias', 'deberta.encoder.layer.5.attention.self.query_proj.weight', 'deberta.encoder.layer.11.attention.self.value_proj.weight', 'deberta.encoder.layer.1.attention.self.key_proj.weight', 'deberta.encoder.layer.4.output.dense.weight', 'deberta.encoder.layer.9.intermediate.dense.weight', 'deberta.encoder.layer.1.attention.self.value_proj.weight', 'deberta.encoder.layer.10.attention.self.query_proj.bias', 'deberta.encoder.layer.1.intermediate.dense.bias', 'deberta.encoder.layer.0.attention.self.key_proj.weight', 'deberta.encoder.layer.8.attention.self.key_proj.weight', 'deberta.encoder.layer.1.intermediate.dense.weight', 'deberta.encoder.layer.10.attention.self.value_proj.bias', 'deberta.encoder.layer.10.intermediate.dense.bias', 'deberta.encoder.layer.2.attention.output.dense.bias', 'deberta.encoder.layer.2.output.dense.bias', 'deberta.encoder.layer.1.output.dense.bias', 'deberta.encoder.layer.9.attention.self.query_proj.weight', 'deberta.encoder.layer.7.attention.output.dense.bias', 'deberta.encoder.layer.2.attention.self.value_proj.weight', 'deberta.encoder.layer.6.attention.self.key_proj.bias', 'deberta.encoder.layer.0.attention.self.query_proj.bias', 'deberta.encoder.layer.11.attention.self.key_proj.bias', 'deberta.encoder.layer.4.attention.output.dense.weight', 'deberta.encoder.layer.6.attention.output.dense.weight', 'deberta.encoder.layer.0.attention.output.dense.weight', 'deberta.encoder.layer.10.attention.self.value_proj.weight', 'deberta.encoder.layer.4.intermediate.dense.weight', 'deberta.encoder.layer.7.attention.self.query_proj.weight', 'deberta.encoder.layer.3.attention.self.value_proj.weight', 'deberta.encoder.layer.6.attention.self.query_proj.bias', 'deberta.encoder.layer.7.output.dense.weight', 'deberta.encoder.layer.1.attention.self.query_proj.weight', 'deberta.encoder.layer.2.attention.self.key_proj.weight', 'deberta.encoder.layer.11.attention.self.key_proj.weight', 'deberta.encoder.layer.10.output.dense.bias', 'deberta.encoder.layer.11.output.dense.weight', 'deberta.encoder.layer.6.attention.self.query_proj.weight', 'deberta.encoder.layer.3.attention.output.dense.bias', 'deberta.encoder.layer.10.attention.self.key_proj.bias', 'deberta.encoder.layer.3.attention.self.query_proj.bias', 'deberta.encoder.layer.3.output.dense.bias', 'deberta.encoder.layer.7.intermediate.dense.weight', 'deberta.encoder.layer.8.attention.self.query_proj.bias', 'deberta.encoder.layer.9.intermediate.dense.bias', 'deberta.encoder.layer.11.intermediate.dense.weight', 'deberta.encoder.layer.11.attention.output.dense.weight', 'deberta.encoder.layer.4.output.dense.bias', 'deberta.encoder.layer.8.attention.self.query_proj.weight', 'deberta.encoder.layer.8.intermediate.dense.bias', 'deberta.encoder.layer.6.attention.self.key_proj.weight', 'deberta.encoder.layer.2.attention.self.query_proj.bias', 'deberta.encoder.layer.1.attention.self.value_proj.bias', 'deberta.encoder.layer.4.attention.self.key_proj.weight', 'pooler.dense.weight', 'deberta.encoder.layer.11.attention.self.query_proj.weight', 'deberta.encoder.layer.8.output.dense.bias', 'deberta.encoder.layer.9.output.dense.bias', 'deberta.encoder.layer.11.attention.output.dense.bias', 'deberta.encoder.layer.2.intermediate.dense.weight', 'deberta.encoder.layer.9.attention.output.dense.weight', 'deberta.encoder.layer.4.attention.self.value_proj.weight', 'deberta.encoder.layer.0.intermediate.dense.bias', 'deberta.encoder.layer.3.attention.self.value_proj.bias', 'deberta.encoder.layer.7.attention.self.value_proj.weight', 'deberta.encoder.layer.3.output.dense.weight', 'deberta.encoder.layer.7.attention.output.dense.weight', 'deberta.encoder.layer.7.intermediate.dense.bias', 'deberta.encoder.layer.10.intermediate.dense.weight', 'deberta.encoder.layer.10.attention.self.key_proj.weight', 'deberta.encoder.layer.7.attention.self.query_proj.bias', 'deberta.encoder.layer.9.attention.self.value_proj.bias', 'deberta.encoder.layer.11.output.dense.bias', 'deberta.encoder.layer.9.attention.self.key_proj.bias', 'classifier.weight', 'deberta.encoder.layer.0.intermediate.dense.weight', 'deberta.encoder.layer.1.output.dense.weight', 'deberta.encoder.layer.5.attention.self.key_proj.bias', 'deberta.encoder.layer.8.attention.self.value_proj.weight', 'deberta.encoder.layer.10.attention.output.dense.bias', 'deberta.encoder.layer.11.attention.self.value_proj.bias', 'deberta.encoder.layer.3.attention.self.key_proj.bias', 'deberta.encoder.layer.5.intermediate.dense.bias', 'deberta.encoder.layer.2.attention.self.query_proj.weight', 'deberta.encoder.layer.5.attention.self.value_proj.weight', 'deberta.encoder.layer.0.attention.self.key_proj.bias', 'deberta.encoder.layer.0.attention.output.dense.bias', 'deberta.encoder.layer.11.intermediate.dense.bias', 'deberta.encoder.layer.11.attention.self.query_proj.bias', 'deberta.encoder.layer.3.intermediate.dense.bias', 'deberta.encoder.layer.0.output.dense.bias', 'deberta.encoder.layer.9.attention.self.query_proj.bias', 'deberta.encoder.layer.2.intermediate.dense.bias', 'deberta.encoder.layer.2.attention.output.dense.weight', 'deberta.encoder.layer.7.attention.self.value_proj.bias', 'deberta.encoder.layer.7.attention.self.key_proj.weight', 'deberta.encoder.layer.6.intermediate.dense.weight', 'deberta.encoder.layer.0.output.dense.weight', 'deberta.encoder.layer.3.attention.self.query_proj.weight', 'deberta.encoder.layer.8.attention.self.value_proj.bias', 'deberta.encoder.layer.6.attention.output.dense.bias', 'deberta.encoder.layer.7.output.dense.bias', 'deberta.encoder.layer.10.attention.output.dense.weight', 'deberta.encoder.layer.9.attention.output.dense.bias']\n",
            "You should probably TRAIN this model on a down-stream task to be able to use it for predictions and inference.\n"
          ]
        }
      ]
    },
    {
      "cell_type": "code",
      "source": [
        "model_ckpt=\"/content/drive/MyDrive/PreviouslyStored/text_complexity_best_model\"\n",
        "tokenizer = AutoTokenizer.from_pretrained(model_ckpt)\n",
        "model = AutoModelForSequenceClassification.from_pretrained(model_ckpt)"
      ],
      "metadata": {
        "id": "lFI-e0MrB5J9"
      },
      "execution_count": null,
      "outputs": []
    },
    {
      "cell_type": "code",
      "source": [
        "text2=\"Some of these people were scientists. They tried to find out which areas have more chances of having an earthquake. People from our village talked to them many times. \""
      ],
      "metadata": {
        "id": "JpBbhdjjWcbR"
      },
      "execution_count": null,
      "outputs": []
    },
    {
      "cell_type": "code",
      "source": [
        "inputs=tokenizer2([text], return_tensors=\"pt\")"
      ],
      "metadata": {
        "id": "ER157pBOBSiB"
      },
      "execution_count": null,
      "outputs": []
    },
    {
      "cell_type": "code",
      "source": [
        "inputs=tokenizer2([text2], return_tensors=\"pt\")"
      ],
      "metadata": {
        "id": "PIJaNLEmWo_H"
      },
      "execution_count": null,
      "outputs": []
    },
    {
      "cell_type": "code",
      "source": [
        "inputs2=tokenizer([text], return_tensors=\"pt\")"
      ],
      "metadata": {
        "id": "8_u2lHVNB-E_"
      },
      "execution_count": null,
      "outputs": []
    },
    {
      "cell_type": "code",
      "source": [
        "model_q=model_q.to(\"cpu\")\n",
        "inputs=inputs.to(\"cpu\")\n",
        "model_q(**inputs)"
      ],
      "metadata": {
        "colab": {
          "base_uri": "https://localhost:8080/"
        },
        "id": "2TVEuxhdBdsQ",
        "outputId": "72242c83-155d-4072-959c-899f0acbf353"
      },
      "execution_count": null,
      "outputs": [
        {
          "output_type": "execute_result",
          "data": {
            "text/plain": [
              "SequenceClassifierOutput(loss=None, logits=tensor([[0.1366, 0.0132, 0.1016]], grad_fn=<AddmmBackward0>), hidden_states=None, attentions=None)"
            ]
          },
          "metadata": {},
          "execution_count": 7
        }
      ]
    },
    {
      "cell_type": "code",
      "source": [
        "model=model.to(\"cpu\")\n",
        "inputs2=inputs.to(\"cpu\")\n",
        "model(**inputs2)"
      ],
      "metadata": {
        "id": "gwo4Uaz7CEPw",
        "outputId": "492afd45-cc3c-4fba-edfb-dd4546844104",
        "colab": {
          "base_uri": "https://localhost:8080/"
        }
      },
      "execution_count": null,
      "outputs": [
        {
          "output_type": "execute_result",
          "data": {
            "text/plain": [
              "SequenceClassifierOutput(loss=None, logits=tensor([[-3.0663, -1.4858,  4.9078]], grad_fn=<AddmmBackward0>), hidden_states=None, attentions=None)"
            ]
          },
          "metadata": {},
          "execution_count": 10
        }
      ]
    },
    {
      "cell_type": "code",
      "source": [
        "model=model.to(\"cpu\")\n",
        "inputs=inputs.to(\"cpu\")\n",
        "model(**inputs)"
      ],
      "metadata": {
        "colab": {
          "base_uri": "https://localhost:8080/"
        },
        "id": "dkrZT3W0WxVN",
        "outputId": "12e90b0c-46a9-4916-e753-21373970a359"
      },
      "execution_count": null,
      "outputs": [
        {
          "output_type": "execute_result",
          "data": {
            "text/plain": [
              "SequenceClassifierOutput(loss=None, logits=tensor([[ 4.1139, -1.7466, -3.4888]], grad_fn=<AddmmBackward0>), hidden_states=None, attentions=None)"
            ]
          },
          "metadata": {},
          "execution_count": 15
        }
      ]
    },
    {
      "cell_type": "code",
      "source": [
        "#right after training\n",
        "model_q=model_q.to(\"cpu\")\n",
        "inputs=inputs.to(\"cpu\")\n",
        "model_q(**inputs)"
      ],
      "metadata": {
        "colab": {
          "base_uri": "https://localhost:8080/"
        },
        "id": "Py-arINRff0-",
        "outputId": "f02da5f8-cf4c-405d-caad-be4423445545"
      },
      "execution_count": null,
      "outputs": [
        {
          "output_type": "execute_result",
          "data": {
            "text/plain": [
              "SequenceClassifierOutput(loss=None, logits=tensor([[-0.0607, -0.0294, -0.0325]], grad_fn=<AddmmBackward0>), hidden_states=None, attentions=None)"
            ]
          },
          "metadata": {},
          "execution_count": 47
        }
      ]
    },
    {
      "cell_type": "code",
      "source": [
        "model_q(**inputs).logits.argmax(-1).detach().numpy()[0]"
      ],
      "metadata": {
        "colab": {
          "base_uri": "https://localhost:8080/"
        },
        "id": "JL2gVhDAff5M",
        "outputId": "c8dd7968-b159-43f6-99be-9a205f27e23a"
      },
      "execution_count": null,
      "outputs": [
        {
          "output_type": "execute_result",
          "data": {
            "text/plain": [
              "1"
            ]
          },
          "metadata": {},
          "execution_count": 48
        }
      ]
    },
    {
      "cell_type": "code",
      "source": [
        "\n",
        "save_dir = os.path.join('/content/drive/MyDrive', 'quantized_complexity_model')\n",
        "#/content/drive/MyDrive\n",
        "#model_quantized.save_pretrained(save_dir)\n",
        "torch.save(model_quantized.state_dict(), \"/content/drive/MyDrive/quantized_complexity_model/pytorch_model.bin\")"
      ],
      "metadata": {
        "id": "FnBQhoRBff9a"
      },
      "execution_count": null,
      "outputs": []
    },
    {
      "cell_type": "code",
      "source": [],
      "metadata": {
        "id": "2EUILSXxfgBo"
      },
      "execution_count": null,
      "outputs": []
    },
    {
      "cell_type": "code",
      "source": [],
      "metadata": {
        "id": "oVcQlcJ_5V83"
      },
      "execution_count": null,
      "outputs": []
    }
  ]
}